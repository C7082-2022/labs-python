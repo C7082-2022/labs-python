{
 "cells": [
  {
   "cell_type": "markdown",
   "id": "8ddb77b2-796a-484c-8acc-c9b282f65b1f",
   "metadata": {},
   "source": [
    "# Lab 05 Loops and automation\n",
    "\n",
    "<br>\n",
    "\n",
    "<center>\n",
    "    \n",
    "<img src=\"img/craiyon-loops.jpg\" alt=\"Spam\" width=\"300\"/> \n",
    "    \n",
    "    Craiyon.com \"Loops and automation\" \n",
    "    \n",
    "</center>    \n",
    "\n",
    "<br>"
   ]
  },
  {
   "cell_type": "markdown",
   "id": "4eb1aff3-759e-4924-afbd-4f22ead4f424",
   "metadata": {},
   "source": [
    "## 1 Objectives\n",
    "\n",
    "Loops are a way to repeatedly execute some code. \n",
    "\n",
    "We'll cover:\n",
    "\n",
    "- for loops\n",
    "\n",
    "- while loops\n",
    "\n",
    "- range()\n",
    "\n",
    "- list comprehensions\n",
    "\n",
    "\n",
    "<br>"
   ]
  },
  {
   "cell_type": "markdown",
   "id": "4689aa01",
   "metadata": {
    "papermill": {
     "duration": 0.02246,
     "end_time": "2021-11-11T14:28:27.722942",
     "exception": false,
     "start_time": "2021-11-11T14:28:27.700482",
     "status": "completed"
    },
    "tags": []
   },
   "source": [
    "## 2 for loops\n",
    "\n",
    "Here's a loop example:"
   ]
  },
  {
   "cell_type": "code",
   "execution_count": 4,
   "id": "64a2bef7",
   "metadata": {
    "papermill": {
     "duration": 0.03863,
     "end_time": "2021-11-11T14:28:27.780345",
     "exception": false,
     "start_time": "2021-11-11T14:28:27.741715",
     "status": "completed"
    },
    "tags": []
   },
   "outputs": [
    {
     "name": "stdout",
     "output_type": "stream",
     "text": [
      "Mercury Venus Earth Mars Jupiter Saturn Uranus Neptune "
     ]
    }
   ],
   "source": [
    "planets = ['Mercury', 'Venus', 'Earth', 'Mars', 'Jupiter', 'Saturn', 'Uranus', 'Neptune']\n",
    "for i in planets:\n",
    "    print(i, end=' ') # print all on same line"
   ]
  },
  {
   "cell_type": "markdown",
   "id": "db636fc8",
   "metadata": {
    "papermill": {
     "duration": 0.018772,
     "end_time": "2021-11-11T14:28:27.818785",
     "exception": false,
     "start_time": "2021-11-11T14:28:27.800013",
     "status": "completed"
    },
    "tags": []
   },
   "source": [
    "<br>\n",
    "\n",
    "The ``for`` loop specifies \n",
    "- the variable name to use (in this case, `i`)\n",
    "- the set of values to loop over (in this case, `planets`)\n",
    "\n",
    "You use the word \"``in``\" to link them together.\n",
    "\n",
    "The object to the right of the \"``in``\" can be any object that supports iteration. Basically, if it can be thought of as a group of things, you can probably loop over it. In addition to lists, we can iterate over the elements of a tuple:"
   ]
  },
  {
   "cell_type": "code",
   "execution_count": 6,
   "id": "43f06893",
   "metadata": {
    "papermill": {
     "duration": 0.033085,
     "end_time": "2021-11-11T14:28:27.870945",
     "exception": false,
     "start_time": "2021-11-11T14:28:27.837860",
     "status": "completed"
    },
    "tags": []
   },
   "outputs": [
    {
     "data": {
      "text/plain": [
       "12"
      ]
     },
     "execution_count": 6,
     "metadata": {},
     "output_type": "execute_result"
    }
   ],
   "source": [
    "# tuple\n",
    "multiplicands = (2, 2, 3)\n",
    "product = 1 # initialize product variable\n",
    "\n",
    "for mult in multiplicands:\n",
    "    product = product * mult\n",
    "    \n",
    "# predict the value before running    \n",
    "product"
   ]
  },
  {
   "cell_type": "markdown",
   "id": "ff6ee254",
   "metadata": {
    "papermill": {
     "duration": 0.019231,
     "end_time": "2021-11-11T14:28:27.909713",
     "exception": false,
     "start_time": "2021-11-11T14:28:27.890482",
     "status": "completed"
    },
    "tags": []
   },
   "source": [
    "You can even loop through each character in a string:"
   ]
  },
  {
   "cell_type": "code",
   "execution_count": 8,
   "id": "d3c4d46d",
   "metadata": {
    "papermill": {
     "duration": 0.030154,
     "end_time": "2021-11-11T14:28:27.960399",
     "exception": false,
     "start_time": "2021-11-11T14:28:27.930245",
     "status": "completed"
    },
    "tags": []
   },
   "outputs": [
    {
     "name": "stdout",
     "output_type": "stream",
     "text": [
      "steganograpHy is the practicE of conceaLing a file, message, image, or video within another fiLe, message, image, Or video.\n",
      "HELLO"
     ]
    }
   ],
   "source": [
    "s = 'steganograpHy is the practicE of conceaLing a file, message, image, or video within another fiLe, message, image, Or video.'\n",
    "msg = ''\n",
    "# print all the uppercase letters in s, one at a time\n",
    "print(s)\n",
    "for char in s:\n",
    "    if char.isupper():\n",
    "        print(char, end='')        "
   ]
  },
  {
   "cell_type": "markdown",
   "id": "26ba243b",
   "metadata": {
    "papermill": {
     "duration": 0.020082,
     "end_time": "2021-11-11T14:28:28.000655",
     "exception": false,
     "start_time": "2021-11-11T14:28:27.980573",
     "status": "completed"
    },
    "tags": []
   },
   "source": [
    "## 3 range()\n",
    "\n",
    "`range()` is a function that returns a sequence of numbers. It turns out to be very useful for writing loops.\n",
    "\n",
    "For example, if we want to repeat some action 5 times:"
   ]
  },
  {
   "cell_type": "code",
   "execution_count": 9,
   "id": "409c662d",
   "metadata": {
    "papermill": {
     "duration": 0.032006,
     "end_time": "2021-11-11T14:28:28.052925",
     "exception": false,
     "start_time": "2021-11-11T14:28:28.020919",
     "status": "completed"
    },
    "tags": []
   },
   "outputs": [
    {
     "name": "stdout",
     "output_type": "stream",
     "text": [
      "All work and no motorcycle riding makes Jack a dull boy. i = 0\n",
      "All work and no motorcycle riding makes Jack a dull boy. i = 1\n",
      "All work and no motorcycle riding makes Jack a dull boy. i = 2\n",
      "All work and no motorcycle riding makes Jack a dull boy. i = 3\n",
      "All work and no motorcycle riding makes Jack a dull boy. i = 4\n"
     ]
    }
   ],
   "source": [
    "for i in range(5):\n",
    "    print(\"All work and no motorcycle riding makes Jack a dull boy. i =\", i)"
   ]
  },
  {
   "cell_type": "markdown",
   "id": "ec9531a4",
   "metadata": {
    "papermill": {
     "duration": 0.020076,
     "end_time": "2021-11-11T14:28:28.094069",
     "exception": false,
     "start_time": "2021-11-11T14:28:28.073993",
     "status": "completed"
    },
    "tags": []
   },
   "source": [
    "## 4 ``while`` loops\n",
    "The other type of loop in Python is a ``while`` loop, which iterates until some condition is met:"
   ]
  },
  {
   "cell_type": "code",
   "execution_count": 11,
   "id": "53ea69f0",
   "metadata": {
    "papermill": {
     "duration": 0.029619,
     "end_time": "2021-11-11T14:28:28.144379",
     "exception": false,
     "start_time": "2021-11-11T14:28:28.114760",
     "status": "completed"
    },
    "tags": []
   },
   "outputs": [
    {
     "name": "stdout",
     "output_type": "stream",
     "text": [
      "0  1  2  3  4  5  6  7  8  9  "
     ]
    }
   ],
   "source": [
    "i = 0\n",
    "while i < 10:\n",
    "    print(i, end='  ')\n",
    "    i += 1 # increase the value of i by 1"
   ]
  },
  {
   "cell_type": "markdown",
   "id": "d3517f69",
   "metadata": {
    "papermill": {
     "duration": 0.020911,
     "end_time": "2021-11-11T14:28:28.186475",
     "exception": false,
     "start_time": "2021-11-11T14:28:28.165564",
     "status": "completed"
    },
    "tags": []
   },
   "source": [
    "<br>\n",
    "\n",
    "The argument of the ``while`` loop is evaluated as a boolean statement, and the loop is executed until the statement evaluates to False."
   ]
  },
  {
   "cell_type": "markdown",
   "id": "baa8df2b",
   "metadata": {
    "papermill": {
     "duration": 0.021308,
     "end_time": "2021-11-11T14:28:28.228786",
     "exception": false,
     "start_time": "2021-11-11T14:28:28.207478",
     "status": "completed"
    },
    "tags": []
   },
   "source": [
    "## 5 List comprehensions\n",
    "\n",
    "List comprehensions are one of Python's most beloved and unique features. The easiest way to understand them is probably to just look at a few examples:"
   ]
  },
  {
   "cell_type": "code",
   "execution_count": 12,
   "id": "13d96a37",
   "metadata": {
    "papermill": {
     "duration": 0.031361,
     "end_time": "2021-11-11T14:28:28.281672",
     "exception": false,
     "start_time": "2021-11-11T14:28:28.250311",
     "status": "completed"
    },
    "tags": []
   },
   "outputs": [
    {
     "data": {
      "text/plain": [
       "[0, 1, 4, 9, 16, 25, 36, 49, 64, 81]"
      ]
     },
     "execution_count": 12,
     "metadata": {},
     "output_type": "execute_result"
    }
   ],
   "source": [
    "squares = [n**2 for n in range(10)]\n",
    "squares"
   ]
  },
  {
   "cell_type": "markdown",
   "id": "101f5c52",
   "metadata": {
    "papermill": {
     "duration": 0.02113,
     "end_time": "2021-11-11T14:28:28.323975",
     "exception": false,
     "start_time": "2021-11-11T14:28:28.302845",
     "status": "completed"
    },
    "tags": []
   },
   "source": [
    "Here's how we would do the same thing without a list comprehension:"
   ]
  },
  {
   "cell_type": "code",
   "execution_count": 7,
   "id": "4f47c47f",
   "metadata": {
    "execution": {
     "iopub.execute_input": "2021-11-11T14:28:28.370291Z",
     "iopub.status.busy": "2021-11-11T14:28:28.369305Z",
     "iopub.status.idle": "2021-11-11T14:28:28.375491Z",
     "shell.execute_reply": "2021-11-11T14:28:28.376103Z"
    },
    "papermill": {
     "duration": 0.031008,
     "end_time": "2021-11-11T14:28:28.376278",
     "exception": false,
     "start_time": "2021-11-11T14:28:28.345270",
     "status": "completed"
    },
    "tags": []
   },
   "outputs": [
    {
     "data": {
      "text/plain": [
       "[0, 1, 4, 9, 16, 25, 36, 49, 64, 81]"
      ]
     },
     "execution_count": 7,
     "metadata": {},
     "output_type": "execute_result"
    }
   ],
   "source": [
    "\n",
    "squares = [] #initialize\n",
    "for n in range(10):\n",
    "    squares.append(n**2)\n",
    "squares"
   ]
  },
  {
   "cell_type": "markdown",
   "id": "8fab96ac",
   "metadata": {
    "papermill": {
     "duration": 0.021611,
     "end_time": "2021-11-11T14:28:28.419467",
     "exception": false,
     "start_time": "2021-11-11T14:28:28.397856",
     "status": "completed"
    },
    "tags": []
   },
   "source": [
    "<br>\n",
    "\n",
    "We can also add an `if` condition:"
   ]
  },
  {
   "cell_type": "code",
   "execution_count": 15,
   "id": "9fb0d8d7",
   "metadata": {
    "papermill": {
     "duration": 0.031292,
     "end_time": "2021-11-11T14:28:28.472335",
     "exception": false,
     "start_time": "2021-11-11T14:28:28.441043",
     "status": "completed"
    },
    "tags": []
   },
   "outputs": [
    {
     "data": {
      "text/plain": [
       "['Venus', 'Earth', 'Mars']"
      ]
     },
     "execution_count": 15,
     "metadata": {},
     "output_type": "execute_result"
    }
   ],
   "source": [
    "# intermediate programming concept here - possibly abstraaaact\n",
    "short_planets = [i for i in planets if len(i) < 6]\n",
    "short_planets"
   ]
  },
  {
   "cell_type": "markdown",
   "id": "c5bacf4f",
   "metadata": {
    "papermill": {
     "duration": 0.021644,
     "end_time": "2021-11-11T14:28:28.515879",
     "exception": false,
     "start_time": "2021-11-11T14:28:28.494235",
     "status": "completed"
    },
    "tags": []
   },
   "source": [
    "<br>\n",
    "\n",
    "Here's an example of filtering with an `if` condition *and* applying some transformation to the loop variable:"
   ]
  },
  {
   "cell_type": "code",
   "execution_count": 16,
   "id": "40e02f0b",
   "metadata": {
    "papermill": {
     "duration": 0.031584,
     "end_time": "2021-11-11T14:28:28.569607",
     "exception": false,
     "start_time": "2021-11-11T14:28:28.538023",
     "status": "completed"
    },
    "tags": []
   },
   "outputs": [
    {
     "data": {
      "text/plain": [
       "['VENUS!', 'EARTH!', 'MARS!']"
      ]
     },
     "execution_count": 16,
     "metadata": {},
     "output_type": "execute_result"
    }
   ],
   "source": [
    "# str.upper() returns an all-caps version of a string\n",
    "loud_short_planets = [i.upper() + '!' for i in planets if len(i) < 6]\n",
    "loud_short_planets"
   ]
  },
  {
   "cell_type": "markdown",
   "id": "1a6899be",
   "metadata": {
    "papermill": {
     "duration": 0.022487,
     "end_time": "2021-11-11T14:28:28.614496",
     "exception": false,
     "start_time": "2021-11-11T14:28:28.592009",
     "status": "completed"
    },
    "tags": []
   },
   "source": [
    "People usually write these on a single line, but you might find the structure clearer when it's split up over 3 lines:"
   ]
  },
  {
   "cell_type": "code",
   "execution_count": 17,
   "id": "08583f56",
   "metadata": {
    "papermill": {
     "duration": 0.032032,
     "end_time": "2021-11-11T14:28:28.669079",
     "exception": false,
     "start_time": "2021-11-11T14:28:28.637047",
     "status": "completed"
    },
    "tags": []
   },
   "outputs": [
    {
     "data": {
      "text/plain": [
       "['VENUS!', 'EARTH!', 'MARS!']"
      ]
     },
     "execution_count": 17,
     "metadata": {},
     "output_type": "execute_result"
    }
   ],
   "source": [
    "[\n",
    "    i.upper() + '!' \n",
    "    for i in planets \n",
    "    if len(i) < 6\n",
    "]"
   ]
  },
  {
   "cell_type": "markdown",
   "id": "d05d4885",
   "metadata": {
    "papermill": {
     "duration": 0.02287,
     "end_time": "2021-11-11T14:28:28.714794",
     "exception": false,
     "start_time": "2021-11-11T14:28:28.691924",
     "status": "completed"
    },
    "tags": []
   },
   "source": [
    "<br>\n",
    "\n",
    "The expression on the left doesn't technically have to involve the loop variable (though it'd be pretty unusual for it not to). What do you think the expression below will evaluate to? Press the 'output' button to check. "
   ]
  },
  {
   "cell_type": "code",
   "execution_count": 18,
   "id": "e7a7d1c2",
   "metadata": {
    "_kg_hide-output": true,
    "papermill": {
     "duration": 0.032773,
     "end_time": "2021-11-11T14:28:28.770556",
     "exception": false,
     "start_time": "2021-11-11T14:28:28.737783",
     "status": "completed"
    },
    "tags": []
   },
   "outputs": [
    {
     "data": {
      "text/plain": [
       "[32, 32, 32, 32, 32, 32, 32, 32]"
      ]
     },
     "execution_count": 18,
     "metadata": {},
     "output_type": "execute_result"
    }
   ],
   "source": [
    "[32 for i in planets]"
   ]
  },
  {
   "cell_type": "markdown",
   "id": "0c408583",
   "metadata": {
    "papermill": {
     "duration": 0.023291,
     "end_time": "2021-11-11T14:28:28.817365",
     "exception": false,
     "start_time": "2021-11-11T14:28:28.794074",
     "status": "completed"
    },
    "tags": []
   },
   "source": [
    "<br>\n",
    "\n",
    "List comprehensions combined with functions like `min`, `max`, and `sum` can lead to impressive one-line solutions for problems that would otherwise require several lines of code. \n",
    "\n",
    "For example, compare the following two cells of code that do the same thing.\n"
   ]
  },
  {
   "cell_type": "code",
   "execution_count": 20,
   "id": "41e0308f",
   "metadata": {
    "papermill": {
     "duration": 0.031475,
     "end_time": "2021-11-11T14:28:28.872359",
     "exception": false,
     "start_time": "2021-11-11T14:28:28.840884",
     "status": "completed"
    },
    "tags": []
   },
   "outputs": [],
   "source": [
    "# long but possibly easier to read\n",
    "def count_negatives(nums):\n",
    "    \"\"\"Return the number of negative numbers in the given list.\n",
    "    \n",
    "    >>> count_negatives([5, -1, -2, 0, 3])\n",
    "    2\n",
    "    \"\"\"\n",
    "    n_negative = 0\n",
    "    for num in nums:\n",
    "        if num < 0:\n",
    "            n_negative = n_negative + 1\n",
    "    return n_negative"
   ]
  },
  {
   "cell_type": "markdown",
   "id": "0e4e47ae",
   "metadata": {
    "papermill": {
     "duration": 0.023694,
     "end_time": "2021-11-11T14:28:28.919978",
     "exception": false,
     "start_time": "2021-11-11T14:28:28.896284",
     "status": "completed"
    },
    "tags": []
   },
   "source": [
    "<br>\n",
    "\n",
    "Here's a solution using a list comprehension:"
   ]
  },
  {
   "cell_type": "code",
   "execution_count": 13,
   "id": "d11ce921",
   "metadata": {
    "execution": {
     "iopub.execute_input": "2021-11-11T14:28:28.973057Z",
     "iopub.status.busy": "2021-11-11T14:28:28.972049Z",
     "iopub.status.idle": "2021-11-11T14:28:28.976300Z",
     "shell.execute_reply": "2021-11-11T14:28:28.976951Z"
    },
    "papermill": {
     "duration": 0.032665,
     "end_time": "2021-11-11T14:28:28.977139",
     "exception": false,
     "start_time": "2021-11-11T14:28:28.944474",
     "status": "completed"
    },
    "tags": []
   },
   "outputs": [],
   "source": [
    "# much shorter and terse - but you can exploit the pattern\n",
    "def count_negatives(nums):\n",
    "    return len([num for num in nums if num < 0])"
   ]
  },
  {
   "cell_type": "markdown",
   "id": "ccb552ca",
   "metadata": {
    "papermill": {
     "duration": 0.024148,
     "end_time": "2021-11-11T14:28:29.025243",
     "exception": false,
     "start_time": "2021-11-11T14:28:29.001095",
     "status": "completed"
    },
    "tags": []
   },
   "source": [
    "<br>\n",
    "\n",
    "Much shorter, right?\n",
    "\n",
    "Well if all we care about is minimizing the length of our code, this third solution is better still!"
   ]
  },
  {
   "cell_type": "code",
   "execution_count": 21,
   "id": "174d82a5",
   "metadata": {
    "papermill": {
     "duration": 0.031833,
     "end_time": "2021-11-11T14:28:29.081752",
     "exception": false,
     "start_time": "2021-11-11T14:28:29.049919",
     "status": "completed"
    },
    "tags": []
   },
   "outputs": [],
   "source": [
    "def count_negatives(nums):\n",
    "    # Boolean arithmetic in Python calculates the sum of\n",
    "    # something like True + True + False + True to be equal to 3.\n",
    "    return sum([num < 0 for num in nums])"
   ]
  },
  {
   "cell_type": "markdown",
   "id": "443675dc",
   "metadata": {
    "papermill": {
     "duration": 0.023898,
     "end_time": "2021-11-11T14:28:29.129896",
     "exception": false,
     "start_time": "2021-11-11T14:28:29.105998",
     "status": "completed"
    },
    "tags": []
   },
   "source": [
    "<br>\n",
    "\n",
    "Which of these solutions is the \"best\" is entirely subjective. Solving a problem with less code is always nice, but it's worth keeping in mind the following lines from [The Zen of Python](https://en.wikipedia.org/wiki/Zen_of_Python):\n",
    "\n",
    "> Readability counts.  \n",
    "> Explicit is better than implicit.\n",
    "\n",
    "So, use these tools to make compact readable programs. But when you have to choose, favor code that is easy for others to understand."
   ]
  },
  {
   "cell_type": "markdown",
   "id": "59dcd737-dd58-4cf9-9305-7a40c561ccb2",
   "metadata": {},
   "source": [
    "## 6 Exercises"
   ]
  },
  {
   "cell_type": "markdown",
   "id": "92bbcf83-093a-44e9-98e1-dec72ff34612",
   "metadata": {},
   "source": [
    "### 6.1\n",
    "\n",
    "\"Debugging\" means to find (usually) small errors in code and fixing them. Sometimes this can involve tedious work, or even luck!\n",
    "\n",
    "The following program has a bug. Try to identify the bug and fix it."
   ]
  },
  {
   "cell_type": "code",
   "execution_count": null,
   "id": "92dee426-b745-4297-a37a-ef7db66c3f03",
   "metadata": {},
   "outputs": [],
   "source": [
    "def has_lucky_number(nums):\n",
    "    \"\"\"Return whether the given list of numbers is lucky. A lucky list contains\n",
    "    at least one number divisible by 7.\n",
    "    \"\"\"\n",
    "    for num in nums:\n",
    "        if num % 7 == 0:\n",
    "            return True\n",
    "        else:\n",
    "            return False"
   ]
  },
  {
   "cell_type": "markdown",
   "id": "153c5061-1581-43f1-9bc2-6ccc0d91b3c5",
   "metadata": {},
   "source": [
    "Try to identify the bug and fix it in the cell below:"
   ]
  },
  {
   "cell_type": "code",
   "execution_count": null,
   "id": "47dd2f50-4ee9-4ea3-9602-e4e007daaefe",
   "metadata": {},
   "outputs": [],
   "source": [
    "def has_lucky_number(nums):\n",
    "    \"\"\"Return whether the given list of numbers is lucky. A lucky list contains\n",
    "    at least one number divisible by 7.\n",
    "    \"\"\"\n",
    "    for num in nums:\n",
    "        if num % 7 == 0:\n",
    "            return True\n",
    "        else:\n",
    "            return False\n",
    "\n",
    "# Make a list and check your answer\n"
   ]
  },
  {
   "cell_type": "markdown",
   "id": "2db3e974-f449-4cc2-bfcb-db9c3f3019c7",
   "metadata": {},
   "source": [
    "### 6.2\n",
    "\n",
    "Look at the Python expression below. What do you think we'll get when we run it? When you've made your prediction, uncomment the code and run the cell to see if you were right."
   ]
  },
  {
   "cell_type": "code",
   "execution_count": null,
   "id": "33c8b6ad-3ae4-4497-aa58-76e02fc292ba",
   "metadata": {},
   "outputs": [],
   "source": [
    "#[1, 2, 3, 4] > 2"
   ]
  },
  {
   "cell_type": "markdown",
   "id": "b9b378c8-bb4e-4625-a584-1e965da7691b",
   "metadata": {},
   "source": [
    "R and Python have some libraries (like numpy and pandas) that have functions useful for \"element-wise comparisons\", e.g. like compare each element of the list to some value and return a list of booleans like `[False, False, True, True]`. NB. like `which()` in `R`.\n",
    "\n",
    "Implement a function that reproduces this behaviour, returning a list of booleans corresponding to whether the corresponding element is greater than n."
   ]
  },
  {
   "cell_type": "code",
   "execution_count": null,
   "id": "9624e35b-4df8-4678-b6b5-3c2cc2151aac",
   "metadata": {},
   "outputs": [],
   "source": [
    "def elementwise_greater_than(L, thresh):\n",
    "    \"\"\"Return a list with the same length as L, where the value at index i is \n",
    "    True if L[i] is greater than thresh, and False otherwise.\n",
    "    \n",
    "    >>> elementwise_greater_than([1, 2, 3, 4], 2)\n",
    "    [False, False, True, True]\n",
    "    \"\"\"\n",
    "    pass\n",
    "\n",
    "# Check your answer here\n",
    "\n"
   ]
  },
  {
   "cell_type": "markdown",
   "id": "f867d6b4-53ec-473a-862d-7c0c20f54a68",
   "metadata": {},
   "source": [
    "### 6.3\n",
    "\n",
    "Complete the body of the function below according to its docstring."
   ]
  },
  {
   "cell_type": "code",
   "execution_count": null,
   "id": "ee007b28-4cca-46e5-a0d8-8e506a65fc78",
   "metadata": {},
   "outputs": [],
   "source": [
    "def menu_is_boring(meals):\n",
    "    \"\"\"Given a list of meals served over some period of time, return True if the\n",
    "    same meal has ever been served two days in a row, and False otherwise.\n",
    "    \"\"\"\n",
    "    pass\n",
    "\n",
    "# Check your answer\n"
   ]
  }
 ],
 "metadata": {
  "anaconda-cloud": {},
  "kernelspec": {
   "display_name": "Python 3 (ipykernel)",
   "language": "python",
   "name": "python3"
  },
  "language_info": {
   "codemirror_mode": {
    "name": "ipython",
    "version": 3
   },
   "file_extension": ".py",
   "mimetype": "text/x-python",
   "name": "python",
   "nbconvert_exporter": "python",
   "pygments_lexer": "ipython3",
   "version": "3.7.13"
  },
  "learntools_metadata": {
   "lesson_index": 4,
   "type": "tutorial"
  },
  "papermill": {
   "default_parameters": {},
   "duration": 11.602057,
   "end_time": "2021-11-11T14:28:29.860466",
   "environment_variables": {},
   "exception": null,
   "input_path": "__notebook__.ipynb",
   "output_path": "__notebook__.ipynb",
   "parameters": {},
   "start_time": "2021-11-11T14:28:18.258409",
   "version": "2.3.3"
  }
 },
 "nbformat": 4,
 "nbformat_minor": 5
}
