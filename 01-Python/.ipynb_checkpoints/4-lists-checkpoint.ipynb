{
 "cells": [
  {
   "cell_type": "markdown",
   "id": "6228d347-ba33-4cdc-ae00-d46a1805ab84",
   "metadata": {},
   "source": [
    "# Lab 04 Lists\n",
    "\n",
    "<br>\n",
    "\n",
    "<center>\n",
    "    \n",
    "<img src=\"img/craiyon-list.jpg\" alt=\"Spam\" width=\"300\"/> \n",
    "    \n",
    "    Craiyon.com \"Shopping list\" \n",
    "    \n",
    "</center>    \n",
    "\n",
    "<br>"
   ]
  },
  {
   "cell_type": "markdown",
   "id": "f0cea245-8d49-4385-a065-e612d91b8542",
   "metadata": {},
   "source": [
    "## 1 Objectives\n",
    "\n",
    "Lists are a versatile data structure in Python represent ordered sequences of values. \n",
    "\n",
    "We'll cover:\n",
    "\n",
    "- Making, using, and features of lists\n",
    "\n",
    "<br>"
   ]
  },
  {
   "cell_type": "markdown",
   "id": "56fb4969",
   "metadata": {
    "papermill": {
     "duration": 0.044635,
     "end_time": "2021-11-11T14:28:38.130790",
     "exception": false,
     "start_time": "2021-11-11T14:28:38.086155",
     "status": "completed"
    },
    "tags": []
   },
   "source": [
    "## 2 List contents\n",
    "\n",
    "<br>"
   ]
  },
  {
   "cell_type": "code",
   "execution_count": 1,
   "id": "e0c22569",
   "metadata": {
    "papermill": {
     "duration": 0.055697,
     "end_time": "2021-11-11T14:28:38.228013",
     "exception": false,
     "start_time": "2021-11-11T14:28:38.172316",
     "status": "completed"
    },
    "tags": []
   },
   "outputs": [
    {
     "name": "stdout",
     "output_type": "stream",
     "text": [
      "[2, 3, 5, 7]\n",
      "<class 'list'>\n"
     ]
    }
   ],
   "source": [
    "# a basic list of integers\n",
    "primes = [2, 3, 5, 7]\n",
    "print(primes)\n",
    "print(type(primes))"
   ]
  },
  {
   "cell_type": "markdown",
   "id": "1d517b44",
   "metadata": {
    "papermill": {
     "duration": 0.041205,
     "end_time": "2021-11-11T14:28:38.311664",
     "exception": false,
     "start_time": "2021-11-11T14:28:38.270459",
     "status": "completed"
    },
    "tags": []
   },
   "source": [
    "<br>\n",
    "\n",
    "We can put other types of things in lists:"
   ]
  },
  {
   "cell_type": "code",
   "execution_count": 2,
   "id": "11fa3be4",
   "metadata": {
    "papermill": {
     "duration": 0.047838,
     "end_time": "2021-11-11T14:28:38.401201",
     "exception": false,
     "start_time": "2021-11-11T14:28:38.353363",
     "status": "completed"
    },
    "tags": []
   },
   "outputs": [
    {
     "name": "stdout",
     "output_type": "stream",
     "text": [
      "['Mercury', 'Venus', 'Earth', 'Mars', 'Jupiter', 'Saturn', 'Uranus', 'Neptune']\n",
      "<class 'list'>\n"
     ]
    }
   ],
   "source": [
    "# list of strings\n",
    "planets = ['Mercury', 'Venus', 'Earth', 'Mars', 'Jupiter', 'Saturn', 'Uranus', 'Neptune']\n",
    "print(planets)\n",
    "print(type(planets))"
   ]
  },
  {
   "cell_type": "markdown",
   "id": "db21f750",
   "metadata": {
    "papermill": {
     "duration": 0.045373,
     "end_time": "2021-11-11T14:28:38.491237",
     "exception": false,
     "start_time": "2021-11-11T14:28:38.445864",
     "status": "completed"
    },
    "tags": []
   },
   "source": [
    "<br>\n",
    "\n",
    "We can even make a list of lists:"
   ]
  },
  {
   "cell_type": "code",
   "execution_count": 3,
   "id": "b5fe50d5",
   "metadata": {
    "papermill": {
     "duration": 0.107502,
     "end_time": "2021-11-11T14:28:38.643890",
     "exception": false,
     "start_time": "2021-11-11T14:28:38.536388",
     "status": "completed"
    },
    "tags": []
   },
   "outputs": [
    {
     "name": "stdout",
     "output_type": "stream",
     "text": [
      "[['J', 'Q', 'K'], ['2', '2', '2'], ['6', 'A', 'K']]\n",
      "<class 'list'>\n"
     ]
    }
   ],
   "source": [
    "# Good God a list of lists\n",
    "hands = [\n",
    "    ['J', 'Q', 'K'],\n",
    "    ['2', '2', '2'],\n",
    "    ['6', 'A', 'K'], # (Comma after the last element is optional)\n",
    "]\n",
    "# (You can also write this on one line, but it can get hard to read)\n",
    "hands2 = [['J', 'Q', 'K'], ['2', '2', '2'], ['6', 'A', 'K']]\n",
    "\n",
    "print(hands)\n",
    "print(type(hands))"
   ]
  },
  {
   "cell_type": "markdown",
   "id": "2759b8ee",
   "metadata": {
    "papermill": {
     "duration": 0.047578,
     "end_time": "2021-11-11T14:28:38.734184",
     "exception": false,
     "start_time": "2021-11-11T14:28:38.686606",
     "status": "completed"
    },
    "tags": []
   },
   "source": [
    "<br>\n",
    "\n",
    "A list can contain a mix of different types of variables:"
   ]
  },
  {
   "cell_type": "code",
   "execution_count": 7,
   "id": "5d995459",
   "metadata": {
    "papermill": {
     "duration": 0.057842,
     "end_time": "2021-11-11T14:28:38.851726",
     "exception": false,
     "start_time": "2021-11-11T14:28:38.793884",
     "status": "completed"
    },
    "tags": []
   },
   "outputs": [
    {
     "name": "stdout",
     "output_type": "stream",
     "text": [
      "[32, 'raindrops on roses', Type help() for interactive help, or help(object) for help about object.]\n"
     ]
    }
   ],
   "source": [
    "# Python's help function is one of my favourite things\n",
    "my_favourite_things = [32, 'raindrops on roses', help]\n",
    "print(my_favourite_things) # Note behavior of keyword 'help'"
   ]
  },
  {
   "cell_type": "markdown",
   "id": "00dbeb24",
   "metadata": {
    "papermill": {
     "duration": 0.043931,
     "end_time": "2021-11-11T14:28:38.941345",
     "exception": false,
     "start_time": "2021-11-11T14:28:38.897414",
     "status": "completed"
    },
    "tags": []
   },
   "source": [
    "## 3 Indexing\n",
    "\n",
    "You can access individual list elements with square brackets.\n",
    "\n",
    "Which planet is closest to the sun? Python uses *zero-based* indexing, so the first element has index 0."
   ]
  },
  {
   "cell_type": "code",
   "execution_count": 5,
   "id": "5969d612",
   "metadata": {
    "execution": {
     "iopub.execute_input": "2021-11-11T14:28:39.038898Z",
     "iopub.status.busy": "2021-11-11T14:28:39.038132Z",
     "iopub.status.idle": "2021-11-11T14:28:39.041316Z",
     "shell.execute_reply": "2021-11-11T14:28:39.041869Z"
    },
    "papermill": {
     "duration": 0.056356,
     "end_time": "2021-11-11T14:28:39.042078",
     "exception": false,
     "start_time": "2021-11-11T14:28:38.985722",
     "status": "completed"
    },
    "tags": []
   },
   "outputs": [
    {
     "data": {
      "text/plain": [
       "'Mercury'"
      ]
     },
     "execution_count": 5,
     "metadata": {},
     "output_type": "execute_result"
    }
   ],
   "source": [
    "# Start indexes at 0\n",
    "print(planets)\n",
    "planets[0]"
   ]
  },
  {
   "cell_type": "markdown",
   "id": "99f356c1",
   "metadata": {
    "papermill": {
     "duration": 0.045468,
     "end_time": "2021-11-11T14:28:39.134834",
     "exception": false,
     "start_time": "2021-11-11T14:28:39.089366",
     "status": "completed"
    },
    "tags": []
   },
   "source": [
    "What's the next closest planet?"
   ]
  },
  {
   "cell_type": "code",
   "execution_count": 6,
   "id": "9a951bfc",
   "metadata": {
    "execution": {
     "iopub.execute_input": "2021-11-11T14:28:39.228851Z",
     "iopub.status.busy": "2021-11-11T14:28:39.228272Z",
     "iopub.status.idle": "2021-11-11T14:28:39.232508Z",
     "shell.execute_reply": "2021-11-11T14:28:39.233192Z"
    },
    "papermill": {
     "duration": 0.053048,
     "end_time": "2021-11-11T14:28:39.233376",
     "exception": false,
     "start_time": "2021-11-11T14:28:39.180328",
     "status": "completed"
    },
    "tags": []
   },
   "outputs": [
    {
     "data": {
      "text/plain": [
       "'Venus'"
      ]
     },
     "execution_count": 6,
     "metadata": {},
     "output_type": "execute_result"
    }
   ],
   "source": [
    "print(planets)\n",
    "planets[1]"
   ]
  },
  {
   "cell_type": "markdown",
   "id": "c21171ec",
   "metadata": {
    "papermill": {
     "duration": 0.045506,
     "end_time": "2021-11-11T14:28:39.324882",
     "exception": false,
     "start_time": "2021-11-11T14:28:39.279376",
     "status": "completed"
    },
    "tags": []
   },
   "source": [
    "<br>\n",
    "\n",
    "Which planet is *furthest* from the sun?\n",
    "\n",
    "Elements at the end of the list can be accessed with negative numbers, starting from -1:"
   ]
  },
  {
   "cell_type": "code",
   "execution_count": 9,
   "id": "1bafd553",
   "metadata": {
    "papermill": {
     "duration": 0.054908,
     "end_time": "2021-11-11T14:28:39.425222",
     "exception": false,
     "start_time": "2021-11-11T14:28:39.370314",
     "status": "completed"
    },
    "tags": []
   },
   "outputs": [
    {
     "name": "stdout",
     "output_type": "stream",
     "text": [
      "['Mercury', 'Venus', 'Earth', 'Mars', 'Jupiter', 'Saturn', 'Uranus', 'Neptune']\n"
     ]
    },
    {
     "data": {
      "text/plain": [
       "'Neptune'"
      ]
     },
     "execution_count": 9,
     "metadata": {},
     "output_type": "execute_result"
    }
   ],
   "source": [
    "# Negative indexing behaviour - be careful (but sometimes useful)\n",
    "print(planets)\n",
    "planets[-1]"
   ]
  },
  {
   "cell_type": "code",
   "execution_count": 10,
   "id": "59382cc7",
   "metadata": {
    "papermill": {
     "duration": 0.054886,
     "end_time": "2021-11-11T14:28:39.525273",
     "exception": false,
     "start_time": "2021-11-11T14:28:39.470387",
     "status": "completed"
    },
    "tags": []
   },
   "outputs": [
    {
     "name": "stdout",
     "output_type": "stream",
     "text": [
      "['Mercury', 'Venus', 'Earth', 'Mars', 'Jupiter', 'Saturn', 'Uranus', 'Neptune']\n"
     ]
    },
    {
     "data": {
      "text/plain": [
       "'Uranus'"
      ]
     },
     "execution_count": 10,
     "metadata": {},
     "output_type": "execute_result"
    }
   ],
   "source": [
    "print(planets)\n",
    "planets[-2]"
   ]
  },
  {
   "cell_type": "markdown",
   "id": "0b04f842",
   "metadata": {
    "papermill": {
     "duration": 0.046838,
     "end_time": "2021-11-11T14:28:39.619926",
     "exception": false,
     "start_time": "2021-11-11T14:28:39.573088",
     "status": "completed"
    },
    "tags": []
   },
   "source": [
    "## 4 Slicing\n",
    "\n",
    "What are the first three planets? We can answer this question using *slicing*:"
   ]
  },
  {
   "cell_type": "code",
   "execution_count": 11,
   "id": "f36c604e",
   "metadata": {
    "papermill": {
     "duration": 0.056135,
     "end_time": "2021-11-11T14:28:39.724463",
     "exception": false,
     "start_time": "2021-11-11T14:28:39.668328",
     "status": "completed"
    },
    "tags": []
   },
   "outputs": [
    {
     "name": "stdout",
     "output_type": "stream",
     "text": [
      "['Mercury', 'Venus', 'Earth', 'Mars', 'Jupiter', 'Saturn', 'Uranus', 'Neptune']\n"
     ]
    },
    {
     "data": {
      "text/plain": [
       "['Mercury', 'Venus', 'Earth']"
      ]
     },
     "execution_count": 11,
     "metadata": {},
     "output_type": "execute_result"
    }
   ],
   "source": [
    "# Slicing note last value not inclusive\n",
    "print(planets)\n",
    "planets[0:3]"
   ]
  },
  {
   "cell_type": "markdown",
   "id": "19121be1",
   "metadata": {
    "papermill": {
     "duration": 0.049084,
     "end_time": "2021-11-11T14:28:39.820595",
     "exception": false,
     "start_time": "2021-11-11T14:28:39.771511",
     "status": "completed"
    },
    "tags": []
   },
   "source": [
    "<br>\n",
    "\n",
    "`planets[0:3]` is our way of asking for the elements of `planets` starting from index 0 and continuing up to *but not including* index 3.\n",
    "\n",
    "The starting and ending indices are both optional. If I leave out the start index, it's assumed to be 0. So I could rewrite the expression above as:"
   ]
  },
  {
   "cell_type": "code",
   "execution_count": 12,
   "id": "d53a2f82",
   "metadata": {
    "papermill": {
     "duration": 0.05774,
     "end_time": "2021-11-11T14:28:39.928807",
     "exception": false,
     "start_time": "2021-11-11T14:28:39.871067",
     "status": "completed"
    },
    "tags": []
   },
   "outputs": [
    {
     "name": "stdout",
     "output_type": "stream",
     "text": [
      "['Mercury', 'Venus', 'Earth', 'Mars', 'Jupiter', 'Saturn', 'Uranus', 'Neptune']\n"
     ]
    },
    {
     "data": {
      "text/plain": [
       "['Mercury', 'Venus', 'Earth']"
      ]
     },
     "execution_count": 12,
     "metadata": {},
     "output_type": "execute_result"
    }
   ],
   "source": [
    "# Implied indexing\n",
    "print(planets)\n",
    "planets[:3]"
   ]
  },
  {
   "cell_type": "markdown",
   "id": "05c43aca",
   "metadata": {
    "papermill": {
     "duration": 0.048802,
     "end_time": "2021-11-11T14:28:40.025420",
     "exception": false,
     "start_time": "2021-11-11T14:28:39.976618",
     "status": "completed"
    },
    "tags": []
   },
   "source": [
    "<br>\n",
    "\n",
    "If I leave out the end index, it's assumed to be the length of the list."
   ]
  },
  {
   "cell_type": "code",
   "execution_count": 13,
   "id": "3a056f41",
   "metadata": {
    "papermill": {
     "duration": 0.057809,
     "end_time": "2021-11-11T14:28:40.132256",
     "exception": false,
     "start_time": "2021-11-11T14:28:40.074447",
     "status": "completed"
    },
    "tags": []
   },
   "outputs": [
    {
     "name": "stdout",
     "output_type": "stream",
     "text": [
      "['Mercury', 'Venus', 'Earth', 'Mars', 'Jupiter', 'Saturn', 'Uranus', 'Neptune']\n"
     ]
    },
    {
     "data": {
      "text/plain": [
       "['Mars', 'Jupiter', 'Saturn', 'Uranus', 'Neptune']"
      ]
     },
     "execution_count": 13,
     "metadata": {},
     "output_type": "execute_result"
    }
   ],
   "source": [
    "print(planets)\n",
    "planets[3:]"
   ]
  },
  {
   "cell_type": "markdown",
   "id": "d9ac22e7",
   "metadata": {
    "papermill": {
     "duration": 0.046133,
     "end_time": "2021-11-11T14:28:40.228153",
     "exception": false,
     "start_time": "2021-11-11T14:28:40.182020",
     "status": "completed"
    },
    "tags": []
   },
   "source": [
    "i.e. the expression above means \"give me all the planets from index 3 onward\".\n",
    "\n",
    "We can also use negative indices when slicing:"
   ]
  },
  {
   "cell_type": "code",
   "execution_count": 12,
   "id": "ae4577ca",
   "metadata": {
    "execution": {
     "iopub.execute_input": "2021-11-11T14:28:40.324102Z",
     "iopub.status.busy": "2021-11-11T14:28:40.323474Z",
     "iopub.status.idle": "2021-11-11T14:28:40.328884Z",
     "shell.execute_reply": "2021-11-11T14:28:40.329346Z"
    },
    "papermill": {
     "duration": 0.055181,
     "end_time": "2021-11-11T14:28:40.329488",
     "exception": false,
     "start_time": "2021-11-11T14:28:40.274307",
     "status": "completed"
    },
    "tags": []
   },
   "outputs": [
    {
     "data": {
      "text/plain": [
       "['Venus', 'Earth', 'Mars', 'Jupiter', 'Saturn', 'Uranus']"
      ]
     },
     "execution_count": 12,
     "metadata": {},
     "output_type": "execute_result"
    }
   ],
   "source": [
    "# All the planets except the first and last\n",
    "print(planets)\n",
    "planets[1:-1]"
   ]
  },
  {
   "cell_type": "code",
   "execution_count": 14,
   "id": "3d1ec3af",
   "metadata": {
    "papermill": {
     "duration": 0.056956,
     "end_time": "2021-11-11T14:28:40.434081",
     "exception": false,
     "start_time": "2021-11-11T14:28:40.377125",
     "status": "completed"
    },
    "tags": []
   },
   "outputs": [
    {
     "name": "stdout",
     "output_type": "stream",
     "text": [
      "['Mercury', 'Venus', 'Earth', 'Mars', 'Jupiter', 'Saturn', 'Uranus', 'Neptune']\n"
     ]
    },
    {
     "data": {
      "text/plain": [
       "['Saturn', 'Uranus', 'Neptune']"
      ]
     },
     "execution_count": 14,
     "metadata": {},
     "output_type": "execute_result"
    }
   ],
   "source": [
    "# The last 3 planets\n",
    "print(planets)\n",
    "planets[-3:]"
   ]
  },
  {
   "cell_type": "markdown",
   "id": "bc5105e9",
   "metadata": {
    "papermill": {
     "duration": 0.045835,
     "end_time": "2021-11-11T14:28:40.527142",
     "exception": false,
     "start_time": "2021-11-11T14:28:40.481307",
     "status": "completed"
    },
    "tags": []
   },
   "source": [
    "## 5 Changing lists\n",
    "\n",
    "Lists are \"mutable\", meaning they can be modified \"in place\".\n",
    "\n",
    "One way to modify a list is to assign to an index or slice expression.\n",
    "\n",
    "For example, let's say we want to rename Mars:"
   ]
  },
  {
   "cell_type": "code",
   "execution_count": 15,
   "id": "4a3f37fc",
   "metadata": {
    "papermill": {
     "duration": 0.055504,
     "end_time": "2021-11-11T14:28:40.629280",
     "exception": false,
     "start_time": "2021-11-11T14:28:40.573776",
     "status": "completed"
    },
    "tags": []
   },
   "outputs": [
    {
     "name": "stdout",
     "output_type": "stream",
     "text": [
      "['Mercury', 'Venus', 'Earth', 'Malacandra', 'Jupiter', 'Saturn', 'Uranus', 'Neptune']\n"
     ]
    }
   ],
   "source": [
    "planets[3] = 'Malacandra'\n",
    "print(planets)"
   ]
  },
  {
   "cell_type": "markdown",
   "id": "91bcc8f2",
   "metadata": {
    "papermill": {
     "duration": 0.048085,
     "end_time": "2021-11-11T14:28:40.724102",
     "exception": false,
     "start_time": "2021-11-11T14:28:40.676017",
     "status": "completed"
    },
    "tags": []
   },
   "source": [
    "<br>\n",
    "\n",
    "Hm, that's quite a mouthful. Let's compensate by shortening the names of the first 3 planets."
   ]
  },
  {
   "cell_type": "code",
   "execution_count": 16,
   "id": "c4d8cf4f",
   "metadata": {
    "papermill": {
     "duration": 0.056228,
     "end_time": "2021-11-11T14:28:40.829590",
     "exception": false,
     "start_time": "2021-11-11T14:28:40.773362",
     "status": "completed"
    },
    "tags": []
   },
   "outputs": [
    {
     "name": "stdout",
     "output_type": "stream",
     "text": [
      "['Mur', 'Vee', 'Ur', 'Malacandra', 'Jupiter', 'Saturn', 'Uranus', 'Neptune']\n",
      "['Mercury', 'Venus', 'Earth', 'Mars', 'Jupiter', 'Saturn', 'Uranus', 'Neptune']\n"
     ]
    }
   ],
   "source": [
    "# Phonetic short names\n",
    "planets[:3] = ['Mur', 'Vee', 'Ur']\n",
    "print(planets)\n",
    "# That was silly. Let's give them back their old names\n",
    "planets[:4] = ['Mercury', 'Venus', 'Earth', 'Mars',]\n",
    "print(planets)"
   ]
  },
  {
   "cell_type": "markdown",
   "id": "b469093b",
   "metadata": {
    "papermill": {
     "duration": 0.048856,
     "end_time": "2021-11-11T14:28:40.925034",
     "exception": false,
     "start_time": "2021-11-11T14:28:40.876178",
     "status": "completed"
    },
    "tags": []
   },
   "source": [
    "## 6 List functions\n",
    "\n",
    "Python has several useful functions for working with lists.\n",
    "\n",
    "`len` gives the length of a list:"
   ]
  },
  {
   "cell_type": "code",
   "execution_count": 16,
   "id": "e1d04307",
   "metadata": {
    "execution": {
     "iopub.execute_input": "2021-11-11T14:28:41.027792Z",
     "iopub.status.busy": "2021-11-11T14:28:41.026854Z",
     "iopub.status.idle": "2021-11-11T14:28:41.031641Z",
     "shell.execute_reply": "2021-11-11T14:28:41.032207Z"
    },
    "papermill": {
     "duration": 0.057146,
     "end_time": "2021-11-11T14:28:41.032365",
     "exception": false,
     "start_time": "2021-11-11T14:28:40.975219",
     "status": "completed"
    },
    "tags": []
   },
   "outputs": [
    {
     "data": {
      "text/plain": [
       "8"
      ]
     },
     "execution_count": 16,
     "metadata": {},
     "output_type": "execute_result"
    }
   ],
   "source": [
    "# How many planets are there?\n",
    "len(planets)"
   ]
  },
  {
   "cell_type": "markdown",
   "id": "7ddee700",
   "metadata": {
    "papermill": {
     "duration": 0.049267,
     "end_time": "2021-11-11T14:28:41.131463",
     "exception": false,
     "start_time": "2021-11-11T14:28:41.082196",
     "status": "completed"
    },
    "tags": []
   },
   "source": [
    "`sorted` returns a sorted version of a list:"
   ]
  },
  {
   "cell_type": "code",
   "execution_count": 17,
   "id": "6db35848",
   "metadata": {
    "execution": {
     "iopub.execute_input": "2021-11-11T14:28:41.234772Z",
     "iopub.status.busy": "2021-11-11T14:28:41.233861Z",
     "iopub.status.idle": "2021-11-11T14:28:41.239139Z",
     "shell.execute_reply": "2021-11-11T14:28:41.239702Z"
    },
    "papermill": {
     "duration": 0.058669,
     "end_time": "2021-11-11T14:28:41.239856",
     "exception": false,
     "start_time": "2021-11-11T14:28:41.181187",
     "status": "completed"
    },
    "tags": []
   },
   "outputs": [
    {
     "data": {
      "text/plain": [
       "['Earth', 'Jupiter', 'Mars', 'Mercury', 'Neptune', 'Saturn', 'Uranus', 'Venus']"
      ]
     },
     "execution_count": 17,
     "metadata": {},
     "output_type": "execute_result"
    }
   ],
   "source": [
    "# The planets sorted in alphabetical order\n",
    "sorted(planets)"
   ]
  },
  {
   "cell_type": "markdown",
   "id": "23f78893",
   "metadata": {
    "papermill": {
     "duration": 0.049153,
     "end_time": "2021-11-11T14:28:41.338935",
     "exception": false,
     "start_time": "2021-11-11T14:28:41.289782",
     "status": "completed"
    },
    "tags": []
   },
   "source": [
    "`sum` does what you might expect:"
   ]
  },
  {
   "cell_type": "code",
   "execution_count": 18,
   "id": "1c1f3df1",
   "metadata": {
    "execution": {
     "iopub.execute_input": "2021-11-11T14:28:41.439934Z",
     "iopub.status.busy": "2021-11-11T14:28:41.438922Z",
     "iopub.status.idle": "2021-11-11T14:28:41.444359Z",
     "shell.execute_reply": "2021-11-11T14:28:41.444873Z"
    },
    "papermill": {
     "duration": 0.05757,
     "end_time": "2021-11-11T14:28:41.445046",
     "exception": false,
     "start_time": "2021-11-11T14:28:41.387476",
     "status": "completed"
    },
    "tags": []
   },
   "outputs": [
    {
     "data": {
      "text/plain": [
       "17"
      ]
     },
     "execution_count": 18,
     "metadata": {},
     "output_type": "execute_result"
    }
   ],
   "source": [
    "primes = [2, 3, 5, 7]\n",
    "sum(primes)"
   ]
  },
  {
   "cell_type": "markdown",
   "id": "1e9a8581",
   "metadata": {
    "papermill": {
     "duration": 0.049686,
     "end_time": "2021-11-11T14:28:41.544054",
     "exception": false,
     "start_time": "2021-11-11T14:28:41.494368",
     "status": "completed"
    },
    "tags": []
   },
   "source": [
    "We've previously used the `min` and `max` to get the minimum or maximum of several arguments. But we can also pass in a single list argument."
   ]
  },
  {
   "cell_type": "code",
   "execution_count": 19,
   "id": "f1fac119",
   "metadata": {
    "execution": {
     "iopub.execute_input": "2021-11-11T14:28:41.647314Z",
     "iopub.status.busy": "2021-11-11T14:28:41.646320Z",
     "iopub.status.idle": "2021-11-11T14:28:41.651951Z",
     "shell.execute_reply": "2021-11-11T14:28:41.652532Z"
    },
    "papermill": {
     "duration": 0.059059,
     "end_time": "2021-11-11T14:28:41.652684",
     "exception": false,
     "start_time": "2021-11-11T14:28:41.593625",
     "status": "completed"
    },
    "tags": []
   },
   "outputs": [
    {
     "data": {
      "text/plain": [
       "7"
      ]
     },
     "execution_count": 19,
     "metadata": {},
     "output_type": "execute_result"
    }
   ],
   "source": [
    "max(primes)"
   ]
  },
  {
   "cell_type": "markdown",
   "id": "619460db",
   "metadata": {
    "papermill": {
     "duration": 0.050321,
     "end_time": "2021-11-11T14:28:41.752852",
     "exception": false,
     "start_time": "2021-11-11T14:28:41.702531",
     "status": "completed"
    },
    "tags": []
   },
   "source": [
    "## 7 Interlude: objects\n",
    "\n",
    "We've used the term 'object' to refer to data objects so far - you may perceive that *everything* in Python is an object. What does that mean?\n",
    "\n",
    "In short, objects carry some things around with them. You access that stuff using Python's \"dot syntax\".\n",
    "\n",
    "For example, numbers in Python carry around an associated variable called `imag` representing their imaginary part. (You'll probably never need to use this unless you're doing some very weird math - this is just opne way to illustrate the dot syntax.)"
   ]
  },
  {
   "cell_type": "code",
   "execution_count": 18,
   "id": "cfaa1a3a",
   "metadata": {
    "papermill": {
     "duration": 0.058885,
     "end_time": "2021-11-11T14:28:41.861499",
     "exception": false,
     "start_time": "2021-11-11T14:28:41.802614",
     "status": "completed"
    },
    "tags": []
   },
   "outputs": [
    {
     "name": "stdout",
     "output_type": "stream",
     "text": [
      "0\n",
      "3.0\n"
     ]
    }
   ],
   "source": [
    "x = 12\n",
    "# x is a real number, so its imaginary part is 0.\n",
    "print(x.imag)\n",
    "# Here's how to make a complex number, in case you've ever been curious:\n",
    "c = 12 + 3j\n",
    "print(c.imag)"
   ]
  },
  {
   "cell_type": "markdown",
   "id": "3cf43217",
   "metadata": {
    "papermill": {
     "duration": 0.050182,
     "end_time": "2021-11-11T14:28:41.962736",
     "exception": false,
     "start_time": "2021-11-11T14:28:41.912554",
     "status": "completed"
    },
    "tags": []
   },
   "source": [
    "<br> \n",
    "\n",
    "The things an object carries around can also include functions. A function attached to an object is called a **method**. (Non-function things attached to an object, such as `imag`, are called *attributes*).\n",
    "\n",
    "For example, numbers have a method called `bit_length`. Again, we access it using dot syntax:"
   ]
  },
  {
   "cell_type": "code",
   "execution_count": 19,
   "id": "2e846df5",
   "metadata": {
    "papermill": {
     "duration": 0.061357,
     "end_time": "2021-11-11T14:28:42.075744",
     "exception": false,
     "start_time": "2021-11-11T14:28:42.014387",
     "status": "completed"
    },
    "tags": []
   },
   "outputs": [
    {
     "data": {
      "text/plain": [
       "<function int.bit_length()>"
      ]
     },
     "execution_count": 19,
     "metadata": {},
     "output_type": "execute_result"
    }
   ],
   "source": [
    "x.bit_length"
   ]
  },
  {
   "cell_type": "markdown",
   "id": "f5693b06",
   "metadata": {
    "papermill": {
     "duration": 0.050836,
     "end_time": "2021-11-11T14:28:42.178282",
     "exception": false,
     "start_time": "2021-11-11T14:28:42.127446",
     "status": "completed"
    },
    "tags": []
   },
   "source": [
    "To actually call this (or any function), we add parentheses:"
   ]
  },
  {
   "cell_type": "code",
   "execution_count": 20,
   "id": "c7a57909",
   "metadata": {
    "papermill": {
     "duration": 0.060028,
     "end_time": "2021-11-11T14:28:42.289171",
     "exception": false,
     "start_time": "2021-11-11T14:28:42.229143",
     "status": "completed"
    },
    "tags": []
   },
   "outputs": [
    {
     "data": {
      "text/plain": [
       "4"
      ]
     },
     "execution_count": 20,
     "metadata": {},
     "output_type": "execute_result"
    }
   ],
   "source": [
    "x.bit_length()"
   ]
  },
  {
   "cell_type": "markdown",
   "id": "21650754",
   "metadata": {
    "papermill": {
     "duration": 0.050703,
     "end_time": "2021-11-11T14:28:42.391224",
     "exception": false,
     "start_time": "2021-11-11T14:28:42.340521",
     "status": "completed"
    },
    "tags": []
   },
   "source": [
    "<br>\n",
    "\n",
    "In the same way that we can pass functions to the `help` function (e.g. `help(max)`), we can also pass in methods:"
   ]
  },
  {
   "cell_type": "code",
   "execution_count": 23,
   "id": "c094b535",
   "metadata": {
    "execution": {
     "iopub.execute_input": "2021-11-11T14:28:42.497178Z",
     "iopub.status.busy": "2021-11-11T14:28:42.496217Z",
     "iopub.status.idle": "2021-11-11T14:28:42.501642Z",
     "shell.execute_reply": "2021-11-11T14:28:42.502286Z"
    },
    "papermill": {
     "duration": 0.059591,
     "end_time": "2021-11-11T14:28:42.502458",
     "exception": false,
     "start_time": "2021-11-11T14:28:42.442867",
     "status": "completed"
    },
    "tags": []
   },
   "outputs": [
    {
     "name": "stdout",
     "output_type": "stream",
     "text": [
      "Help on built-in function bit_length:\n",
      "\n",
      "bit_length() method of builtins.int instance\n",
      "    Number of bits necessary to represent self in binary.\n",
      "    \n",
      "    >>> bin(37)\n",
      "    '0b100101'\n",
      "    >>> (37).bit_length()\n",
      "    6\n",
      "\n"
     ]
    }
   ],
   "source": [
    "help(x.bit_length)"
   ]
  },
  {
   "cell_type": "markdown",
   "id": "7ab81a15",
   "metadata": {
    "papermill": {
     "duration": 0.051409,
     "end_time": "2021-11-11T14:28:42.605464",
     "exception": false,
     "start_time": "2021-11-11T14:28:42.554055",
     "status": "completed"
    },
    "tags": []
   },
   "source": [
    "<br>\n",
    "\n",
    "These examples may seem obscure but are intended to provide a \"peek under the hood/bonnet\".\n",
    "\n",
    "It turns out that lists have several methods which you'll use all the time."
   ]
  },
  {
   "cell_type": "markdown",
   "id": "c2d8f22b",
   "metadata": {
    "papermill": {
     "duration": 0.052073,
     "end_time": "2021-11-11T14:28:42.709477",
     "exception": false,
     "start_time": "2021-11-11T14:28:42.657404",
     "status": "completed"
    },
    "tags": []
   },
   "source": [
    "## 8 List methods"
   ]
  },
  {
   "cell_type": "markdown",
   "id": "7c17f6a6",
   "metadata": {
    "papermill": {
     "duration": 0.056646,
     "end_time": "2021-11-11T14:28:42.819667",
     "exception": false,
     "start_time": "2021-11-11T14:28:42.763021",
     "status": "completed"
    },
    "tags": []
   },
   "source": [
    "`list.append` modifies a list by adding an item to the end:"
   ]
  },
  {
   "cell_type": "code",
   "execution_count": 22,
   "id": "e3993ca2",
   "metadata": {
    "papermill": {
     "duration": 0.060101,
     "end_time": "2021-11-11T14:28:42.932944",
     "exception": false,
     "start_time": "2021-11-11T14:28:42.872843",
     "status": "completed"
    },
    "tags": []
   },
   "outputs": [
    {
     "name": "stdout",
     "output_type": "stream",
     "text": [
      "Scientist planets:  ['Mercury', 'Venus', 'Earth', 'Mars', 'Jupiter', 'Saturn', 'Uranus', 'Neptune', 'Pluto']\n",
      "We love Pluto:  ['Mercury', 'Venus', 'Earth', 'Mars', 'Jupiter', 'Saturn', 'Uranus', 'Neptune', 'Pluto', 'Pluto']\n"
     ]
    }
   ],
   "source": [
    "# Pluto is a planet for the following list darn it!\n",
    "print('Scientist planets: ', planets)\n",
    "planets.append('Pluto')\n",
    "print('We love Pluto: ', planets)"
   ]
  },
  {
   "cell_type": "markdown",
   "id": "79a59431",
   "metadata": {
    "papermill": {
     "duration": 0.053563,
     "end_time": "2021-11-11T14:28:43.040576",
     "exception": false,
     "start_time": "2021-11-11T14:28:42.987013",
     "status": "completed"
    },
    "tags": []
   },
   "source": [
    "<br>\n",
    "\n",
    "Let's look at the `append` documentation by calling `help(planets.append)`.\n",
    "\n",
    "> **Aside:** `append` is a method carried around by *all* objects of type list, not just `planets`, so we also could have called `help(list.append)`. However, if we try to call `help(append)`, Python will complain that no variable exists called \"append\". The \"append\" name only exists within lists - it doesn't exist as a standalone name like builtin functions such as `max` or `len`."
   ]
  },
  {
   "cell_type": "code",
   "execution_count": 23,
   "id": "b9eaa201",
   "metadata": {
    "papermill": {
     "duration": 0.060826,
     "end_time": "2021-11-11T14:28:43.154058",
     "exception": false,
     "start_time": "2021-11-11T14:28:43.093232",
     "status": "completed"
    },
    "tags": []
   },
   "outputs": [
    {
     "name": "stdout",
     "output_type": "stream",
     "text": [
      "Help on built-in function append:\n",
      "\n",
      "append(object, /) method of builtins.list instance\n",
      "    Append object to the end of the list.\n",
      "\n"
     ]
    }
   ],
   "source": [
    "help(planets.append)"
   ]
  },
  {
   "cell_type": "markdown",
   "id": "09b4abf8",
   "metadata": {
    "papermill": {
     "duration": 0.052183,
     "end_time": "2021-11-11T14:28:43.476560",
     "exception": false,
     "start_time": "2021-11-11T14:28:43.424377",
     "status": "completed"
    },
    "tags": []
   },
   "source": [
    "<br>\n",
    "\n",
    "`list.pop` removes and returns the last element of a list:"
   ]
  },
  {
   "cell_type": "code",
   "execution_count": 28,
   "id": "c7d356d8",
   "metadata": {
    "papermill": {
     "duration": 0.059715,
     "end_time": "2021-11-11T14:28:43.588276",
     "exception": false,
     "start_time": "2021-11-11T14:28:43.528561",
     "status": "completed"
    },
    "tags": []
   },
   "outputs": [
    {
     "data": {
      "text/plain": [
       "'Pluto'"
      ]
     },
     "execution_count": 28,
     "metadata": {},
     "output_type": "execute_result"
    }
   ],
   "source": [
    "# pop! Sorry Pluto!\n",
    "planets.pop()"
   ]
  },
  {
   "cell_type": "code",
   "execution_count": 29,
   "id": "d9646c87",
   "metadata": {
    "papermill": {
     "duration": 0.061323,
     "end_time": "2021-11-11T14:28:43.702078",
     "exception": false,
     "start_time": "2021-11-11T14:28:43.640755",
     "status": "completed"
    },
    "tags": []
   },
   "outputs": [
    {
     "name": "stdout",
     "output_type": "stream",
     "text": [
      "['Mercury', 'Venus', 'Earth', 'Mars', 'Jupiter', 'Saturn', 'Uranus', 'Neptune']\n"
     ]
    }
   ],
   "source": [
    "print(planets)"
   ]
  },
  {
   "cell_type": "markdown",
   "id": "ba9dd3e9",
   "metadata": {
    "papermill": {
     "duration": 0.054776,
     "end_time": "2021-11-11T14:28:43.810368",
     "exception": false,
     "start_time": "2021-11-11T14:28:43.755592",
     "status": "completed"
    },
    "tags": []
   },
   "source": [
    "## 9 Searching lists\n",
    "\n",
    "Where does Earth fall in the order of planets? We can get its index using the `list.index` method."
   ]
  },
  {
   "cell_type": "code",
   "execution_count": 30,
   "id": "907583f6",
   "metadata": {
    "papermill": {
     "duration": 0.062654,
     "end_time": "2021-11-11T14:28:43.927105",
     "exception": false,
     "start_time": "2021-11-11T14:28:43.864451",
     "status": "completed"
    },
    "tags": []
   },
   "outputs": [
    {
     "data": {
      "text/plain": [
       "2"
      ]
     },
     "execution_count": 30,
     "metadata": {},
     "output_type": "execute_result"
    }
   ],
   "source": [
    "planets.index('Earth')"
   ]
  },
  {
   "cell_type": "markdown",
   "id": "10fa35b6",
   "metadata": {
    "papermill": {
     "duration": 0.05356,
     "end_time": "2021-11-11T14:28:44.035575",
     "exception": false,
     "start_time": "2021-11-11T14:28:43.982015",
     "status": "completed"
    },
    "tags": []
   },
   "source": [
    "<br>\n",
    "\n",
    "It comes third (i.e. remember: at index 2 - 0 indexing!).\n",
    "\n",
    "At what index does Pluto occur?"
   ]
  },
  {
   "cell_type": "code",
   "execution_count": 31,
   "id": "cc3a36f7",
   "metadata": {
    "papermill": {
     "duration": 0.124958,
     "end_time": "2021-11-11T14:28:44.216550",
     "exception": false,
     "start_time": "2021-11-11T14:28:44.091592",
     "status": "completed"
    },
    "tags": [
     "raises-exception"
    ]
   },
   "outputs": [
    {
     "ename": "ValueError",
     "evalue": "'Pluto' is not in list",
     "output_type": "error",
     "traceback": [
      "\u001b[1;31m---------------------------------------------------------------------------\u001b[0m",
      "\u001b[1;31mValueError\u001b[0m                                Traceback (most recent call last)",
      "\u001b[1;32m~\\AppData\\Local\\Temp\\ipykernel_35180\\2263615293.py\u001b[0m in \u001b[0;36m<module>\u001b[1;34m\u001b[0m\n\u001b[1;32m----> 1\u001b[1;33m \u001b[0mplanets\u001b[0m\u001b[1;33m.\u001b[0m\u001b[0mindex\u001b[0m\u001b[1;33m(\u001b[0m\u001b[1;34m'Pluto'\u001b[0m\u001b[1;33m)\u001b[0m\u001b[1;33m\u001b[0m\u001b[1;33m\u001b[0m\u001b[0m\n\u001b[0m",
      "\u001b[1;31mValueError\u001b[0m: 'Pluto' is not in list"
     ]
    }
   ],
   "source": [
    "planets.index('Pluto')"
   ]
  },
  {
   "cell_type": "markdown",
   "id": "9cce7c87",
   "metadata": {
    "papermill": {
     "duration": 0.053586,
     "end_time": "2021-11-11T14:28:44.323722",
     "exception": false,
     "start_time": "2021-11-11T14:28:44.270136",
     "status": "completed"
    },
    "tags": []
   },
   "source": [
    "<br>\n",
    "\n",
    "Oh, that's right...\n",
    "\n",
    "To avoid unpleasant surprises like this, we can use the `in` operator to determine whether a list contains a particular value:"
   ]
  },
  {
   "cell_type": "code",
   "execution_count": 32,
   "id": "dd359982",
   "metadata": {
    "papermill": {
     "duration": 0.063379,
     "end_time": "2021-11-11T14:28:44.440721",
     "exception": false,
     "start_time": "2021-11-11T14:28:44.377342",
     "status": "completed"
    },
    "tags": []
   },
   "outputs": [
    {
     "data": {
      "text/plain": [
       "True"
      ]
     },
     "execution_count": 32,
     "metadata": {},
     "output_type": "execute_result"
    }
   ],
   "source": [
    "# Is Earth a planet?\n",
    "\"Earth\" in planets"
   ]
  },
  {
   "cell_type": "code",
   "execution_count": 33,
   "id": "b05b5563",
   "metadata": {
    "papermill": {
     "duration": 0.062325,
     "end_time": "2021-11-11T14:28:44.558268",
     "exception": false,
     "start_time": "2021-11-11T14:28:44.495943",
     "status": "completed"
    },
    "tags": []
   },
   "outputs": [
    {
     "data": {
      "text/plain": [
       "False"
      ]
     },
     "execution_count": 33,
     "metadata": {},
     "output_type": "execute_result"
    }
   ],
   "source": [
    "# Is Calbefraques a planet?\n",
    "\"Calbefraques\" in planets"
   ]
  },
  {
   "cell_type": "markdown",
   "id": "2afe6b2c",
   "metadata": {
    "papermill": {
     "duration": 0.056399,
     "end_time": "2021-11-11T14:28:44.670014",
     "exception": false,
     "start_time": "2021-11-11T14:28:44.613615",
     "status": "completed"
    },
    "tags": []
   },
   "source": [
    "<br>\n",
    "\n",
    "There are a few more interesting list methods we haven't covered. If you want to learn about all the methods and attributes attached to a particular object, we can call `help()` on the object itself. For example, `help(planets)` will tell us about *all* the list methods: "
   ]
  },
  {
   "cell_type": "code",
   "execution_count": 33,
   "id": "b69fd631",
   "metadata": {
    "_kg_hide-output": true,
    "execution": {
     "iopub.execute_input": "2021-11-11T14:28:44.786902Z",
     "iopub.status.busy": "2021-11-11T14:28:44.786282Z",
     "iopub.status.idle": "2021-11-11T14:28:44.805523Z",
     "shell.execute_reply": "2021-11-11T14:28:44.806074Z"
    },
    "papermill": {
     "duration": 0.079376,
     "end_time": "2021-11-11T14:28:44.806239",
     "exception": false,
     "start_time": "2021-11-11T14:28:44.726863",
     "status": "completed"
    },
    "tags": []
   },
   "outputs": [
    {
     "name": "stdout",
     "output_type": "stream",
     "text": [
      "Help on list object:\n",
      "\n",
      "class list(object)\n",
      " |  list(iterable=(), /)\n",
      " |  \n",
      " |  Built-in mutable sequence.\n",
      " |  \n",
      " |  If no argument is given, the constructor creates a new empty list.\n",
      " |  The argument must be an iterable if specified.\n",
      " |  \n",
      " |  Methods defined here:\n",
      " |  \n",
      " |  __add__(self, value, /)\n",
      " |      Return self+value.\n",
      " |  \n",
      " |  __contains__(self, key, /)\n",
      " |      Return key in self.\n",
      " |  \n",
      " |  __delitem__(self, key, /)\n",
      " |      Delete self[key].\n",
      " |  \n",
      " |  __eq__(self, value, /)\n",
      " |      Return self==value.\n",
      " |  \n",
      " |  __ge__(self, value, /)\n",
      " |      Return self>=value.\n",
      " |  \n",
      " |  __getattribute__(self, name, /)\n",
      " |      Return getattr(self, name).\n",
      " |  \n",
      " |  __getitem__(...)\n",
      " |      x.__getitem__(y) <==> x[y]\n",
      " |  \n",
      " |  __gt__(self, value, /)\n",
      " |      Return self>value.\n",
      " |  \n",
      " |  __iadd__(self, value, /)\n",
      " |      Implement self+=value.\n",
      " |  \n",
      " |  __imul__(self, value, /)\n",
      " |      Implement self*=value.\n",
      " |  \n",
      " |  __init__(self, /, *args, **kwargs)\n",
      " |      Initialize self.  See help(type(self)) for accurate signature.\n",
      " |  \n",
      " |  __iter__(self, /)\n",
      " |      Implement iter(self).\n",
      " |  \n",
      " |  __le__(self, value, /)\n",
      " |      Return self<=value.\n",
      " |  \n",
      " |  __len__(self, /)\n",
      " |      Return len(self).\n",
      " |  \n",
      " |  __lt__(self, value, /)\n",
      " |      Return self<value.\n",
      " |  \n",
      " |  __mul__(self, value, /)\n",
      " |      Return self*value.\n",
      " |  \n",
      " |  __ne__(self, value, /)\n",
      " |      Return self!=value.\n",
      " |  \n",
      " |  __repr__(self, /)\n",
      " |      Return repr(self).\n",
      " |  \n",
      " |  __reversed__(self, /)\n",
      " |      Return a reverse iterator over the list.\n",
      " |  \n",
      " |  __rmul__(self, value, /)\n",
      " |      Return value*self.\n",
      " |  \n",
      " |  __setitem__(self, key, value, /)\n",
      " |      Set self[key] to value.\n",
      " |  \n",
      " |  __sizeof__(self, /)\n",
      " |      Return the size of the list in memory, in bytes.\n",
      " |  \n",
      " |  append(self, object, /)\n",
      " |      Append object to the end of the list.\n",
      " |  \n",
      " |  clear(self, /)\n",
      " |      Remove all items from list.\n",
      " |  \n",
      " |  copy(self, /)\n",
      " |      Return a shallow copy of the list.\n",
      " |  \n",
      " |  count(self, value, /)\n",
      " |      Return number of occurrences of value.\n",
      " |  \n",
      " |  extend(self, iterable, /)\n",
      " |      Extend list by appending elements from the iterable.\n",
      " |  \n",
      " |  index(self, value, start=0, stop=9223372036854775807, /)\n",
      " |      Return first index of value.\n",
      " |      \n",
      " |      Raises ValueError if the value is not present.\n",
      " |  \n",
      " |  insert(self, index, object, /)\n",
      " |      Insert object before index.\n",
      " |  \n",
      " |  pop(self, index=-1, /)\n",
      " |      Remove and return item at index (default last).\n",
      " |      \n",
      " |      Raises IndexError if list is empty or index is out of range.\n",
      " |  \n",
      " |  remove(self, value, /)\n",
      " |      Remove first occurrence of value.\n",
      " |      \n",
      " |      Raises ValueError if the value is not present.\n",
      " |  \n",
      " |  reverse(self, /)\n",
      " |      Reverse *IN PLACE*.\n",
      " |  \n",
      " |  sort(self, /, *, key=None, reverse=False)\n",
      " |      Stable sort *IN PLACE*.\n",
      " |  \n",
      " |  ----------------------------------------------------------------------\n",
      " |  Static methods defined here:\n",
      " |  \n",
      " |  __new__(*args, **kwargs) from builtins.type\n",
      " |      Create and return a new object.  See help(type) for accurate signature.\n",
      " |  \n",
      " |  ----------------------------------------------------------------------\n",
      " |  Data and other attributes defined here:\n",
      " |  \n",
      " |  __hash__ = None\n",
      "\n"
     ]
    }
   ],
   "source": [
    "help(planets)"
   ]
  },
  {
   "cell_type": "markdown",
   "id": "244c3650",
   "metadata": {
    "papermill": {
     "duration": 0.055906,
     "end_time": "2021-11-11T14:28:44.917450",
     "exception": false,
     "start_time": "2021-11-11T14:28:44.861544",
     "status": "completed"
    },
    "tags": []
   },
   "source": [
    "Lists have lots of methods with weird-looking names like `__eq__` and `__iadd__`. Don't worry too much about these for now. (You may never call such methods directly. But they get called behind the scenes when we use syntax like indexing or comparison operators.) The most interesting methods are toward the bottom of the list (`append`, `clear`, `copy`, etc.)."
   ]
  },
  {
   "cell_type": "markdown",
   "id": "46cbe4cd",
   "metadata": {
    "papermill": {
     "duration": 0.056359,
     "end_time": "2021-11-11T14:28:45.031141",
     "exception": false,
     "start_time": "2021-11-11T14:28:44.974782",
     "status": "completed"
    },
    "tags": []
   },
   "source": [
    "## 10 Tuples\n",
    "\n",
    "Tuples are almost exactly the same as lists. They differ in just two ways.\n",
    "\n",
    "<br>\n",
    "\n",
    "**1:** The syntax for creating them uses parentheses instead of square brackets"
   ]
  },
  {
   "cell_type": "code",
   "execution_count": 36,
   "id": "d9ac67ac",
   "metadata": {
    "papermill": {
     "duration": 0.061331,
     "end_time": "2021-11-11T14:28:45.148023",
     "exception": false,
     "start_time": "2021-11-11T14:28:45.086692",
     "status": "completed"
    },
    "tags": []
   },
   "outputs": [
    {
     "name": "stdout",
     "output_type": "stream",
     "text": [
      "(1, 2, 3)\n",
      "<class 'tuple'>\n"
     ]
    }
   ],
   "source": [
    "# One way to make a tuple\n",
    "t = (1, 2, 3)\n",
    "print(t)\n",
    "print(type(t))"
   ]
  },
  {
   "cell_type": "code",
   "execution_count": 37,
   "id": "923ed173",
   "metadata": {
    "papermill": {
     "duration": 0.063696,
     "end_time": "2021-11-11T14:28:45.268859",
     "exception": false,
     "start_time": "2021-11-11T14:28:45.205163",
     "status": "completed"
    },
    "tags": []
   },
   "outputs": [
    {
     "name": "stdout",
     "output_type": "stream",
     "text": [
      "(1, 2, 3)\n",
      "<class 'tuple'>\n"
     ]
    }
   ],
   "source": [
    "# makes same tuple\n",
    "t = 1, 2, 3 # equivalent to above\n",
    "print(t)\n",
    "print(type(t))"
   ]
  },
  {
   "cell_type": "markdown",
   "id": "1887ffc7",
   "metadata": {
    "papermill": {
     "duration": 0.055936,
     "end_time": "2021-11-11T14:28:45.382071",
     "exception": false,
     "start_time": "2021-11-11T14:28:45.326135",
     "status": "completed"
    },
    "tags": []
   },
   "source": [
    "<br>\n",
    "\n",
    "**2:** They cannot be modified (they are *immutable*)."
   ]
  },
  {
   "cell_type": "code",
   "execution_count": 38,
   "id": "995d8980",
   "metadata": {
    "papermill": {
     "duration": 0.072933,
     "end_time": "2021-11-11T14:28:45.511475",
     "exception": false,
     "start_time": "2021-11-11T14:28:45.438542",
     "status": "completed"
    },
    "tags": [
     "raises-exception"
    ]
   },
   "outputs": [
    {
     "ename": "TypeError",
     "evalue": "'tuple' object does not support item assignment",
     "output_type": "error",
     "traceback": [
      "\u001b[1;31m---------------------------------------------------------------------------\u001b[0m",
      "\u001b[1;31mTypeError\u001b[0m                                 Traceback (most recent call last)",
      "\u001b[1;32m~\\AppData\\Local\\Temp\\ipykernel_35180\\1947960885.py\u001b[0m in \u001b[0;36m<module>\u001b[1;34m\u001b[0m\n\u001b[0;32m      1\u001b[0m \u001b[1;31m# Just try changing this value, sucka!\u001b[0m\u001b[1;33m\u001b[0m\u001b[1;33m\u001b[0m\u001b[1;33m\u001b[0m\u001b[0m\n\u001b[1;32m----> 2\u001b[1;33m \u001b[0mt\u001b[0m\u001b[1;33m[\u001b[0m\u001b[1;36m0\u001b[0m\u001b[1;33m]\u001b[0m \u001b[1;33m=\u001b[0m \u001b[1;36m100\u001b[0m\u001b[1;33m\u001b[0m\u001b[1;33m\u001b[0m\u001b[0m\n\u001b[0m",
      "\u001b[1;31mTypeError\u001b[0m: 'tuple' object does not support item assignment"
     ]
    }
   ],
   "source": [
    "# Just try changing this value, sucka!\n",
    "t[0] = 100"
   ]
  },
  {
   "cell_type": "markdown",
   "id": "13127850",
   "metadata": {
    "papermill": {
     "duration": 0.056952,
     "end_time": "2021-11-11T14:28:45.626961",
     "exception": false,
     "start_time": "2021-11-11T14:28:45.570009",
     "status": "completed"
    },
    "tags": []
   },
   "source": [
    "<br>\n",
    "\n",
    "Tuples are often used for functions that have multiple return values.\n",
    "\n",
    "For example, the ``as_integer_ratio()`` method of float objects returns a numerator and a denominator in the form of a tuple:"
   ]
  },
  {
   "cell_type": "code",
   "execution_count": 42,
   "id": "aed23dd4",
   "metadata": {
    "papermill": {
     "duration": 0.064953,
     "end_time": "2021-11-11T14:28:45.749063",
     "exception": false,
     "start_time": "2021-11-11T14:28:45.684110",
     "status": "completed"
    },
    "tags": []
   },
   "outputs": [
    {
     "data": {
      "text/plain": [
       "(1, 8)"
      ]
     },
     "execution_count": 42,
     "metadata": {},
     "output_type": "execute_result"
    }
   ],
   "source": [
    "x = 0.125\n",
    "x.as_integer_ratio() # cool and powerful"
   ]
  },
  {
   "cell_type": "markdown",
   "id": "690a3587",
   "metadata": {
    "papermill": {
     "duration": 0.058699,
     "end_time": "2021-11-11T14:28:45.867771",
     "exception": false,
     "start_time": "2021-11-11T14:28:45.809072",
     "status": "completed"
    },
    "tags": []
   },
   "source": [
    "<br>\n",
    "\n",
    "These multiple return values can be individually assigned as follows:"
   ]
  },
  {
   "cell_type": "code",
   "execution_count": 38,
   "id": "5bae2881",
   "metadata": {
    "execution": {
     "iopub.execute_input": "2021-11-11T14:28:45.987803Z",
     "iopub.status.busy": "2021-11-11T14:28:45.987198Z",
     "iopub.status.idle": "2021-11-11T14:28:45.991408Z",
     "shell.execute_reply": "2021-11-11T14:28:45.991958Z"
    },
    "papermill": {
     "duration": 0.065917,
     "end_time": "2021-11-11T14:28:45.992132",
     "exception": false,
     "start_time": "2021-11-11T14:28:45.926215",
     "status": "completed"
    },
    "tags": []
   },
   "outputs": [
    {
     "name": "stdout",
     "output_type": "stream",
     "text": [
      "0.125\n"
     ]
    }
   ],
   "source": [
    "numerator, denominator = x.as_integer_ratio()\n",
    "print(numerator / denominator)"
   ]
  },
  {
   "cell_type": "markdown",
   "id": "c1f66b4d",
   "metadata": {
    "papermill": {
     "duration": 0.059016,
     "end_time": "2021-11-11T14:28:46.111772",
     "exception": false,
     "start_time": "2021-11-11T14:28:46.052756",
     "status": "completed"
    },
    "tags": []
   },
   "source": [
    "<br>\n",
    "\n",
    "Finally we have some insight into the classic Stupid Python Trick™ for swapping two variables!"
   ]
  },
  {
   "cell_type": "code",
   "execution_count": 43,
   "id": "e17e976a",
   "metadata": {
    "papermill": {
     "duration": 0.066889,
     "end_time": "2021-11-11T14:28:46.237581",
     "exception": false,
     "start_time": "2021-11-11T14:28:46.170692",
     "status": "completed"
    },
    "tags": []
   },
   "outputs": [
    {
     "name": "stdout",
     "output_type": "stream",
     "text": [
      "0 1\n"
     ]
    }
   ],
   "source": [
    "a = 1\n",
    "b = 0\n",
    "a, b = b, a\n",
    "print(a, b)"
   ]
  },
  {
   "cell_type": "markdown",
   "id": "805d5c90-f9bc-4f1a-a0cc-aa8f900cf797",
   "metadata": {},
   "source": [
    "## 11 Exercises"
   ]
  },
  {
   "cell_type": "markdown",
   "id": "ad035960-a664-4158-a33c-18d4c2093dde",
   "metadata": {},
   "source": [
    "### 11.1\n",
    "\n",
    "Complete the function below according to its docstring."
   ]
  },
  {
   "cell_type": "code",
   "execution_count": null,
   "id": "3d0dd01a-4255-4f5f-afaf-06b4813fdc1c",
   "metadata": {},
   "outputs": [],
   "source": [
    "def select_second(L):\n",
    "    \"\"\"Return the second element of the given list. If the list has no second\n",
    "    element, return None.\n",
    "    \"\"\"\n",
    "    pass\n",
    "\n",
    "# Check your answer\n"
   ]
  },
  {
   "cell_type": "markdown",
   "id": "3eb0ae86-92c8-45e8-b9dc-560f77ab49da",
   "metadata": {},
   "source": [
    "### 11.2\n",
    "\n",
    "You are analyzing sports teams.  Members of each team are stored in a list. The Coach is the first name in the list, the captain is the second name in the list, and other players are listed after that. \n",
    "These lists are stored in another list, which starts with the best team and proceeds through the list to the worst team last.  Complete the function below to select the **captain** of the worst team."
   ]
  },
  {
   "cell_type": "code",
   "execution_count": 44,
   "id": "5fb2d93a-606e-481e-bbd4-a2c6c09035d9",
   "metadata": {},
   "outputs": [],
   "source": [
    "def losing_team_captain(teams):\n",
    "    \"\"\"Given a list of teams, where each team is a list of names (i.e. a list of lists), return the 2nd player (captain)\n",
    "    from the last listed team\n",
    "    \"\"\"\n",
    "    pass\n",
    "\n",
    "# Check your answer\n"
   ]
  },
  {
   "cell_type": "markdown",
   "id": "8e3dbc17-8d8d-46a2-aed6-962187cf2b19",
   "metadata": {},
   "source": [
    "### 11.3\n",
    "\n",
    "The next iteration of Mario Kart will feature an extra-infuriating new item, the *Purple Shell*. When used, it warps the last place racer into first place and the first place racer into last place. Complete the function below to implement the Purple Shell's effect."
   ]
  },
  {
   "cell_type": "code",
   "execution_count": null,
   "id": "23d229fe-ba9d-4361-844a-7a8ff947f5b3",
   "metadata": {},
   "outputs": [],
   "source": [
    "def purple_shell(racers):\n",
    "    \"\"\"Given a list of racers, set the first place racer (at the front of the list) to last\n",
    "    place and vice versa.\n",
    "    \n",
    "    >>> r = [\"Mario\", \"Bowser\", \"Luigi\"]\n",
    "    >>> purple_shell(r)\n",
    "    >>> r\n",
    "    [\"Luigi\", \"Bowser\", \"Mario\"]\n",
    "    \"\"\"\n",
    "    pass\n",
    "\n",
    "# Check your answer\n"
   ]
  },
  {
   "cell_type": "markdown",
   "id": "b0d37f42-8e71-47eb-a788-b404b3686255",
   "metadata": {},
   "source": [
    "### 11.4\n",
    "\n",
    "What are the lengths of the following lists? Fill in the variable `lengths` with your predictions. (Try to make a prediction first before checking by calling `len()` on it.)"
   ]
  },
  {
   "cell_type": "code",
   "execution_count": 47,
   "id": "669b8f45-f4d0-4855-9b66-58ccb6d744a7",
   "metadata": {},
   "outputs": [],
   "source": [
    "a = [1, 2, 3]\n",
    "b = [1, [2, 3]]\n",
    "c = []\n",
    "d = [1, 2, 3][1:]\n",
    "\n",
    "\n"
   ]
  },
  {
   "cell_type": "markdown",
   "id": "0b7d3401-1a8b-443d-9ff3-c2b94dcd75fe",
   "metadata": {},
   "source": [
    "### 11.5 <span title=\"A bit spicy\" style=\"color: darkgreen \">🌶️</span>\n",
    "\n",
    "We're using lists to record people who attended our party and what order they arrived in. For example, the following list represents a party with 7 guests, in which Adela showed up first and Ford was the last to arrive:\n",
    "\n",
    "    party_attendees = ['Adela', 'Fleda', 'Owen', 'May', 'Mona', 'Gilbert', 'Ford']\n",
    "\n",
    "A guest is considered 'fashionably late' if they arrived after at least half of the party's guests. However, they must not be the very last guest (that's taking it too far). In the above example, Mona and Gilbert are the only guests who were fashionably late.\n",
    "\n",
    "Complete the function below which takes a list of party attendees as well as a person, and tells us whether that person is fashionably late."
   ]
  },
  {
   "cell_type": "code",
   "execution_count": null,
   "id": "aa49d018-c11c-4388-9442-ca0a0296d955",
   "metadata": {},
   "outputs": [],
   "source": [
    "def fashionably_late(arrivals, name):\n",
    "    \"\"\"Given an ordered list of arrivals to the party and a name, return whether the guest with that\n",
    "    name was fashionably late.\n",
    "    \"\"\"\n",
    "    pass\n",
    "\n",
    "# Check your answer\n"
   ]
  }
 ],
 "metadata": {
  "anaconda-cloud": {},
  "kernelspec": {
   "display_name": "Python 3 (ipykernel)",
   "language": "python",
   "name": "python3"
  },
  "language_info": {
   "codemirror_mode": {
    "name": "ipython",
    "version": 3
   },
   "file_extension": ".py",
   "mimetype": "text/x-python",
   "name": "python",
   "nbconvert_exporter": "python",
   "pygments_lexer": "ipython3",
   "version": "3.7.13"
  },
  "learntools_metadata": {
   "lesson_index": 3,
   "type": "tutorial"
  },
  "papermill": {
   "default_parameters": {},
   "duration": 17.682403,
   "end_time": "2021-11-11T14:28:47.040395",
   "environment_variables": {},
   "exception": null,
   "input_path": "__notebook__.ipynb",
   "output_path": "__notebook__.ipynb",
   "parameters": {},
   "start_time": "2021-11-11T14:28:29.357992",
   "version": "2.3.3"
  }
 },
 "nbformat": 4,
 "nbformat_minor": 5
}
