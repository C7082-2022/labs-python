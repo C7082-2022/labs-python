{
 "cells": [
  {
   "cell_type": "markdown",
   "id": "1cb6ae73-f4b4-41fc-bd0d-b1f29e649482",
   "metadata": {},
   "source": [
    "# Lab 06 Strings and dictionaries\n",
    "\n",
    "<br>\n",
    "\n",
    "<center>\n",
    "    \n",
    "<img src=\"img/craiyon-dictionary.jpg\" alt=\"Spam\" width=\"300\"/> \n",
    "    \n",
    "    Craiyon.com \"Strings and dictionaries\" \n",
    "    \n",
    "</center>    \n",
    "\n",
    "<br>"
   ]
  },
  {
   "cell_type": "markdown",
   "id": "6147ff5c",
   "metadata": {
    "papermill": {
     "duration": 0.044186,
     "end_time": "2021-11-11T14:28:18.225475",
     "exception": false,
     "start_time": "2021-11-11T14:28:18.181289",
     "status": "completed"
    },
    "tags": []
   },
   "source": [
    "## 1 Objectives\n",
    "\n",
    "This lesson will cover two essential Python types:\n",
    "\n",
    "- strings\n",
    "\n",
    "- dictionaries\n",
    "\n",
    "\n",
    "<br>"
   ]
  },
  {
   "cell_type": "markdown",
   "id": "7be4f8c5",
   "metadata": {
    "papermill": {
     "duration": 0.039759,
     "end_time": "2021-11-11T14:28:18.308469",
     "exception": false,
     "start_time": "2021-11-11T14:28:18.268710",
     "status": "completed"
    },
    "tags": []
   },
   "source": [
    "## 2 Strings"
   ]
  },
  {
   "cell_type": "markdown",
   "id": "df272966",
   "metadata": {
    "papermill": {
     "duration": 0.039449,
     "end_time": "2021-11-11T14:28:18.388866",
     "exception": false,
     "start_time": "2021-11-11T14:28:18.349417",
     "status": "completed"
    },
    "tags": []
   },
   "source": [
    "One place where the Python language really shines is in the manipulation of strings.\n",
    "This section will cover some of Python's built-in string methods and formatting operations.\n",
    "\n",
    "Such string manipulation patterns come up often in the context of data science work.\n",
    "\n",
    "<br>\n",
    "\n",
    "### 2.1 String syntax\n",
    "\n",
    "You've probably seen plenty of strings before, but just to recap, strings in Python can be defined using either single or double quotations. They are functionally equivalent."
   ]
  },
  {
   "cell_type": "code",
   "execution_count": 1,
   "id": "2c17fc98",
   "metadata": {
    "papermill": {
     "duration": 0.066432,
     "end_time": "2021-11-11T14:28:18.494838",
     "exception": false,
     "start_time": "2021-11-11T14:28:18.428406",
     "status": "completed"
    },
    "tags": []
   },
   "outputs": [
    {
     "data": {
      "text/plain": [
       "True"
      ]
     },
     "execution_count": 1,
     "metadata": {},
     "output_type": "execute_result"
    }
   ],
   "source": [
    "# string syntax\n",
    "x = 'Pluto is a planet'\n",
    "y = \"Pluto is a planet\"\n",
    "x == y"
   ]
  },
  {
   "cell_type": "markdown",
   "id": "3e05ea1d",
   "metadata": {
    "papermill": {
     "duration": 0.045283,
     "end_time": "2021-11-11T14:28:18.589843",
     "exception": false,
     "start_time": "2021-11-11T14:28:18.544560",
     "status": "completed"
    },
    "tags": []
   },
   "source": [
    "<br>\n",
    "\n",
    "Double quotes are convenient if your string contains a single quote character (e.g. representing an apostrophe).\n",
    "\n",
    "Similarly, it's easy to create a string that contains double-quotes if you wrap it in single quotes:"
   ]
  },
  {
   "cell_type": "code",
   "execution_count": 2,
   "id": "ff457669",
   "metadata": {
    "papermill": {
     "duration": 0.053117,
     "end_time": "2021-11-11T14:28:18.683439",
     "exception": false,
     "start_time": "2021-11-11T14:28:18.630322",
     "status": "completed"
    },
    "tags": []
   },
   "outputs": [
    {
     "name": "stdout",
     "output_type": "stream",
     "text": [
      "Pluto's a planet!\n",
      "My dog is named \"Pluto\"\n"
     ]
    }
   ],
   "source": [
    "print(\"Pluto's a planet!\")\n",
    "print('My dog is named \"Pluto\"')"
   ]
  },
  {
   "cell_type": "markdown",
   "id": "1a4ab80c",
   "metadata": {
    "papermill": {
     "duration": 0.041092,
     "end_time": "2021-11-11T14:28:18.766409",
     "exception": false,
     "start_time": "2021-11-11T14:28:18.725317",
     "status": "completed"
    },
    "tags": []
   },
   "source": [
    "<br>\n",
    "\n",
    "If we try to put a single quote character inside a single-quoted string, Python gets confused:"
   ]
  },
  {
   "cell_type": "code",
   "execution_count": 3,
   "id": "d09b7f77",
   "metadata": {
    "execution": {
     "iopub.execute_input": "2021-11-11T14:28:18.927058Z",
     "iopub.status.busy": "2021-11-11T14:28:18.926087Z",
     "iopub.status.idle": "2021-11-11T14:28:18.929643Z",
     "shell.execute_reply": "2021-11-11T14:28:18.930145Z"
    },
    "papermill": {
     "duration": 0.051013,
     "end_time": "2021-11-11T14:28:18.930338",
     "exception": false,
     "start_time": "2021-11-11T14:28:18.879325",
     "status": "completed"
    },
    "tags": [
     "raises-exception"
    ]
   },
   "outputs": [
    {
     "ename": "SyntaxError",
     "evalue": "invalid syntax (1561186517.py, line 1)",
     "output_type": "error",
     "traceback": [
      "\u001b[0;36m  File \u001b[0;32m\"/tmp/ipykernel_20/1561186517.py\"\u001b[0;36m, line \u001b[0;32m1\u001b[0m\n\u001b[0;31m    'Pluto's a planet!'\u001b[0m\n\u001b[0m           ^\u001b[0m\n\u001b[0;31mSyntaxError\u001b[0m\u001b[0;31m:\u001b[0m invalid syntax\n"
     ]
    }
   ],
   "source": [
    "'Pluto's a planet!'"
   ]
  },
  {
   "cell_type": "markdown",
   "id": "8e19485b",
   "metadata": {
    "papermill": {
     "duration": 0.042164,
     "end_time": "2021-11-11T14:28:19.014081",
     "exception": false,
     "start_time": "2021-11-11T14:28:18.971917",
     "status": "completed"
    },
    "tags": []
   },
   "source": [
    "<br>\n",
    "\n",
    "We can fix this by \"escaping\" the single quote with a backslash. "
   ]
  },
  {
   "cell_type": "code",
   "execution_count": 3,
   "id": "7c1c0e3e",
   "metadata": {
    "papermill": {
     "duration": 0.050419,
     "end_time": "2021-11-11T14:28:19.106766",
     "exception": false,
     "start_time": "2021-11-11T14:28:19.056347",
     "status": "completed"
    },
    "tags": []
   },
   "outputs": [
    {
     "data": {
      "text/plain": [
       "\"Pluto's a planet!\""
      ]
     },
     "execution_count": 3,
     "metadata": {},
     "output_type": "execute_result"
    }
   ],
   "source": [
    "# escape character\n",
    "'Pluto\\'s a planet!'"
   ]
  },
  {
   "cell_type": "markdown",
   "id": "0d22f90b",
   "metadata": {
    "papermill": {
     "duration": 0.041998,
     "end_time": "2021-11-11T14:28:19.190950",
     "exception": false,
     "start_time": "2021-11-11T14:28:19.148952",
     "status": "completed"
    },
    "tags": []
   },
   "source": [
    "The table below summarizes some important uses of the backslash character.\n",
    "\n",
    "| What you type... | What you get | example               | `print(example)`             |\n",
    "|------------------|--------------|-----------------------|------------------------------|\n",
    "| `\\'`         | `'`            | `'What\\'s up?'`         | `What's up?`                 |  \n",
    "| `\\\"`         | `\"`            | `\"That's \\\"cool\\\"\"`     | `That's \"cool\"`              |  \n",
    "| `\\\\`         | `\\`            |  `\"Look, a mountain: /\\\\\"` |  `Look, a mountain: /\\`  |\n",
    "| `\\n`         |   a new line      |   `\"1\\n2 3\"`                       |   `1`<br/>`2 3`              |\n",
    "\n"
   ]
  },
  {
   "cell_type": "markdown",
   "id": "f458a4a5",
   "metadata": {
    "papermill": {
     "duration": 0.04448,
     "end_time": "2021-11-11T14:28:19.279585",
     "exception": false,
     "start_time": "2021-11-11T14:28:19.235105",
     "status": "completed"
    },
    "tags": []
   },
   "source": [
    "<br>\n",
    "\n",
    "The last sequence, `\\n`, represents the *newline character*. It causes Python to start a new line."
   ]
  },
  {
   "cell_type": "code",
   "execution_count": 4,
   "id": "39563b2b",
   "metadata": {
    "papermill": {
     "duration": 0.060072,
     "end_time": "2021-11-11T14:28:19.391031",
     "exception": false,
     "start_time": "2021-11-11T14:28:19.330959",
     "status": "completed"
    },
    "tags": []
   },
   "outputs": [
    {
     "name": "stdout",
     "output_type": "stream",
     "text": [
      "hello\n",
      "world\n"
     ]
    }
   ],
   "source": [
    "# syntax looks funny\n",
    "hello = \"hello\\nworld\"\n",
    "print(hello)"
   ]
  },
  {
   "cell_type": "markdown",
   "id": "4cde723e",
   "metadata": {
    "papermill": {
     "duration": 0.041828,
     "end_time": "2021-11-11T14:28:19.475275",
     "exception": false,
     "start_time": "2021-11-11T14:28:19.433447",
     "status": "completed"
    },
    "tags": []
   },
   "source": [
    "<br>\n",
    "\n",
    "In addition, Python's triple quote syntax for strings lets us include newlines literally (i.e. by just hitting 'Enter' on our keyboard, rather than using the special '\\n' sequence). We've already seen this in the docstrings we use to document our functions, but we can use them anywhere we want to define a string."
   ]
  },
  {
   "cell_type": "code",
   "execution_count": 5,
   "id": "586a2554",
   "metadata": {
    "papermill": {
     "duration": 0.05297,
     "end_time": "2021-11-11T14:28:19.570536",
     "exception": false,
     "start_time": "2021-11-11T14:28:19.517566",
     "status": "completed"
    },
    "tags": []
   },
   "outputs": [
    {
     "name": "stdout",
     "output_type": "stream",
     "text": [
      "hello\n",
      "world\n"
     ]
    },
    {
     "data": {
      "text/plain": [
       "True"
      ]
     },
     "execution_count": 5,
     "metadata": {},
     "output_type": "execute_result"
    }
   ],
   "source": [
    "# niche syntax\n",
    "triplequoted_hello = \"\"\"hello\n",
    "world\"\"\"\n",
    "print(triplequoted_hello)\n",
    "triplequoted_hello == hello"
   ]
  },
  {
   "cell_type": "markdown",
   "id": "e753711a",
   "metadata": {
    "papermill": {
     "duration": 0.042942,
     "end_time": "2021-11-11T14:28:19.656753",
     "exception": false,
     "start_time": "2021-11-11T14:28:19.613811",
     "status": "completed"
    },
    "tags": []
   },
   "source": [
    "<br>\n",
    "\n",
    "The `print()` function automatically adds a newline character unless we specify a value for the keyword argument `end` other than the default value of `'\\n'`:"
   ]
  },
  {
   "cell_type": "code",
   "execution_count": 10,
   "id": "48d7da2e",
   "metadata": {
    "papermill": {
     "duration": 0.051698,
     "end_time": "2021-11-11T14:28:19.751592",
     "exception": false,
     "start_time": "2021-11-11T14:28:19.699894",
     "status": "completed"
    },
    "tags": []
   },
   "outputs": [
    {
     "name": "stdout",
     "output_type": "stream",
     "text": [
      "hello\n",
      "world\n",
      "hellopluto"
     ]
    }
   ],
   "source": [
    "# newline tricks\n",
    "\n",
    "print(\"hello\")\n",
    "print(\"world\")\n",
    "print(\"hello\", end='')\n",
    "print(\"pluto\", end='')"
   ]
  },
  {
   "cell_type": "markdown",
   "id": "55a983f2",
   "metadata": {
    "papermill": {
     "duration": 0.043751,
     "end_time": "2021-11-11T14:28:19.838764",
     "exception": false,
     "start_time": "2021-11-11T14:28:19.795013",
     "status": "completed"
    },
    "tags": []
   },
   "source": [
    "### 2.2 Strings are sequences\n",
    "\n",
    "Strings can be thought of as sequences of characters. Almost everything we've seen that we can do to a list, we can also do to a string."
   ]
  },
  {
   "cell_type": "code",
   "execution_count": 15,
   "id": "40db32b1",
   "metadata": {
    "papermill": {
     "duration": 0.05217,
     "end_time": "2021-11-11T14:28:19.934510",
     "exception": false,
     "start_time": "2021-11-11T14:28:19.882340",
     "status": "completed"
    },
    "tags": []
   },
   "outputs": [
    {
     "name": "stdout",
     "output_type": "stream",
     "text": [
      "<class 'str'>\n"
     ]
    },
    {
     "data": {
      "text/plain": [
       "'P'"
      ]
     },
     "execution_count": 15,
     "metadata": {},
     "output_type": "execute_result"
    }
   ],
   "source": [
    "# Indexing\n",
    "planet = 'Pluto'\n",
    "print(type(planet)) # NB str type\n",
    "planet[0]"
   ]
  },
  {
   "cell_type": "code",
   "execution_count": 12,
   "id": "84e02a0b",
   "metadata": {
    "papermill": {
     "duration": 0.053202,
     "end_time": "2021-11-11T14:28:20.031847",
     "exception": false,
     "start_time": "2021-11-11T14:28:19.978645",
     "status": "completed"
    },
    "tags": []
   },
   "outputs": [
    {
     "data": {
      "text/plain": [
       "'uto'"
      ]
     },
     "execution_count": 12,
     "metadata": {},
     "output_type": "execute_result"
    }
   ],
   "source": [
    "# Slicing\n",
    "planet[-3:]"
   ]
  },
  {
   "cell_type": "code",
   "execution_count": 16,
   "id": "e5b71926",
   "metadata": {
    "papermill": {
     "duration": 0.052461,
     "end_time": "2021-11-11T14:28:20.129401",
     "exception": false,
     "start_time": "2021-11-11T14:28:20.076940",
     "status": "completed"
    },
    "tags": []
   },
   "outputs": [
    {
     "data": {
      "text/plain": [
       "5"
      ]
     },
     "execution_count": 16,
     "metadata": {},
     "output_type": "execute_result"
    }
   ],
   "source": [
    "# How long is this string? (NB largest index value)\n",
    "len(planet)"
   ]
  },
  {
   "cell_type": "code",
   "execution_count": 17,
   "id": "b4b38fe6",
   "metadata": {
    "papermill": {
     "duration": 0.053019,
     "end_time": "2021-11-11T14:28:20.227180",
     "exception": false,
     "start_time": "2021-11-11T14:28:20.174161",
     "status": "completed"
    },
    "tags": []
   },
   "outputs": [
    {
     "data": {
      "text/plain": [
       "['P!', 'l!', 'u!', 't!', 'o!']"
      ]
     },
     "execution_count": 17,
     "metadata": {},
     "output_type": "execute_result"
    }
   ],
   "source": [
    "# Yes, we can even loop over them\n",
    "[char+'!' for char in planet]"
   ]
  },
  {
   "cell_type": "markdown",
   "id": "95131887",
   "metadata": {
    "papermill": {
     "duration": 0.045112,
     "end_time": "2021-11-11T14:28:20.318073",
     "exception": false,
     "start_time": "2021-11-11T14:28:20.272961",
     "status": "completed"
    },
    "tags": []
   },
   "source": [
    "<br>\n",
    "\n",
    "But a major way in which they differ from lists is that they are *immutable*. We can't modify them."
   ]
  },
  {
   "cell_type": "code",
   "execution_count": 18,
   "id": "91fd77e8",
   "metadata": {
    "papermill": {
     "duration": 0.115589,
     "end_time": "2021-11-11T14:28:20.480023",
     "exception": false,
     "start_time": "2021-11-11T14:28:20.364434",
     "status": "completed"
    },
    "tags": [
     "raises-exception"
    ]
   },
   "outputs": [
    {
     "ename": "TypeError",
     "evalue": "'str' object does not support item assignment",
     "output_type": "error",
     "traceback": [
      "\u001b[1;31m---------------------------------------------------------------------------\u001b[0m",
      "\u001b[1;31mTypeError\u001b[0m                                 Traceback (most recent call last)",
      "\u001b[1;32m~\\AppData\\Local\\Temp\\ipykernel_5732\\3000885956.py\u001b[0m in \u001b[0;36m<module>\u001b[1;34m\u001b[0m\n\u001b[0;32m      1\u001b[0m \u001b[1;31m# nope\u001b[0m\u001b[1;33m\u001b[0m\u001b[1;33m\u001b[0m\u001b[1;33m\u001b[0m\u001b[0m\n\u001b[1;32m----> 2\u001b[1;33m \u001b[0mplanet\u001b[0m\u001b[1;33m[\u001b[0m\u001b[1;36m0\u001b[0m\u001b[1;33m]\u001b[0m \u001b[1;33m=\u001b[0m \u001b[1;34m'B'\u001b[0m\u001b[1;33m\u001b[0m\u001b[1;33m\u001b[0m\u001b[0m\n\u001b[0m\u001b[0;32m      3\u001b[0m \u001b[1;33m\u001b[0m\u001b[0m\n\u001b[0;32m      4\u001b[0m \u001b[1;31m# planet.append doesn't work either - try it\u001b[0m\u001b[1;33m\u001b[0m\u001b[1;33m\u001b[0m\u001b[1;33m\u001b[0m\u001b[0m\n",
      "\u001b[1;31mTypeError\u001b[0m: 'str' object does not support item assignment"
     ]
    }
   ],
   "source": [
    "# nope\n",
    "planet[0] = 'B'\n",
    "\n",
    "# planet.append doesn't work either - try it"
   ]
  },
  {
   "cell_type": "markdown",
   "id": "75f8b7f1",
   "metadata": {
    "papermill": {
     "duration": 0.046088,
     "end_time": "2021-11-11T14:28:20.572533",
     "exception": false,
     "start_time": "2021-11-11T14:28:20.526445",
     "status": "completed"
    },
    "tags": []
   },
   "source": [
    "### 2.3 String methods\n",
    "\n",
    "Like `list`, the type `str` has lots of very useful methods. I'll show just a few examples here."
   ]
  },
  {
   "cell_type": "code",
   "execution_count": 19,
   "id": "4feb93fe",
   "metadata": {
    "papermill": {
     "duration": 0.053848,
     "end_time": "2021-11-11T14:28:20.673697",
     "exception": false,
     "start_time": "2021-11-11T14:28:20.619849",
     "status": "completed"
    },
    "tags": []
   },
   "outputs": [
    {
     "data": {
      "text/plain": [
       "'PLUTO IS A PLANET IN MY HEART!'"
      ]
     },
     "execution_count": 19,
     "metadata": {},
     "output_type": "execute_result"
    }
   ],
   "source": [
    "# ALL CAPS\n",
    "claim = \"Pluto is a planet in my heart!\"\n",
    "claim.upper()"
   ]
  },
  {
   "cell_type": "code",
   "execution_count": 20,
   "id": "13dce6bc",
   "metadata": {
    "papermill": {
     "duration": 0.054972,
     "end_time": "2021-11-11T14:28:20.776827",
     "exception": false,
     "start_time": "2021-11-11T14:28:20.721855",
     "status": "completed"
    },
    "tags": []
   },
   "outputs": [
    {
     "data": {
      "text/plain": [
       "'pluto is a planet in my heart!'"
      ]
     },
     "execution_count": 20,
     "metadata": {},
     "output_type": "execute_result"
    }
   ],
   "source": [
    "# all lowercase\n",
    "claim.lower()"
   ]
  },
  {
   "cell_type": "code",
   "execution_count": 21,
   "id": "575d9a0c",
   "metadata": {
    "papermill": {
     "duration": 0.055782,
     "end_time": "2021-11-11T14:28:20.880653",
     "exception": false,
     "start_time": "2021-11-11T14:28:20.824871",
     "status": "completed"
    },
    "tags": []
   },
   "outputs": [
    {
     "data": {
      "text/plain": [
       "11"
      ]
     },
     "execution_count": 21,
     "metadata": {},
     "output_type": "execute_result"
    }
   ],
   "source": [
    "# Searching for the first index of a substring\n",
    "claim.index('plan')"
   ]
  },
  {
   "cell_type": "code",
   "execution_count": 16,
   "id": "0a1ee571",
   "metadata": {
    "execution": {
     "iopub.execute_input": "2021-11-11T14:28:20.979444Z",
     "iopub.status.busy": "2021-11-11T14:28:20.978796Z",
     "iopub.status.idle": "2021-11-11T14:28:20.983950Z",
     "shell.execute_reply": "2021-11-11T14:28:20.984410Z"
    },
    "papermill": {
     "duration": 0.056328,
     "end_time": "2021-11-11T14:28:20.984581",
     "exception": false,
     "start_time": "2021-11-11T14:28:20.928253",
     "status": "completed"
    },
    "tags": []
   },
   "outputs": [
    {
     "data": {
      "text/plain": [
       "True"
      ]
     },
     "execution_count": 16,
     "metadata": {},
     "output_type": "execute_result"
    }
   ],
   "source": [
    "claim.startswith(planet)"
   ]
  },
  {
   "cell_type": "code",
   "execution_count": 22,
   "id": "f2ff0b8d",
   "metadata": {
    "papermill": {
     "duration": 0.057579,
     "end_time": "2021-11-11T14:28:21.091719",
     "exception": false,
     "start_time": "2021-11-11T14:28:21.034140",
     "status": "completed"
    },
    "tags": []
   },
   "outputs": [
    {
     "data": {
      "text/plain": [
       "False"
      ]
     },
     "execution_count": 22,
     "metadata": {},
     "output_type": "execute_result"
    }
   ],
   "source": [
    "# false because of missing exclamation mark\n",
    "claim.endswith('planet')"
   ]
  },
  {
   "cell_type": "markdown",
   "id": "4a811268",
   "metadata": {
    "papermill": {
     "duration": 0.0483,
     "end_time": "2021-11-11T14:28:21.188745",
     "exception": false,
     "start_time": "2021-11-11T14:28:21.140445",
     "status": "completed"
    },
    "tags": []
   },
   "source": [
    "## 3 Converting between strings and lists: `.split()` and `.join()`\n",
    "\n",
    "`str.split()` turns a string into a list of smaller strings, breaking on whitespace by default. This is super useful for taking you from one big string to a list of words."
   ]
  },
  {
   "cell_type": "code",
   "execution_count": 23,
   "id": "61b64252",
   "metadata": {
    "papermill": {
     "duration": 0.057933,
     "end_time": "2021-11-11T14:28:21.295232",
     "exception": false,
     "start_time": "2021-11-11T14:28:21.237299",
     "status": "completed"
    },
    "tags": []
   },
   "outputs": [
    {
     "data": {
      "text/plain": [
       "['Pluto', 'is', 'a', 'planet', 'in', 'my', 'heart!']"
      ]
     },
     "execution_count": 23,
     "metadata": {},
     "output_type": "execute_result"
    }
   ],
   "source": [
    "words = claim.split()\n",
    "words"
   ]
  },
  {
   "cell_type": "markdown",
   "id": "687aa243",
   "metadata": {
    "papermill": {
     "duration": 0.05029,
     "end_time": "2021-11-11T14:28:21.394596",
     "exception": false,
     "start_time": "2021-11-11T14:28:21.344306",
     "status": "completed"
    },
    "tags": []
   },
   "source": [
    "<br>\n",
    "\n",
    "Occasionally you'll want to split on something other than whitespace:"
   ]
  },
  {
   "cell_type": "code",
   "execution_count": 25,
   "id": "55a121d3",
   "metadata": {
    "papermill": {
     "duration": 0.056549,
     "end_time": "2021-11-11T14:28:21.500668",
     "exception": false,
     "start_time": "2021-11-11T14:28:21.444119",
     "status": "completed"
    },
    "tags": []
   },
   "outputs": [],
   "source": [
    "# the immaculate way to represent dates\n",
    "datestr = '1956-01-31'\n",
    "year, month, day = datestr.split('-')"
   ]
  },
  {
   "cell_type": "markdown",
   "id": "67c4e80d",
   "metadata": {
    "papermill": {
     "duration": 0.050543,
     "end_time": "2021-11-11T14:28:21.601393",
     "exception": false,
     "start_time": "2021-11-11T14:28:21.550850",
     "status": "completed"
    },
    "tags": []
   },
   "source": [
    "<br>\n",
    "\n",
    "`str.join()` takes us in the other direction, sewing a list of strings up into one long string, using the string it was called on as a separator."
   ]
  },
  {
   "cell_type": "code",
   "execution_count": 26,
   "id": "b5ec2d25",
   "metadata": {
    "papermill": {
     "duration": 0.057004,
     "end_time": "2021-11-11T14:28:21.707477",
     "exception": false,
     "start_time": "2021-11-11T14:28:21.650473",
     "status": "completed"
    },
    "tags": []
   },
   "outputs": [
    {
     "data": {
      "text/plain": [
       "'01/31/1956'"
      ]
     },
     "execution_count": 26,
     "metadata": {},
     "output_type": "execute_result"
    }
   ],
   "source": [
    "# this date format is the work of the Devil, just an example\n",
    "'/'.join([month, day, year]) "
   ]
  },
  {
   "cell_type": "code",
   "execution_count": 28,
   "id": "6dc75103",
   "metadata": {
    "papermill": {
     "duration": 0.061719,
     "end_time": "2021-11-11T14:28:21.819997",
     "exception": false,
     "start_time": "2021-11-11T14:28:21.758278",
     "status": "completed"
    },
    "tags": []
   },
   "outputs": [
    {
     "data": {
      "text/plain": [
       "'PLUTO 👏 IS 👏 A 👏 PLANET 👏 IN 👏 MY 👏 HEART!'"
      ]
     },
     "execution_count": 28,
     "metadata": {},
     "output_type": "execute_result"
    }
   ],
   "source": [
    "# We can even put unicode characters right in our string literals :)\n",
    "' 👏 '.join([word.upper() for word in words])"
   ]
  },
  {
   "cell_type": "markdown",
   "id": "d2689336",
   "metadata": {
    "papermill": {
     "duration": 0.049606,
     "end_time": "2021-11-11T14:28:21.921525",
     "exception": false,
     "start_time": "2021-11-11T14:28:21.871919",
     "status": "completed"
    },
    "tags": []
   },
   "source": [
    "## 4 Building strings with `.format()`\n",
    "\n",
    "Python lets us concatenate strings with the `+` operator."
   ]
  },
  {
   "cell_type": "code",
   "execution_count": 29,
   "id": "0a0a8318",
   "metadata": {
    "papermill": {
     "duration": 0.059561,
     "end_time": "2021-11-11T14:28:22.030895",
     "exception": false,
     "start_time": "2021-11-11T14:28:21.971334",
     "status": "completed"
    },
    "tags": []
   },
   "outputs": [
    {
     "data": {
      "text/plain": [
       "'Pluto, we miss you.'"
      ]
     },
     "execution_count": 29,
     "metadata": {},
     "output_type": "execute_result"
    }
   ],
   "source": [
    "planet + ', we miss you.'"
   ]
  },
  {
   "cell_type": "markdown",
   "id": "02ed999f",
   "metadata": {
    "papermill": {
     "duration": 0.053516,
     "end_time": "2021-11-11T14:28:22.138143",
     "exception": false,
     "start_time": "2021-11-11T14:28:22.084627",
     "status": "completed"
    },
    "tags": []
   },
   "source": [
    "<br>\n",
    "\n",
    "If we want to throw in any non-string objects, we have to be careful to call `str()` on them first"
   ]
  },
  {
   "cell_type": "code",
   "execution_count": 30,
   "id": "9d4e4178",
   "metadata": {
    "papermill": {
     "duration": 0.069789,
     "end_time": "2021-11-11T14:28:22.259736",
     "exception": false,
     "start_time": "2021-11-11T14:28:22.189947",
     "status": "completed"
    },
    "tags": [
     "raises-exception"
    ]
   },
   "outputs": [
    {
     "ename": "TypeError",
     "evalue": "can only concatenate str (not \"int\") to str",
     "output_type": "error",
     "traceback": [
      "\u001b[1;31m---------------------------------------------------------------------------\u001b[0m",
      "\u001b[1;31mTypeError\u001b[0m                                 Traceback (most recent call last)",
      "\u001b[1;32m~\\AppData\\Local\\Temp\\ipykernel_5732\\1802981568.py\u001b[0m in \u001b[0;36m<module>\u001b[1;34m\u001b[0m\n\u001b[0;32m      1\u001b[0m \u001b[0mposition\u001b[0m \u001b[1;33m=\u001b[0m \u001b[1;36m9\u001b[0m\u001b[1;33m\u001b[0m\u001b[1;33m\u001b[0m\u001b[0m\n\u001b[1;32m----> 2\u001b[1;33m \u001b[0mplanet\u001b[0m \u001b[1;33m+\u001b[0m \u001b[1;34m\", you'll always be the \"\u001b[0m \u001b[1;33m+\u001b[0m \u001b[0mposition\u001b[0m \u001b[1;33m+\u001b[0m \u001b[1;34m\"th planet to me.\"\u001b[0m\u001b[1;33m\u001b[0m\u001b[1;33m\u001b[0m\u001b[0m\n\u001b[0m",
      "\u001b[1;31mTypeError\u001b[0m: can only concatenate str (not \"int\") to str"
     ]
    }
   ],
   "source": [
    "position = 9\n",
    "# this will result in an error\n",
    "planet + \", you'll always be the \" + position + \"th planet to me.\""
   ]
  },
  {
   "cell_type": "code",
   "execution_count": 31,
   "id": "8f5ce02e",
   "metadata": {
    "papermill": {
     "duration": 0.062193,
     "end_time": "2021-11-11T14:28:22.373169",
     "exception": false,
     "start_time": "2021-11-11T14:28:22.310976",
     "status": "completed"
    },
    "tags": []
   },
   "outputs": [
    {
     "data": {
      "text/plain": [
       "\"Pluto, you'll always be the 9th planet to me.\""
      ]
     },
     "execution_count": 31,
     "metadata": {},
     "output_type": "execute_result"
    }
   ],
   "source": [
    "# this will evaluate without an error\n",
    "planet + \", you'll always be the \" + str(position) + \"th planet to me.\""
   ]
  },
  {
   "cell_type": "markdown",
   "id": "0a09637a",
   "metadata": {
    "papermill": {
     "duration": 0.051988,
     "end_time": "2021-11-11T14:28:22.477772",
     "exception": false,
     "start_time": "2021-11-11T14:28:22.425784",
     "status": "completed"
    },
    "tags": []
   },
   "source": [
    "<br>\n",
    "\n",
    "This is getting hard to read and annoying to type. `str.format()` to the rescue."
   ]
  },
  {
   "cell_type": "code",
   "execution_count": 25,
   "id": "d4438b02",
   "metadata": {
    "execution": {
     "iopub.execute_input": "2021-11-11T14:28:22.587489Z",
     "iopub.status.busy": "2021-11-11T14:28:22.586635Z",
     "iopub.status.idle": "2021-11-11T14:28:22.589811Z",
     "shell.execute_reply": "2021-11-11T14:28:22.590346Z"
    },
    "papermill": {
     "duration": 0.061338,
     "end_time": "2021-11-11T14:28:22.590525",
     "exception": false,
     "start_time": "2021-11-11T14:28:22.529187",
     "status": "completed"
    },
    "tags": []
   },
   "outputs": [
    {
     "data": {
      "text/plain": [
       "\"Pluto, you'll always be the 9th planet to me.\""
      ]
     },
     "execution_count": 25,
     "metadata": {},
     "output_type": "execute_result"
    }
   ],
   "source": [
    "# \"pro\" way to build muatable strings\n",
    "\"{}, you'll always be the {}th planet to me.\".format(planet, position)"
   ]
  },
  {
   "cell_type": "markdown",
   "id": "46e5bdf1",
   "metadata": {
    "papermill": {
     "duration": 0.052005,
     "end_time": "2021-11-11T14:28:22.695634",
     "exception": false,
     "start_time": "2021-11-11T14:28:22.643629",
     "status": "completed"
    },
    "tags": []
   },
   "source": [
    "<br>\n",
    "\n",
    "So much cleaner! We call `.format()` on a \"format string\", where the Python values we want to insert are represented with `{}` placeholders.\n",
    "\n",
    "Notice how we didn't even have to call `str()` to convert `position` from an int. `format()` takes care of that for us.\n",
    "\n",
    "If that was all that `format()` did, it would still be incredibly useful. But as it turns out, it can do a *lot* more. Here's just a taste:"
   ]
  },
  {
   "cell_type": "code",
   "execution_count": 26,
   "id": "c757d9f3",
   "metadata": {
    "execution": {
     "iopub.execute_input": "2021-11-11T14:28:22.807580Z",
     "iopub.status.busy": "2021-11-11T14:28:22.806698Z",
     "iopub.status.idle": "2021-11-11T14:28:22.810691Z",
     "shell.execute_reply": "2021-11-11T14:28:22.810023Z"
    },
    "papermill": {
     "duration": 0.063477,
     "end_time": "2021-11-11T14:28:22.810833",
     "exception": false,
     "start_time": "2021-11-11T14:28:22.747356",
     "status": "completed"
    },
    "tags": []
   },
   "outputs": [
    {
     "data": {
      "text/plain": [
       "\"Pluto weighs about 1.3e+22 kilograms (0.218% of Earth's mass). It is home to 52,910,390 Plutonians.\""
      ]
     },
     "execution_count": 26,
     "metadata": {},
     "output_type": "execute_result"
    }
   ],
   "source": [
    "pluto_mass = 1.303 * 10**22\n",
    "earth_mass = 5.9722 * 10**24\n",
    "population = 52910390\n",
    "#         2 decimal points   3 decimal points, format as percent     separate with commas\n",
    "\"{} weighs about {:.2} kilograms ({:.3%} of Earth's mass). It is home to {:,} Plutonians.\".format(\n",
    "    planet, pluto_mass, pluto_mass / earth_mass, population,\n",
    ")"
   ]
  },
  {
   "cell_type": "code",
   "execution_count": 32,
   "id": "340c34a2",
   "metadata": {
    "papermill": {
     "duration": 0.060287,
     "end_time": "2021-11-11T14:28:22.923766",
     "exception": false,
     "start_time": "2021-11-11T14:28:22.863479",
     "status": "completed"
    },
    "tags": []
   },
   "outputs": [
    {
     "name": "stdout",
     "output_type": "stream",
     "text": [
      "Pluto's a planet.\n",
      "No, it's a dwarf planet.\n",
      "planet!\n",
      "dwarf planet!\n"
     ]
    }
   ],
   "source": [
    "# Referring to format() arguments by index, starting from 0\n",
    "s = \"\"\"Pluto's a {0}.\n",
    "No, it's a {1}.\n",
    "{0}!\n",
    "{1}!\"\"\".format('planet', 'dwarf planet')\n",
    "print(s)"
   ]
  },
  {
   "cell_type": "markdown",
   "id": "638546b9",
   "metadata": {
    "papermill": {
     "duration": 0.053186,
     "end_time": "2021-11-11T14:28:23.030703",
     "exception": false,
     "start_time": "2021-11-11T14:28:22.977517",
     "status": "completed"
    },
    "tags": []
   },
   "source": [
    "<br>\n",
    "\n",
    "We are just scratching the surface here for `str.format`. \n",
    "\n",
    "See here: [pyformat.info](https://pyformat.info/) and [the official docs](https://docs.python.org/3/library/string.html#formatstrings) for further reading."
   ]
  },
  {
   "cell_type": "markdown",
   "id": "7e286cca",
   "metadata": {
    "papermill": {
     "duration": 0.052657,
     "end_time": "2021-11-11T14:28:23.136274",
     "exception": false,
     "start_time": "2021-11-11T14:28:23.083617",
     "status": "completed"
    },
    "tags": []
   },
   "source": [
    "## 5 Dictionaries\n",
    "\n",
    "Dictionaries are a built-in Python data structure for mapping \"keys\" to \"values\".  This is an important structure to be aware of, even though, for now, applications may not be obvious to you."
   ]
  },
  {
   "cell_type": "code",
   "execution_count": 33,
   "id": "994f32cc",
   "metadata": {
    "papermill": {
     "duration": 0.060907,
     "end_time": "2021-11-11T14:28:23.249896",
     "exception": false,
     "start_time": "2021-11-11T14:28:23.188989",
     "status": "completed"
    },
    "tags": []
   },
   "outputs": [],
   "source": [
    "numbers = {'one':1, 'two':2, 'three':3}"
   ]
  },
  {
   "cell_type": "markdown",
   "id": "1c641907",
   "metadata": {
    "papermill": {
     "duration": 0.052678,
     "end_time": "2021-11-11T14:28:23.355991",
     "exception": false,
     "start_time": "2021-11-11T14:28:23.303313",
     "status": "completed"
    },
    "tags": []
   },
   "source": [
    "In this case `'one'`, `'two'`, and `'three'` are the **keys**, and 1, 2 and 3 are their corresponding values.\n",
    "\n",
    "Values are accessed via square bracket syntax similar to indexing into lists and strings."
   ]
  },
  {
   "cell_type": "code",
   "execution_count": 29,
   "id": "6f2eb9f1",
   "metadata": {
    "execution": {
     "iopub.execute_input": "2021-11-11T14:28:23.468880Z",
     "iopub.status.busy": "2021-11-11T14:28:23.468067Z",
     "iopub.status.idle": "2021-11-11T14:28:23.471272Z",
     "shell.execute_reply": "2021-11-11T14:28:23.471761Z"
    },
    "papermill": {
     "duration": 0.062028,
     "end_time": "2021-11-11T14:28:23.471932",
     "exception": false,
     "start_time": "2021-11-11T14:28:23.409904",
     "status": "completed"
    },
    "tags": []
   },
   "outputs": [
    {
     "data": {
      "text/plain": [
       "1"
      ]
     },
     "execution_count": 29,
     "metadata": {},
     "output_type": "execute_result"
    }
   ],
   "source": [
    "numbers['one']"
   ]
  },
  {
   "cell_type": "markdown",
   "id": "2f414cef",
   "metadata": {
    "papermill": {
     "duration": 0.053153,
     "end_time": "2021-11-11T14:28:23.578609",
     "exception": false,
     "start_time": "2021-11-11T14:28:23.525456",
     "status": "completed"
    },
    "tags": []
   },
   "source": [
    "<br>\n",
    "\n",
    "We can use the same syntax to add another key, value pair"
   ]
  },
  {
   "cell_type": "code",
   "execution_count": 34,
   "id": "098e105c",
   "metadata": {
    "papermill": {
     "duration": 0.062812,
     "end_time": "2021-11-11T14:28:23.694894",
     "exception": false,
     "start_time": "2021-11-11T14:28:23.632082",
     "status": "completed"
    },
    "tags": []
   },
   "outputs": [
    {
     "data": {
      "text/plain": [
       "{'one': 1, 'two': 2, 'three': 3, 'eleven': 11}"
      ]
     },
     "execution_count": 34,
     "metadata": {},
     "output_type": "execute_result"
    }
   ],
   "source": [
    "numbers['eleven'] = 11\n",
    "numbers"
   ]
  },
  {
   "cell_type": "markdown",
   "id": "321047df",
   "metadata": {
    "papermill": {
     "duration": 0.053355,
     "end_time": "2021-11-11T14:28:23.802180",
     "exception": false,
     "start_time": "2021-11-11T14:28:23.748825",
     "status": "completed"
    },
    "tags": []
   },
   "source": [
    "<br>\n",
    "\n",
    "Or to change the value associated with an existing key"
   ]
  },
  {
   "cell_type": "code",
   "execution_count": 35,
   "id": "b6f26e13",
   "metadata": {
    "papermill": {
     "duration": 0.063622,
     "end_time": "2021-11-11T14:28:23.920337",
     "exception": false,
     "start_time": "2021-11-11T14:28:23.856715",
     "status": "completed"
    },
    "tags": []
   },
   "outputs": [
    {
     "data": {
      "text/plain": [
       "{'one': 'Pluto', 'two': 2, 'three': 3, 'eleven': 11}"
      ]
     },
     "execution_count": 35,
     "metadata": {},
     "output_type": "execute_result"
    }
   ],
   "source": [
    "numbers['one'] = 'Pluto'\n",
    "numbers"
   ]
  },
  {
   "cell_type": "markdown",
   "id": "c1ddd30e",
   "metadata": {
    "papermill": {
     "duration": 0.055173,
     "end_time": "2021-11-11T14:28:24.030262",
     "exception": false,
     "start_time": "2021-11-11T14:28:23.975089",
     "status": "completed"
    },
    "tags": []
   },
   "source": [
    "<br>\n",
    "\n",
    "Python has *dictionary comprehensions* with a syntax similar to the list comprehensions we saw in the previous tutorial."
   ]
  },
  {
   "cell_type": "code",
   "execution_count": 36,
   "id": "049fee32",
   "metadata": {
    "papermill": {
     "duration": 0.064541,
     "end_time": "2021-11-11T14:28:24.149819",
     "exception": false,
     "start_time": "2021-11-11T14:28:24.085278",
     "status": "completed"
    },
    "tags": []
   },
   "outputs": [
    {
     "data": {
      "text/plain": [
       "{'Mercury': 'M',\n",
       " 'Venus': 'V',\n",
       " 'Earth': 'E',\n",
       " 'Mars': 'M',\n",
       " 'Jupiter': 'J',\n",
       " 'Saturn': 'S',\n",
       " 'Uranus': 'U',\n",
       " 'Neptune': 'N'}"
      ]
     },
     "execution_count": 36,
     "metadata": {},
     "output_type": "execute_result"
    }
   ],
   "source": [
    "planets = ['Mercury', 'Venus', 'Earth', 'Mars', 'Jupiter', 'Saturn', 'Uranus', 'Neptune']\n",
    "planet_to_initial = {i: i[0] for i in planets}\n",
    "planet_to_initial"
   ]
  },
  {
   "cell_type": "markdown",
   "id": "e1793e0e",
   "metadata": {
    "papermill": {
     "duration": 0.054552,
     "end_time": "2021-11-11T14:28:24.259332",
     "exception": false,
     "start_time": "2021-11-11T14:28:24.204780",
     "status": "completed"
    },
    "tags": []
   },
   "source": [
    "<br>\n",
    "\n",
    "The `in` operator tells us whether something is a key in the dictionary"
   ]
  },
  {
   "cell_type": "code",
   "execution_count": 33,
   "id": "2c6413b6",
   "metadata": {
    "execution": {
     "iopub.execute_input": "2021-11-11T14:28:24.374405Z",
     "iopub.status.busy": "2021-11-11T14:28:24.373645Z",
     "iopub.status.idle": "2021-11-11T14:28:24.376416Z",
     "shell.execute_reply": "2021-11-11T14:28:24.377125Z"
    },
    "papermill": {
     "duration": 0.063342,
     "end_time": "2021-11-11T14:28:24.377390",
     "exception": false,
     "start_time": "2021-11-11T14:28:24.314048",
     "status": "completed"
    },
    "tags": []
   },
   "outputs": [
    {
     "data": {
      "text/plain": [
       "True"
      ]
     },
     "execution_count": 33,
     "metadata": {},
     "output_type": "execute_result"
    }
   ],
   "source": [
    "'Saturn' in planet_to_initial"
   ]
  },
  {
   "cell_type": "code",
   "execution_count": 34,
   "id": "d6daa109",
   "metadata": {
    "execution": {
     "iopub.execute_input": "2021-11-11T14:28:24.494395Z",
     "iopub.status.busy": "2021-11-11T14:28:24.493656Z",
     "iopub.status.idle": "2021-11-11T14:28:24.498054Z",
     "shell.execute_reply": "2021-11-11T14:28:24.498539Z"
    },
    "papermill": {
     "duration": 0.064117,
     "end_time": "2021-11-11T14:28:24.498719",
     "exception": false,
     "start_time": "2021-11-11T14:28:24.434602",
     "status": "completed"
    },
    "tags": []
   },
   "outputs": [
    {
     "data": {
      "text/plain": [
       "False"
      ]
     },
     "execution_count": 34,
     "metadata": {},
     "output_type": "execute_result"
    }
   ],
   "source": [
    "'Betelgeuse' in planet_to_initial"
   ]
  },
  {
   "cell_type": "markdown",
   "id": "33288089",
   "metadata": {
    "papermill": {
     "duration": 0.055756,
     "end_time": "2021-11-11T14:28:24.610697",
     "exception": false,
     "start_time": "2021-11-11T14:28:24.554941",
     "status": "completed"
    },
    "tags": []
   },
   "source": [
    "<br>\n",
    "\n",
    "A for loop over a dictionary will loop over its keys"
   ]
  },
  {
   "cell_type": "code",
   "execution_count": 35,
   "id": "8bf68249",
   "metadata": {
    "execution": {
     "iopub.execute_input": "2021-11-11T14:28:24.727941Z",
     "iopub.status.busy": "2021-11-11T14:28:24.727056Z",
     "iopub.status.idle": "2021-11-11T14:28:24.731142Z",
     "shell.execute_reply": "2021-11-11T14:28:24.730564Z"
    },
    "papermill": {
     "duration": 0.064781,
     "end_time": "2021-11-11T14:28:24.731322",
     "exception": false,
     "start_time": "2021-11-11T14:28:24.666541",
     "status": "completed"
    },
    "tags": []
   },
   "outputs": [
    {
     "name": "stdout",
     "output_type": "stream",
     "text": [
      "one = Pluto\n",
      "two = 2\n",
      "three = 3\n",
      "eleven = 11\n"
     ]
    }
   ],
   "source": [
    "for k in numbers:\n",
    "    print(\"{} = {}\".format(k, numbers[k]))"
   ]
  },
  {
   "cell_type": "markdown",
   "id": "e145ecb0",
   "metadata": {
    "papermill": {
     "duration": 0.056221,
     "end_time": "2021-11-11T14:28:24.844433",
     "exception": false,
     "start_time": "2021-11-11T14:28:24.788212",
     "status": "completed"
    },
    "tags": []
   },
   "source": [
    "We can access a collection of all the keys or all the values with `dict.keys()` and `dict.values()`, respectively."
   ]
  },
  {
   "cell_type": "code",
   "execution_count": 37,
   "id": "1c2e7cf6",
   "metadata": {
    "papermill": {
     "duration": 0.065891,
     "end_time": "2021-11-11T14:28:24.967582",
     "exception": false,
     "start_time": "2021-11-11T14:28:24.901691",
     "status": "completed"
    },
    "tags": []
   },
   "outputs": [
    {
     "data": {
      "text/plain": [
       "'E J M M N S U V'"
      ]
     },
     "execution_count": 37,
     "metadata": {},
     "output_type": "execute_result"
    }
   ],
   "source": [
    "# Get all the initials, sort them alphabetically, and put them in a space-separated string.\n",
    "' '.join(sorted(planet_to_initial.values()))"
   ]
  },
  {
   "cell_type": "markdown",
   "id": "a4969767",
   "metadata": {
    "papermill": {
     "duration": 0.057136,
     "end_time": "2021-11-11T14:28:25.081976",
     "exception": false,
     "start_time": "2021-11-11T14:28:25.024840",
     "status": "completed"
    },
    "tags": []
   },
   "source": [
    "<br>\n",
    "\n",
    "The very useful `dict.items()` method lets us iterate over the keys and values of a dictionary simultaneously. (In Python jargon, an **item** refers to a key, value pair)"
   ]
  },
  {
   "cell_type": "code",
   "execution_count": 38,
   "id": "871bfe45",
   "metadata": {
    "papermill": {
     "duration": 0.065589,
     "end_time": "2021-11-11T14:28:25.204339",
     "exception": false,
     "start_time": "2021-11-11T14:28:25.138750",
     "status": "completed"
    },
    "tags": []
   },
   "outputs": [
    {
     "name": "stdout",
     "output_type": "stream",
     "text": [
      "   Mercury begins with \"M\"\n",
      "     Venus begins with \"V\"\n",
      "     Earth begins with \"E\"\n",
      "      Mars begins with \"M\"\n",
      "   Jupiter begins with \"J\"\n",
      "    Saturn begins with \"S\"\n",
      "    Uranus begins with \"U\"\n",
      "   Neptune begins with \"N\"\n"
     ]
    }
   ],
   "source": [
    "for planet, initial in planet_to_initial.items():\n",
    "    print(\"{} begins with \\\"{}\\\"\".format(planet.rjust(10), initial))"
   ]
  },
  {
   "cell_type": "markdown",
   "id": "c936a197",
   "metadata": {
    "papermill": {
     "duration": 0.05677,
     "end_time": "2021-11-11T14:28:25.318424",
     "exception": false,
     "start_time": "2021-11-11T14:28:25.261654",
     "status": "completed"
    },
    "tags": []
   },
   "source": [
    "<br>\n",
    "\n",
    "To read a full inventory of dictionaries' methods, click the \"output\" button below to read the full help page, or check out the [official online documentation](https://docs.python.org/3/library/stdtypes.html#dict)."
   ]
  },
  {
   "cell_type": "code",
   "execution_count": 39,
   "id": "31cc7c5c",
   "metadata": {
    "_kg_hide-output": true,
    "collapsed": true,
    "jupyter": {
     "outputs_hidden": true
    },
    "papermill": {
     "duration": 0.077807,
     "end_time": "2021-11-11T14:28:25.454060",
     "exception": false,
     "start_time": "2021-11-11T14:28:25.376253",
     "status": "completed"
    },
    "tags": []
   },
   "outputs": [
    {
     "name": "stdout",
     "output_type": "stream",
     "text": [
      "Help on class dict in module builtins:\n",
      "\n",
      "class dict(object)\n",
      " |  dict() -> new empty dictionary\n",
      " |  dict(mapping) -> new dictionary initialized from a mapping object's\n",
      " |      (key, value) pairs\n",
      " |  dict(iterable) -> new dictionary initialized as if via:\n",
      " |      d = {}\n",
      " |      for k, v in iterable:\n",
      " |          d[k] = v\n",
      " |  dict(**kwargs) -> new dictionary initialized with the name=value pairs\n",
      " |      in the keyword argument list.  For example:  dict(one=1, two=2)\n",
      " |  \n",
      " |  Methods defined here:\n",
      " |  \n",
      " |  __contains__(self, key, /)\n",
      " |      True if the dictionary has the specified key, else False.\n",
      " |  \n",
      " |  __delitem__(self, key, /)\n",
      " |      Delete self[key].\n",
      " |  \n",
      " |  __eq__(self, value, /)\n",
      " |      Return self==value.\n",
      " |  \n",
      " |  __ge__(self, value, /)\n",
      " |      Return self>=value.\n",
      " |  \n",
      " |  __getattribute__(self, name, /)\n",
      " |      Return getattr(self, name).\n",
      " |  \n",
      " |  __getitem__(...)\n",
      " |      x.__getitem__(y) <==> x[y]\n",
      " |  \n",
      " |  __gt__(self, value, /)\n",
      " |      Return self>value.\n",
      " |  \n",
      " |  __init__(self, /, *args, **kwargs)\n",
      " |      Initialize self.  See help(type(self)) for accurate signature.\n",
      " |  \n",
      " |  __iter__(self, /)\n",
      " |      Implement iter(self).\n",
      " |  \n",
      " |  __le__(self, value, /)\n",
      " |      Return self<=value.\n",
      " |  \n",
      " |  __len__(self, /)\n",
      " |      Return len(self).\n",
      " |  \n",
      " |  __lt__(self, value, /)\n",
      " |      Return self<value.\n",
      " |  \n",
      " |  __ne__(self, value, /)\n",
      " |      Return self!=value.\n",
      " |  \n",
      " |  __repr__(self, /)\n",
      " |      Return repr(self).\n",
      " |  \n",
      " |  __setitem__(self, key, value, /)\n",
      " |      Set self[key] to value.\n",
      " |  \n",
      " |  __sizeof__(...)\n",
      " |      D.__sizeof__() -> size of D in memory, in bytes\n",
      " |  \n",
      " |  clear(...)\n",
      " |      D.clear() -> None.  Remove all items from D.\n",
      " |  \n",
      " |  copy(...)\n",
      " |      D.copy() -> a shallow copy of D\n",
      " |  \n",
      " |  get(self, key, default=None, /)\n",
      " |      Return the value for key if key is in the dictionary, else default.\n",
      " |  \n",
      " |  items(...)\n",
      " |      D.items() -> a set-like object providing a view on D's items\n",
      " |  \n",
      " |  keys(...)\n",
      " |      D.keys() -> a set-like object providing a view on D's keys\n",
      " |  \n",
      " |  pop(...)\n",
      " |      D.pop(k[,d]) -> v, remove specified key and return the corresponding value.\n",
      " |      If key is not found, d is returned if given, otherwise KeyError is raised\n",
      " |  \n",
      " |  popitem(...)\n",
      " |      D.popitem() -> (k, v), remove and return some (key, value) pair as a\n",
      " |      2-tuple; but raise KeyError if D is empty.\n",
      " |  \n",
      " |  setdefault(self, key, default=None, /)\n",
      " |      Insert key with a value of default if key is not in the dictionary.\n",
      " |      \n",
      " |      Return the value for key if key is in the dictionary, else default.\n",
      " |  \n",
      " |  update(...)\n",
      " |      D.update([E, ]**F) -> None.  Update D from dict/iterable E and F.\n",
      " |      If E is present and has a .keys() method, then does:  for k in E: D[k] = E[k]\n",
      " |      If E is present and lacks a .keys() method, then does:  for k, v in E: D[k] = v\n",
      " |      In either case, this is followed by: for k in F:  D[k] = F[k]\n",
      " |  \n",
      " |  values(...)\n",
      " |      D.values() -> an object providing a view on D's values\n",
      " |  \n",
      " |  ----------------------------------------------------------------------\n",
      " |  Class methods defined here:\n",
      " |  \n",
      " |  fromkeys(iterable, value=None, /) from builtins.type\n",
      " |      Create a new dictionary with keys from iterable and values set to value.\n",
      " |  \n",
      " |  ----------------------------------------------------------------------\n",
      " |  Static methods defined here:\n",
      " |  \n",
      " |  __new__(*args, **kwargs) from builtins.type\n",
      " |      Create and return a new object.  See help(type) for accurate signature.\n",
      " |  \n",
      " |  ----------------------------------------------------------------------\n",
      " |  Data and other attributes defined here:\n",
      " |  \n",
      " |  __hash__ = None\n",
      "\n"
     ]
    }
   ],
   "source": [
    "help(dict)"
   ]
  },
  {
   "cell_type": "markdown",
   "id": "a6dd417d-b90f-4ada-bcd3-706a735b0847",
   "metadata": {},
   "source": [
    "## 6 Exercises"
   ]
  },
  {
   "cell_type": "markdown",
   "id": "e5ab6cf4-8ca0-4d3c-bcfd-eaa8682e903e",
   "metadata": {},
   "source": [
    "For each of the five strings below, predict what `len()` would return when passed that string. Use the variable `length` to record your answer, then run the cell to check whether you were right.  \n",
    "\n",
    "### 6.1a."
   ]
  },
  {
   "cell_type": "code",
   "execution_count": 41,
   "id": "617eb25a-6458-49d0-8e19-b62797591d8c",
   "metadata": {},
   "outputs": [
    {
     "data": {
      "text/plain": [
       "0"
      ]
     },
     "execution_count": 41,
     "metadata": {},
     "output_type": "execute_result"
    }
   ],
   "source": [
    "# what is the length?\n",
    "a = \"\"\n",
    "\n",
    "# len(a)"
   ]
  },
  {
   "cell_type": "markdown",
   "id": "93a22cb5-ba45-4a36-b14b-253c98e099cd",
   "metadata": {},
   "source": [
    "### 6.1b"
   ]
  },
  {
   "cell_type": "code",
   "execution_count": null,
   "id": "6958b02b-de04-4ef2-ad3d-321d6f39fa9b",
   "metadata": {},
   "outputs": [],
   "source": [
    "# what is the length?\n",
    "b = \"it's ok\"\n",
    "\n",
    "# len(b)"
   ]
  },
  {
   "cell_type": "markdown",
   "id": "fe88b3a8-457d-433f-b711-2d3c09086d3b",
   "metadata": {},
   "source": [
    "### 6.1c"
   ]
  },
  {
   "cell_type": "code",
   "execution_count": null,
   "id": "10a5acf7-4145-4c5d-a14d-4e31427fa9b8",
   "metadata": {},
   "outputs": [],
   "source": [
    "# what is the length?\n",
    "c = 'it\\'s ok'\n",
    "\n",
    "# len(c)"
   ]
  },
  {
   "cell_type": "markdown",
   "id": "101bcf5b-32b8-4d0d-9a04-e7d40740bd67",
   "metadata": {},
   "source": [
    "### 6.1d"
   ]
  },
  {
   "cell_type": "code",
   "execution_count": null,
   "id": "5161d411-d7c8-4c62-927b-d1f64c9938ec",
   "metadata": {},
   "outputs": [],
   "source": [
    "# what is the length?\n",
    "d = \"\"\"hey\"\"\"\n",
    "\n",
    "# len(d)"
   ]
  },
  {
   "cell_type": "markdown",
   "id": "c17c81b0-5c2b-4692-bec4-b7d995f1cfa8",
   "metadata": {},
   "source": [
    "### 6.1e"
   ]
  },
  {
   "cell_type": "code",
   "execution_count": null,
   "id": "481f1cda-a7eb-4818-9c72-b71c64eabda8",
   "metadata": {},
   "outputs": [],
   "source": [
    "# what is the length?\n",
    "e = '\\n'\n",
    "\n",
    "# len(e)"
   ]
  },
  {
   "cell_type": "markdown",
   "id": "c01862be-59ed-4128-a7a1-6afbfe434ee5",
   "metadata": {},
   "source": [
    "### 6.2\n",
    "\n",
    "There is a saying that \"Data scientists spend 80% of their time cleaning data, and 20% of their time complaining about cleaning data.\" Let's see if you can write a function to help clean US zip code data. Given a string, it should return whether or not that string represents a valid zip code. For our purposes, a valid zip code is any string consisting of exactly 5 digits.\n",
    "\n",
    "HINT: `str` has a method that will be useful here. Use `help(str)` to review a list of string methods."
   ]
  },
  {
   "cell_type": "code",
   "execution_count": null,
   "id": "029fb3ba-a08a-4c46-ad1f-2d90aac9be28",
   "metadata": {},
   "outputs": [],
   "source": [
    "def is_valid_zip(zip_code):\n",
    "    \"\"\"Returns whether the input string is a valid (5 digit) zip code\n",
    "    \"\"\"\n",
    "    pass\n",
    "\n"
   ]
  },
  {
   "cell_type": "markdown",
   "id": "3e8a0468-d93b-4d22-8f6d-10f9fe0b9d7a",
   "metadata": {},
   "source": [
    "### 6.3\n",
    "\n",
    "A researcher has gathered thousands of news articles. But she wants to focus her attention on articles including a specific word. Complete the function below to help her filter her list of articles.\n",
    "\n",
    "Your function should meet the following criteria:\n",
    "\n",
    "- Do not include documents where the keyword string shows up only as a part of a larger word. For example, if she were looking for the keyword “closed”, you would not include the string “enclosed.” \n",
    "- She does not want you to distinguish upper case from lower case letters. So the phrase “Closed the case.” would be included when the keyword is “closed”\n",
    "- Do not let periods or commas affect what is matched. “It is closed.” would be included when the keyword is “closed”. But you can assume there are no other types of punctuation."
   ]
  },
  {
   "cell_type": "code",
   "execution_count": 42,
   "id": "f089fe0d-027e-49cb-8b50-5f94ab44d027",
   "metadata": {},
   "outputs": [],
   "source": [
    "def word_search(doc_list, keyword):\n",
    "    \"\"\"\n",
    "    Takes a list of documents (each document is a string) and a keyword. \n",
    "    Returns list of the index values into the original list for all documents \n",
    "    containing the keyword.\n",
    "\n",
    "    Example:\n",
    "    doc_list = [\"The Learn Python Challenge Casino.\", \"They bought a car\", \"Casinoville\"]\n",
    "    >>> word_search(doc_list, 'casino')\n",
    "    >>> [0]\n",
    "    \"\"\"\n",
    "    pass\n",
    "\n"
   ]
  },
  {
   "cell_type": "markdown",
   "id": "436deb17-62e2-4624-a400-c14ff027709b",
   "metadata": {},
   "source": [
    "### 6.4\n",
    "\n",
    "Now the researcher wants to supply multiple keywords to search for. Complete the function below to help her.\n",
    "\n",
    "(You're encouraged to use the `word_search` function you just wrote when implementing this function. Reusing code in this way makes your programs more robust and readable - and it saves typing!)"
   ]
  },
  {
   "cell_type": "code",
   "execution_count": null,
   "id": "da6fe7d0-2cec-4ab8-a329-6967b083da33",
   "metadata": {},
   "outputs": [],
   "source": [
    "def multi_word_search(doc_list, keywords):\n",
    "    \"\"\"\n",
    "    Takes list of documents (each document is a string) and a list of keywords.  \n",
    "    Returns a dictionary where each key is a keyword, and the value is a list of indices\n",
    "    (from doc_list) of the documents containing that keyword\n",
    "\n",
    "    >>> doc_list = [\"The Learn Python Challenge Casino.\", \"They bought a car and a casino\", \"Casinoville\"]\n",
    "    >>> keywords = ['casino', 'they']\n",
    "    >>> multi_word_search(doc_list, keywords)\n",
    "    {'casino': [0, 1], 'they': [1]}\n",
    "    \"\"\"\n",
    "    pass\n",
    "\n"
   ]
  }
 ],
 "metadata": {
  "anaconda-cloud": {},
  "kernelspec": {
   "display_name": "Python 3 (ipykernel)",
   "language": "python",
   "name": "python3"
  },
  "language_info": {
   "codemirror_mode": {
    "name": "ipython",
    "version": 3
   },
   "file_extension": ".py",
   "mimetype": "text/x-python",
   "name": "python",
   "nbconvert_exporter": "python",
   "pygments_lexer": "ipython3",
   "version": "3.7.13"
  },
  "learntools_metadata": {
   "lesson_index": 5,
   "type": "tutorial"
  },
  "papermill": {
   "default_parameters": {},
   "duration": 17.718189,
   "end_time": "2021-11-11T14:28:26.357709",
   "environment_variables": {},
   "exception": null,
   "input_path": "__notebook__.ipynb",
   "output_path": "__notebook__.ipynb",
   "parameters": {},
   "start_time": "2021-11-11T14:28:08.639520",
   "version": "2.3.3"
  }
 },
 "nbformat": 4,
 "nbformat_minor": 5
}
