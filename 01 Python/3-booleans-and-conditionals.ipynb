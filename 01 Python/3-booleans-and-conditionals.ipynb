{
 "cells": [
  {
   "cell_type": "markdown",
   "id": "06d8a1e4-a385-4d9c-8ac4-3425267a5766",
   "metadata": {},
   "source": [
    "# Lab 03 Booleans and conditionals\n",
    "\n",
    "<br>\n",
    "\n",
    "<center>\n",
    "    \n",
    "<img src=\"img/craiyon-bool.jpg\" alt=\"Spam\" width=\"300\"/> \n",
    "    \n",
    "    Craiyon.com \"0 or 1\" (typical AI!)\n",
    "    \n",
    "</center>    \n",
    "\n",
    "<br>"
   ]
  },
  {
   "cell_type": "markdown",
   "id": "e58af783-f4e8-43f8-ac37-06f45834fff3",
   "metadata": {},
   "source": [
    "## 1 Objectives\n",
    "\n",
    "Boolean expressions are a way of representing logical values like `True` and `False` that are essential in many computing tasks\n",
    "\n",
    "We'll cover:\n",
    "\n",
    "- Boolean basics\n",
    "\n",
    "- Building boolean expressions\n",
    "\n",
    "<br>"
   ]
  },
  {
   "cell_type": "markdown",
   "id": "f403877b",
   "metadata": {
    "papermill": {
     "duration": 0.017961,
     "end_time": "2021-11-11T14:28:39.359618",
     "exception": false,
     "start_time": "2021-11-11T14:28:39.341657",
     "status": "completed"
    },
    "tags": []
   },
   "source": [
    "## 2 Booleans\n",
    "\n",
    "Python has a type of variable called `bool`. It has two possible values: `True` and `False`."
   ]
  },
  {
   "cell_type": "code",
   "execution_count": 1,
   "id": "015922aa",
   "metadata": {
    "papermill": {
     "duration": 0.034564,
     "end_time": "2021-11-11T14:28:39.410414",
     "exception": false,
     "start_time": "2021-11-11T14:28:39.375850",
     "status": "completed"
    },
    "tags": []
   },
   "outputs": [
    {
     "name": "stdout",
     "output_type": "stream",
     "text": [
      "True\n",
      "<class 'bool'>\n"
     ]
    }
   ],
   "source": [
    "\n",
    "x = True\n",
    "print(x)\n",
    "print(type(x))"
   ]
  },
  {
   "cell_type": "markdown",
   "id": "13d6cff4",
   "metadata": {
    "papermill": {
     "duration": 0.016206,
     "end_time": "2021-11-11T14:28:39.445838",
     "exception": false,
     "start_time": "2021-11-11T14:28:39.429632",
     "status": "completed"
    },
    "tags": []
   },
   "source": [
    "<br>\n",
    "\n",
    "Rather than putting `True` or `False` directly in our code, we usually get boolean values from **boolean operators**.  These are operators that answer yes/no questions. We'll go through some of these operators below. "
   ]
  },
  {
   "cell_type": "markdown",
   "id": "f55dfea7",
   "metadata": {
    "papermill": {
     "duration": 0.018173,
     "end_time": "2021-11-11T14:28:39.480462",
     "exception": false,
     "start_time": "2021-11-11T14:28:39.462289",
     "status": "completed"
    },
    "tags": []
   },
   "source": [
    "## 3 Comparison Operations\n",
    "\n",
    "| Operation     | Description                          |\n",
    "|---------------|--------------------------------------|\n",
    "| ``a == b``    | ``a`` equal to ``b``                 |\n",
    "| ``a < b``     | ``a`` less than ``b``                |\n",
    "| ``a <= b``    | ``a`` less than or equal to ``b``    |\n",
    "| ``a != b``    | ``a`` not equal to ``b``             |\n",
    "| ``a > b``     | ``a`` greater than ``b``             |\n",
    "| ``a >= b``    | ``a`` greater than or equal to ``b`` |\n",
    "\n",
    "<span style=\"display:none\"></span>\n"
   ]
  },
  {
   "cell_type": "code",
   "execution_count": 2,
   "id": "51ebee97",
   "metadata": {
    "papermill": {
     "duration": 0.031723,
     "end_time": "2021-11-11T14:28:39.529867",
     "exception": false,
     "start_time": "2021-11-11T14:28:39.498144",
     "status": "completed"
    },
    "tags": []
   },
   "outputs": [
    {
     "name": "stdout",
     "output_type": "stream",
     "text": [
      "Can a 19-year-old run for president? False\n",
      "Can a 45-year-old run for president? True\n"
     ]
    }
   ],
   "source": [
    "# A first Boolean expression\n",
    "def can_run_for_president(age):\n",
    "    \"\"\"Can someone of the given age run for president in the US?\"\"\"\n",
    "    # The US Constitution says you must be at least 35 years old\n",
    "    return age >= 35\n",
    "\n",
    "print(\"Can a 19-year-old run for president?\", can_run_for_president(19))\n",
    "print(\"Can a 45-year-old run for president?\", can_run_for_president(45))"
   ]
  },
  {
   "cell_type": "markdown",
   "id": "6e8c2d4b",
   "metadata": {
    "papermill": {
     "duration": 0.018333,
     "end_time": "2021-11-11T14:28:39.565698",
     "exception": false,
     "start_time": "2021-11-11T14:28:39.547365",
     "status": "completed"
    },
    "tags": []
   },
   "source": [
    "<br>\n",
    "\n",
    "Comparisons frequently work like you'd hope (they are \"logical\" after all!)"
   ]
  },
  {
   "cell_type": "code",
   "execution_count": 3,
   "id": "5d6f08cd",
   "metadata": {
    "papermill": {
     "duration": 0.030386,
     "end_time": "2021-11-11T14:28:39.614884",
     "exception": false,
     "start_time": "2021-11-11T14:28:39.584498",
     "status": "completed"
    },
    "tags": []
   },
   "outputs": [
    {
     "data": {
      "text/plain": [
       "True"
      ]
     },
     "execution_count": 3,
     "metadata": {},
     "output_type": "execute_result"
    }
   ],
   "source": [
    "3.0 == 3"
   ]
  },
  {
   "cell_type": "markdown",
   "id": "90ba9122",
   "metadata": {
    "papermill": {
     "duration": 0.019404,
     "end_time": "2021-11-11T14:28:39.653246",
     "exception": false,
     "start_time": "2021-11-11T14:28:39.633842",
     "status": "completed"
    },
    "tags": []
   },
   "source": [
    "<br>\n",
    "\n",
    "But sometimes they can be tricky"
   ]
  },
  {
   "cell_type": "code",
   "execution_count": 4,
   "id": "871e21c8",
   "metadata": {
    "papermill": {
     "duration": 0.029193,
     "end_time": "2021-11-11T14:28:39.702110",
     "exception": false,
     "start_time": "2021-11-11T14:28:39.672917",
     "status": "completed"
    },
    "tags": []
   },
   "outputs": [
    {
     "data": {
      "text/plain": [
       "False"
      ]
     },
     "execution_count": 4,
     "metadata": {},
     "output_type": "execute_result"
    }
   ],
   "source": [
    "'3' == 3"
   ]
  },
  {
   "cell_type": "markdown",
   "id": "0a9451b9",
   "metadata": {
    "papermill": {
     "duration": 0.019225,
     "end_time": "2021-11-11T14:28:39.740117",
     "exception": false,
     "start_time": "2021-11-11T14:28:39.720892",
     "status": "completed"
    },
    "tags": []
   },
   "source": [
    "<br>\n",
    "\n",
    "Comparison operators can be combined with the arithmetic operators we've already seen to express a virtually limitless range of mathematical tests. For example, we can check if a number is odd by checking that the modulus with 2 returns 1:"
   ]
  },
  {
   "cell_type": "code",
   "execution_count": 6,
   "id": "902ee2db",
   "metadata": {
    "papermill": {
     "duration": 0.028948,
     "end_time": "2021-11-11T14:28:39.787781",
     "exception": false,
     "start_time": "2021-11-11T14:28:39.758833",
     "status": "completed"
    },
    "tags": []
   },
   "outputs": [
    {
     "name": "stdout",
     "output_type": "stream",
     "text": [
      "Is 100 odd? False\n",
      "Is -1 odd? True\n"
     ]
    }
   ],
   "source": [
    "# Example Booleans\n",
    "def is_odd(n):\n",
    "    return (n % 2) == 1\n",
    "\n",
    "print(\"Is 100 odd?\", is_odd(100))\n",
    "print(\"Is -1 odd?\", is_odd(-1))"
   ]
  },
  {
   "cell_type": "markdown",
   "id": "024a37e2",
   "metadata": {
    "papermill": {
     "duration": 0.018157,
     "end_time": "2021-11-11T14:28:39.824517",
     "exception": false,
     "start_time": "2021-11-11T14:28:39.806360",
     "status": "completed"
    },
    "tags": []
   },
   "source": [
    "<br> \n",
    "\n",
    "Remember to use `==` (read: \"is equivalent to\") instead of `=` (read: \"assign value on right side to variable on left\") when making comparisons. If you write `n == 2` you are asking about the value of n. When you write `n = 2` you are changing the value of n."
   ]
  },
  {
   "cell_type": "markdown",
   "id": "f8292f3a",
   "metadata": {
    "papermill": {
     "duration": 0.017996,
     "end_time": "2021-11-11T14:28:39.860867",
     "exception": false,
     "start_time": "2021-11-11T14:28:39.842871",
     "status": "completed"
    },
    "tags": []
   },
   "source": [
    "## 4 Combining Boolean Values\n",
    "\n",
    "You can combine boolean values using the standard concepts of \"and\", \"or\", and \"not\". In fact, the Python expressions to do this are: ``and``, ``or``, and ``not``.\n",
    "\n",
    "With these, we can make our `can_run_for_president` function more accurate."
   ]
  },
  {
   "cell_type": "code",
   "execution_count": 7,
   "id": "752930ff",
   "metadata": {
    "collapsed": true,
    "jupyter": {
     "outputs_hidden": true
    },
    "papermill": {
     "duration": 0.028855,
     "end_time": "2021-11-11T14:28:39.908780",
     "exception": false,
     "start_time": "2021-11-11T14:28:39.879925",
     "status": "completed"
    },
    "tags": []
   },
   "outputs": [
    {
     "name": "stdout",
     "output_type": "stream",
     "text": [
      "False\n",
      "False\n",
      "True\n"
     ]
    }
   ],
   "source": [
    "# More complex expressions\n",
    "def can_run_for_president(age, is_natural_born_citizen):\n",
    "    \"\"\"Can someone of the given age and citizenship status run for president in the US?\"\"\"\n",
    "    # The US Constitution says you must be a natural born citizen *and* at least 35 years old\n",
    "    return is_natural_born_citizen and (age >= 35)\n",
    "\n",
    "print(can_run_for_president(19, True))\n",
    "print(can_run_for_president(55, False))\n",
    "print(can_run_for_president(55, True))"
   ]
  },
  {
   "cell_type": "markdown",
   "id": "33795478",
   "metadata": {
    "papermill": {
     "duration": 0.018483,
     "end_time": "2021-11-11T14:28:39.946135",
     "exception": false,
     "start_time": "2021-11-11T14:28:39.927652",
     "status": "completed"
    },
    "tags": []
   },
   "source": [
    "Quick, can you guess the value of this expression?"
   ]
  },
  {
   "cell_type": "code",
   "execution_count": 10,
   "id": "eeb292c1",
   "metadata": {
    "_kg_hide-output": true,
    "collapsed": true,
    "jupyter": {
     "outputs_hidden": true
    },
    "papermill": {
     "duration": 0.02792,
     "end_time": "2021-11-11T14:28:39.992873",
     "exception": false,
     "start_time": "2021-11-11T14:28:39.964953",
     "status": "completed"
    },
    "tags": []
   },
   "outputs": [
    {
     "data": {
      "text/plain": [
       "True"
      ]
     },
     "execution_count": 10,
     "metadata": {},
     "output_type": "execute_result"
    }
   ],
   "source": [
    "# Can you anticipate the output?\n",
    "True or True and False"
   ]
  },
  {
   "cell_type": "markdown",
   "id": "029c41dc",
   "metadata": {
    "papermill": {
     "duration": 0.018884,
     "end_time": "2021-11-11T14:28:40.030799",
     "exception": false,
     "start_time": "2021-11-11T14:28:40.011915",
     "status": "completed"
    },
    "tags": []
   },
   "source": [
    "<br>\n",
    "\n",
    "(Click the \"output\" button or run the cell to see the answer)\n",
    "\n",
    "To understand this, you'd need to figure out the order of operations. \n",
    "\n",
    "For example, `and` is evaluated before `or`. That's why the first expression above is `True`. If we evaluated it from left to right, we would have calculated `True or True` first (which is `True`), and then taken the `and` of that result with `False`, giving a final value of `False`.\n",
    "\n",
    "You could try to [memorize the order of precedence](https://docs.python.org/3/reference/expressions.html#operator-precedence), but a safer bet is to just use liberal parentheses. Not only does this help prevent bugs, it makes your intentions clearer to anyone who reads your code. \n",
    "\n",
    "For example, consider the following expression:\n",
    "\n",
    "```python\n",
    "prepared_for_weather = have_umbrella or rain_level < 5 and have_hood or not rain_level > 0 and is_workday\n",
    "```\n",
    "<br>\n",
    "\n",
    "I'm trying to say that I'm safe from today's weather....\n",
    "- if I have an umbrella...\n",
    "- or if the rain isn't too heavy and I have a hood...\n",
    "- otherwise, I'm still fine unless it's raining *and* it's a workday\n",
    "\n",
    "But not only is this Python code hard to read, it has a bug. We can address both problems by adding some parentheses:\n",
    "\n",
    "```python\n",
    "prepared_for_weather = have_umbrella or (rain_level < 5 and have_hood) or not (rain_level > 0 and is_workday)\n",
    "```\n",
    "<br>\n",
    "\n",
    "You can add even more parentheses if you think it helps readability:\n",
    "\n",
    "```python\n",
    "prepared_for_weather = have_umbrella or ((rain_level < 5) and have_hood) or (not (rain_level > 0 and is_workday))\n",
    "```\n",
    "<br>\n",
    "\n",
    "We can also split it over multiple lines to emphasize the 3-part structure described above:\n",
    "\n",
    "```python\n",
    "prepared_for_weather = (\n",
    "    have_umbrella \n",
    "    or ((rain_level < 5) and have_hood) \n",
    "    or (not (rain_level > 0 and is_workday))\n",
    ")\n",
    "```\n",
    "<br>"
   ]
  },
  {
   "cell_type": "markdown",
   "id": "fee3db64",
   "metadata": {
    "papermill": {
     "duration": 0.019087,
     "end_time": "2021-11-11T14:28:40.069106",
     "exception": false,
     "start_time": "2021-11-11T14:28:40.050019",
     "status": "completed"
    },
    "tags": []
   },
   "source": [
    "## 5 Conditionals\n",
    "\n",
    "Booleans are most useful when combined with *conditional statements*, using the keywords ``if``, ``else``, and ``elif``.\n",
    "\n",
    "Conditional statements, often referred to as *if-then* statements, let you control what pieces of code are run based on the value of some Boolean condition.\n",
    "\n",
    "Here's an example:"
   ]
  },
  {
   "cell_type": "code",
   "execution_count": 11,
   "id": "b0a02140",
   "metadata": {
    "papermill": {
     "duration": 0.030513,
     "end_time": "2021-11-11T14:28:40.118911",
     "exception": false,
     "start_time": "2021-11-11T14:28:40.088398",
     "status": "completed"
    },
    "tags": []
   },
   "outputs": [
    {
     "name": "stdout",
     "output_type": "stream",
     "text": [
      "0 is zero\n",
      "-15 is negative\n"
     ]
    }
   ],
   "source": [
    "def inspect(x):\n",
    "    if x == 0:\n",
    "        print(x, \"is zero\")\n",
    "    elif x > 0:\n",
    "        print(x, \"is positive\")\n",
    "    elif x < 0:\n",
    "        print(x, \"is negative\")\n",
    "    else:\n",
    "        print(x, \"is unlike anything I've ever seen...\")\n",
    "\n",
    "inspect(0)\n",
    "inspect(-15)"
   ]
  },
  {
   "cell_type": "markdown",
   "id": "ea380386",
   "metadata": {
    "papermill": {
     "duration": 0.019644,
     "end_time": "2021-11-11T14:28:40.159132",
     "exception": false,
     "start_time": "2021-11-11T14:28:40.139488",
     "status": "completed"
    },
    "tags": []
   },
   "source": [
    "<br>\n",
    "\n",
    "The ``if`` and ``else`` keywords are often used in other languages; its more unique keyword is ``elif``, a contraction of \"else if\".\n",
    "In these conditional clauses, ``elif`` and ``else`` blocks are optional; additionally, you can include as many ``elif`` statements as you would like.\n",
    "\n",
    "Note especially the use of colons (``:``) and whitespace to denote separate blocks of code. This is similar to what happens when we define a function - the function header ends with `:`, and the following line is indented with 4 spaces. All subsequent indented lines belong to the body of the function, until we encounter an unindented line, ending the function definition."
   ]
  },
  {
   "cell_type": "code",
   "execution_count": 12,
   "id": "00a18fc9",
   "metadata": {
    "papermill": {
     "duration": 0.02998,
     "end_time": "2021-11-11T14:28:40.209497",
     "exception": false,
     "start_time": "2021-11-11T14:28:40.179517",
     "status": "completed"
    },
    "tags": []
   },
   "outputs": [
    {
     "name": "stdout",
     "output_type": "stream",
     "text": [
      "Only printed when x is positive; x = 1\n",
      "Also only printed when x is positive; x = 1\n",
      "Always printed, regardless of x's value; x = 1\n",
      "Always printed, regardless of x's value; x = 0\n"
     ]
    }
   ],
   "source": [
    "def f(x):\n",
    "    if x > 0:\n",
    "        print(\"Only printed when x is positive; x =\", x)\n",
    "        print(\"Also only printed when x is positive; x =\", x)\n",
    "    print(\"Always printed, regardless of x's value; x =\", x)\n",
    "\n",
    "f(1)\n",
    "f(0)"
   ]
  },
  {
   "cell_type": "markdown",
   "id": "f2b7ddda",
   "metadata": {
    "papermill": {
     "duration": 0.020228,
     "end_time": "2021-11-11T14:28:40.250985",
     "exception": false,
     "start_time": "2021-11-11T14:28:40.230757",
     "status": "completed"
    },
    "tags": []
   },
   "source": [
    "<br>\n",
    "\n",
    "## 6 Boolean conversion\n",
    "\n",
    "We've seen `int()`, which turns things into ints, and `float()`, which turns things into floats, so you might not be surprised to hear that Python has a `bool()` function which turns things into bools."
   ]
  },
  {
   "cell_type": "code",
   "execution_count": 16,
   "id": "b25668a5",
   "metadata": {
    "papermill": {
     "duration": 0.029647,
     "end_time": "2021-11-11T14:28:40.301977",
     "exception": false,
     "start_time": "2021-11-11T14:28:40.272330",
     "status": "completed"
    },
    "tags": []
   },
   "outputs": [
    {
     "name": "stdout",
     "output_type": "stream",
     "text": [
      "True\n",
      "False\n",
      "True\n",
      "False\n"
     ]
    }
   ],
   "source": [
    "# Some special cases for Booleans\n",
    "print(bool(1)) # all numbers are treated as true, except 0\n",
    "print(bool(0))\n",
    "print(bool(\"asf\")) # all strings are treated as true, except the empty string \"\"\n",
    "print(bool(\"\"))\n",
    "# Generally empty sequences (strings, lists, and other types we've yet to see like lists and tuples)\n",
    "# are \"falsey\" and the rest are \"truthy\""
   ]
  },
  {
   "cell_type": "markdown",
   "id": "ae0f2111",
   "metadata": {
    "papermill": {
     "duration": 0.020316,
     "end_time": "2021-11-11T14:28:40.343100",
     "exception": false,
     "start_time": "2021-11-11T14:28:40.322784",
     "status": "completed"
    },
    "tags": []
   },
   "source": [
    "<br> \n",
    "We can use non-boolean objects in `if` conditions and other places where a boolean would be expected. Python will implicitly treat them as their corresponding boolean value:"
   ]
  },
  {
   "cell_type": "code",
   "execution_count": 15,
   "id": "ced1ed7b",
   "metadata": {
    "papermill": {
     "duration": 0.029268,
     "end_time": "2021-11-11T14:28:40.392906",
     "exception": false,
     "start_time": "2021-11-11T14:28:40.363638",
     "status": "completed"
    },
    "tags": []
   },
   "outputs": [
    {
     "name": "stdout",
     "output_type": "stream",
     "text": [
      "spam\n"
     ]
    }
   ],
   "source": [
    "if 0:\n",
    "    print(0)\n",
    "elif \"spam\":\n",
    "    print(\"spam\")"
   ]
  },
  {
   "cell_type": "markdown",
   "id": "afd9adb5-6105-49fd-a658-efeca6b997fa",
   "metadata": {},
   "source": [
    "## 7 Exercises"
   ]
  },
  {
   "cell_type": "markdown",
   "id": "a0656ea5-02f1-45d3-99f4-0f78bc1b57b1",
   "metadata": {
    "tags": []
   },
   "source": [
    "### 7.1\n",
    "\n",
    "Many programming languages have [`sign`](https://en.wikipedia.org/wiki/Sign_function) available as a built-in function. Python doesn't, but we can define our own!\n",
    "\n",
    "In the cell below, define a function called `sign` which takes a numerical argument and returns -1 if it's negative, 1 if it's positive, and 0 if it's 0."
   ]
  },
  {
   "cell_type": "code",
   "execution_count": null,
   "id": "1dbd7481-b828-44ed-96cd-080882ba026f",
   "metadata": {},
   "outputs": [],
   "source": [
    "# Your code goes here. Define a function called 'sign'\n",
    "\n"
   ]
  },
  {
   "cell_type": "markdown",
   "id": "4c785c73-cd35-487c-878d-c3451098dea3",
   "metadata": {},
   "source": [
    "### 7.2\n",
    "\n",
    "Let's add \"logging\" to our `to_smash` function from before."
   ]
  },
  {
   "cell_type": "code",
   "execution_count": 17,
   "id": "928d4800-0f9f-4b4d-abb0-59248d548951",
   "metadata": {},
   "outputs": [
    {
     "name": "stdout",
     "output_type": "stream",
     "text": [
      "Splitting 91 candies\n"
     ]
    },
    {
     "data": {
      "text/plain": [
       "1"
      ]
     },
     "execution_count": 17,
     "metadata": {},
     "output_type": "execute_result"
    }
   ],
   "source": [
    "def to_smash(total_candies):\n",
    "    \"\"\"Return the number of leftover candies that must be smashed after distributing\n",
    "    the given number of candies evenly between 3 friends.\n",
    "    \n",
    "    >>> to_smash(91)\n",
    "    1\n",
    "    \"\"\"\n",
    "    print(\"Splitting\", total_candies, \"candies\")\n",
    "    return total_candies % 3\n",
    "\n",
    "to_smash(91)"
   ]
  },
  {
   "cell_type": "markdown",
   "id": "cba2cb97-8c0b-40cb-8a87-c50139a20691",
   "metadata": {},
   "source": [
    "What happens if we call it with `total_candies = 1`?"
   ]
  },
  {
   "cell_type": "code",
   "execution_count": 20,
   "id": "f60c200f-8ece-4393-aa49-c51f854fd361",
   "metadata": {},
   "outputs": [
    {
     "name": "stdout",
     "output_type": "stream",
     "text": [
      "Splitting 1 candies\n"
     ]
    },
    {
     "data": {
      "text/plain": [
       "1"
      ]
     },
     "execution_count": 20,
     "metadata": {},
     "output_type": "execute_result"
    }
   ],
   "source": [
    "# Bad grammar\n",
    "to_smash(1)"
   ]
  },
  {
   "cell_type": "markdown",
   "id": "042e2f8d-c385-4b5a-974e-fff2266c320a",
   "metadata": {},
   "source": [
    "<br>\n",
    "\n",
    "That isn't great grammar!\n",
    "\n",
    "Modify the definition in the cell below to correct the grammar of our print statement. (If there's only one candy, we should use the singular \"candy\" instead of the plural \"candies\")"
   ]
  },
  {
   "cell_type": "code",
   "execution_count": null,
   "id": "96cebf2f-810e-4940-9f9f-2641d8fa6050",
   "metadata": {},
   "outputs": [],
   "source": [
    "# Fix this code\n",
    "def to_smash(total_candies):\n",
    "    \"\"\"Return the number of leftover candies that must be smashed after distributing\n",
    "    the given number of candies evenly between 3 friends.\n",
    "    \n",
    "    >>> to_smash(91)\n",
    "    1\n",
    "    \"\"\"\n",
    "    print(\"Splitting\", total_candies, \"candies\")\n",
    "    return total_candies % 3\n",
    "\n",
    "to_smash(91)\n",
    "to_smash(1)"
   ]
  },
  {
   "cell_type": "markdown",
   "id": "0be9a867-13b5-4cfe-b669-e6f6f54c6286",
   "metadata": {},
   "source": [
    "### 7.3 <span title=\"A bit spicy\" style=\"color: darkgreen \">🌶️</span>\n",
    "\n",
    "\n",
    "Above we talked about deciding whether we're prepared for the weather. I said that I'm safe from today's weather if...\n",
    "- I have an umbrella...\n",
    "- or if the rain isn't too heavy and I have a hood...\n",
    "- otherwise, I'm still fine unless it's raining *and* it's a workday\n",
    "\n",
    "The function below uses our first attempt at turning this logic into a Python expression. I claimed that there was a bug in that code. Can you find it?\n",
    "\n",
    "To prove that `prepared_for_weather` is buggy, come up with a set of inputs where either:\n",
    "- the function returns `False` (but should have returned `True`), or\n",
    "- the function returned `True` (but should have returned `False`).\n",
    "\n"
   ]
  },
  {
   "cell_type": "code",
   "execution_count": 19,
   "id": "915d79b5-2f9d-4e15-98df-d0dc2fc7e748",
   "metadata": {},
   "outputs": [
    {
     "name": "stdout",
     "output_type": "stream",
     "text": [
      "True\n"
     ]
    }
   ],
   "source": [
    "def prepared_for_weather(have_umbrella, rain_level, have_hood, is_workday):\n",
    "    # Don't change this code. Our goal is just to find the bug, not fix it!\n",
    "    return have_umbrella or rain_level < 5 and have_hood or not rain_level > 0 and is_workday\n",
    "\n",
    "# Change the values of these inputs so they represent a case where prepared_for_weather\n",
    "# returns the wrong answer.\n",
    "have_umbrella = True\n",
    "rain_level = 0.0\n",
    "have_hood = True\n",
    "is_workday = True\n",
    "\n",
    "# Check what the function returns given the current values of the variables above\n",
    "actual = prepared_for_weather(have_umbrella, rain_level, have_hood, is_workday)\n",
    "print(actual)\n",
    "\n"
   ]
  },
  {
   "cell_type": "markdown",
   "id": "61518cf0-c062-4c72-b650-449cb9d16923",
   "metadata": {},
   "source": [
    "### 7.4\n",
    "\n",
    "The function `is_negative` below is implemented correctly - it returns True if the given number is negative and False otherwise.\n",
    "\n",
    "However, it's more verbose than it needs to be. We can actually reduce the number of lines of code in this function by *75%* while keeping the same behaviour. \n",
    "\n",
    "See if you can come up with an equivalent body that uses just **one line** of code, and put it in the function `concise_is_negative`. (HINT: you don't even need Python's ternary syntax)"
   ]
  },
  {
   "cell_type": "code",
   "execution_count": 21,
   "id": "fbcff815-ee2d-44ad-8f36-e0813061648d",
   "metadata": {},
   "outputs": [],
   "source": [
    "def is_negative(number):\n",
    "    if number < 0:\n",
    "        return True\n",
    "    else:\n",
    "        return False\n",
    "\n",
    "def concise_is_negative(number):\n",
    "    pass # Your code goes here (try to keep it to one line!)\n",
    "\n"
   ]
  },
  {
   "cell_type": "markdown",
   "id": "a4e3b814-c3f5-4053-932b-a1f8a770b9a8",
   "metadata": {},
   "source": [
    "### 7.5a\n",
    "\n",
    "The boolean variables `ketchup`, `mustard` and `onion` represent whether a customer wants a particular topping on their hot dog. We want to implement a number of boolean functions that correspond to some yes-or-no questions about the customer's order. For example:"
   ]
  },
  {
   "cell_type": "code",
   "execution_count": 22,
   "id": "64b6c09c-4d69-4101-b1da-a571bdea67b9",
   "metadata": {},
   "outputs": [],
   "source": [
    "def onionless(ketchup, mustard, onion):\n",
    "    \"\"\"Return whether the customer doesn't want onions.\n",
    "    \"\"\"\n",
    "    return not onion"
   ]
  },
  {
   "cell_type": "code",
   "execution_count": null,
   "id": "ebd33192-336b-4b26-b52f-a47bdbfab615",
   "metadata": {},
   "outputs": [],
   "source": [
    "def wants_all_toppings(ketchup, mustard, onion):\n",
    "    \"\"\"Return whether the customer wants \"the works\" (all 3 toppings)\n",
    "    \"\"\"\n",
    "    pass\n",
    "\n"
   ]
  },
  {
   "cell_type": "markdown",
   "id": "5f7a8390-4213-4c65-9387-6655cccab1ab",
   "metadata": {},
   "source": [
    "### 7.5b\n",
    "\n",
    "For the next function, fill in the body to match the English description in the docstring. "
   ]
  },
  {
   "cell_type": "code",
   "execution_count": null,
   "id": "a1e97d8c-c85d-4c00-abef-25e738546f71",
   "metadata": {},
   "outputs": [],
   "source": [
    "def wants_plain_hotdog(ketchup, mustard, onion):\n",
    "    \"\"\"Return whether the customer wants a plain hot dog with no toppings.\n",
    "    \"\"\"\n",
    "    pass\n",
    "\n"
   ]
  },
  {
   "cell_type": "markdown",
   "id": "4b17e34d-d7b8-476d-80a3-7c0fe3415805",
   "metadata": {},
   "source": [
    "### 7.5c\n",
    "\n",
    "You know what to do: for the next function, fill in the body to match the English description in the docstring."
   ]
  },
  {
   "cell_type": "code",
   "execution_count": null,
   "id": "103c79f8-8be5-4646-9edc-5aca1a061e3e",
   "metadata": {},
   "outputs": [],
   "source": [
    "def exactly_one_sauce(ketchup, mustard, onion):\n",
    "    \"\"\"Return whether the customer wants either ketchup or mustard, but not both.\n",
    "    (You may be familiar with this operation under the name \"exclusive or\")\n",
    "    \"\"\"\n",
    "    pass\n",
    "\n"
   ]
  },
  {
   "cell_type": "markdown",
   "id": "0a4a1915-12de-4895-b198-186dd12d25e8",
   "metadata": {},
   "source": [
    "### 7.6 <span title=\"A bit spicy\" style=\"color: darkgreen \">🌶️</span>\n",
    "\n",
    "We’ve seen that calling `bool()` on an integer returns `False` if it’s equal to 0 and `True` otherwise. What happens if we call `int()` on a bool? Try it out in the notebook cell below.\n",
    "\n",
    "Can you take advantage of this to write a succinct function that corresponds to the English sentence \"does the customer want exactly one topping?\"?"
   ]
  },
  {
   "cell_type": "code",
   "execution_count": 2,
   "id": "3a3eccc9-d009-4afb-97fa-1b899ad34ad4",
   "metadata": {},
   "outputs": [],
   "source": [
    "def exactly_one_topping(ketchup, mustard, onion):\n",
    "    \"\"\"Return whether the customer wants exactly one of the three available toppings\n",
    "    on their hot dog.\n",
    "    \"\"\"\n",
    "    pass\n",
    "\n"
   ]
  }
 ],
 "metadata": {
  "kernelspec": {
   "display_name": "Python 3 (ipykernel)",
   "language": "python",
   "name": "python3"
  },
  "language_info": {
   "codemirror_mode": {
    "name": "ipython",
    "version": 3
   },
   "file_extension": ".py",
   "mimetype": "text/x-python",
   "name": "python",
   "nbconvert_exporter": "python",
   "pygments_lexer": "ipython3",
   "version": "3.7.13"
  },
  "learntools_metadata": {
   "lesson_index": 2,
   "type": "tutorial"
  },
  "papermill": {
   "default_parameters": {},
   "duration": 11.084471,
   "end_time": "2021-11-11T14:28:41.107465",
   "environment_variables": {},
   "exception": null,
   "input_path": "__notebook__.ipynb",
   "output_path": "__notebook__.ipynb",
   "parameters": {},
   "start_time": "2021-11-11T14:28:30.022994",
   "version": "2.3.3"
  }
 },
 "nbformat": 4,
 "nbformat_minor": 5
}
