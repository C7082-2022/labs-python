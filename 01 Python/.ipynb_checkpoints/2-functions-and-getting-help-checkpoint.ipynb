{
 "cells": [
  {
   "cell_type": "markdown",
   "id": "4ae79e82-3770-4b78-8209-951aa3ef7c3e",
   "metadata": {},
   "source": [
    "# Lab 02 Functions and help\n",
    "\n",
    "<br>\n",
    "\n",
    "<center>\n",
    "    \n",
    "<img src=\"img/craiyon-hands.jpg\" alt=\"Spam\" width=\"300\"/> \n",
    "    \n",
    "    Craiyon.com \"Helping hand\"\n",
    "    \n",
    "</center>    \n",
    "\n",
    "<br>"
   ]
  },
  {
   "cell_type": "markdown",
   "id": "5a29a414",
   "metadata": {
    "papermill": {
     "duration": 0.024516,
     "end_time": "2021-11-11T14:28:32.370644",
     "exception": false,
     "start_time": "2021-11-11T14:28:32.346128",
     "status": "completed"
    },
    "tags": []
   },
   "source": [
    "## 1 Objectives\n",
    "\n",
    "You've already seen and used functions such as `print` and `abs`. But Python has many more functions, and defining your own functions is a big part of python programming.\n",
    "\n",
    "We'll cover:\n",
    "\n",
    "- getting help in Python\n",
    "\n",
    "- using and defining functions\n",
    "\n",
    "<br>"
   ]
  },
  {
   "cell_type": "markdown",
   "id": "69e25893",
   "metadata": {
    "papermill": {
     "duration": 0.021261,
     "end_time": "2021-11-11T14:28:32.413638",
     "exception": false,
     "start_time": "2021-11-11T14:28:32.392377",
     "status": "completed"
    },
    "tags": []
   },
   "source": [
    "## 2 Getting Help\n",
    "\n",
    "You may have seen the `abs` function before, but what if haven't or you've forgotten what it does?\n",
    "\n",
    "The `help()` function is possibly the most important Python function you can learn. If you can remember how to use `help()`, you hold the key to understanding most other functions.\n",
    "\n",
    "<br>\n",
    "\n",
    "Here is an example for the `round()` function:"
   ]
  },
  {
   "cell_type": "code",
   "execution_count": 2,
   "id": "c81d3f63",
   "metadata": {
    "papermill": {
     "duration": 0.040445,
     "end_time": "2021-11-11T14:28:32.475243",
     "exception": false,
     "start_time": "2021-11-11T14:28:32.434798",
     "status": "completed"
    },
    "tags": []
   },
   "outputs": [
    {
     "name": "stdout",
     "output_type": "stream",
     "text": [
      "Help on built-in function round in module builtins:\n",
      "\n",
      "round(number, ndigits=None)\n",
      "    Round a number to a given precision in decimal digits.\n",
      "    \n",
      "    The return value is an integer if ndigits is omitted or None.  Otherwise\n",
      "    the return value has the same type as the number.  ndigits may be negative.\n",
      "\n"
     ]
    }
   ],
   "source": [
    "# Show help for the round() function\n",
    "help(round)"
   ]
  },
  {
   "cell_type": "markdown",
   "id": "1eae5845",
   "metadata": {
    "papermill": {
     "duration": 0.021246,
     "end_time": "2021-11-11T14:28:32.518947",
     "exception": false,
     "start_time": "2021-11-11T14:28:32.497701",
     "status": "completed"
    },
    "tags": []
   },
   "source": [
    "<br>\n",
    "\n",
    "### 2.1 `help()` output\n",
    "\n",
    "`help()` displays two things:\n",
    "\n",
    "1. the header of that function `round(number, ndigits=None)`. In this case, this tells us that `round()` takes an argument we can describe as `number`. Additionally, we can optionally give a separate argument which could be described as `ndigits`.\n",
    "\n",
    "2. A brief English description of what the function does. \n",
    "\n",
    "<br>"
   ]
  },
  {
   "cell_type": "markdown",
   "id": "b87875dd",
   "metadata": {
    "papermill": {
     "duration": 0.021194,
     "end_time": "2021-11-11T14:28:32.561791",
     "exception": false,
     "start_time": "2021-11-11T14:28:32.540597",
     "status": "completed"
    },
    "tags": []
   },
   "source": [
    "**Common pitfall:** when you're looking up a function, remember to pass in the name of the function itself, and not the result of calling that function. \n",
    "\n",
    "What happens if we invoke help on a *call* to the function `round()`? \n",
    "\n",
    "(You may need to Unhide the output of the cell below to see)\n",
    "\n",
    "<br>"
   ]
  },
  {
   "cell_type": "code",
   "execution_count": 4,
   "id": "70b4b82b",
   "metadata": {
    "_kg_hide-output": true,
    "collapsed": true,
    "jupyter": {
     "outputs_hidden": true
    },
    "papermill": {
     "duration": 0.055249,
     "end_time": "2021-11-11T14:28:32.638682",
     "exception": false,
     "start_time": "2021-11-11T14:28:32.583433",
     "status": "completed"
    },
    "tags": []
   },
   "outputs": [
    {
     "name": "stdout",
     "output_type": "stream",
     "text": [
      "Help on int object:\n",
      "\n",
      "class int(object)\n",
      " |  int([x]) -> integer\n",
      " |  int(x, base=10) -> integer\n",
      " |  \n",
      " |  Convert a number or string to an integer, or return 0 if no arguments\n",
      " |  are given.  If x is a number, return x.__int__().  For floating point\n",
      " |  numbers, this truncates towards zero.\n",
      " |  \n",
      " |  If x is not a number or if base is given, then x must be a string,\n",
      " |  bytes, or bytearray instance representing an integer literal in the\n",
      " |  given base.  The literal can be preceded by '+' or '-' and be surrounded\n",
      " |  by whitespace.  The base defaults to 10.  Valid bases are 0 and 2-36.\n",
      " |  Base 0 means to interpret the base from the string as an integer literal.\n",
      " |  >>> int('0b100', base=0)\n",
      " |  4\n",
      " |  \n",
      " |  Methods defined here:\n",
      " |  \n",
      " |  __abs__(self, /)\n",
      " |      abs(self)\n",
      " |  \n",
      " |  __add__(self, value, /)\n",
      " |      Return self+value.\n",
      " |  \n",
      " |  __and__(self, value, /)\n",
      " |      Return self&value.\n",
      " |  \n",
      " |  __bool__(self, /)\n",
      " |      self != 0\n",
      " |  \n",
      " |  __ceil__(...)\n",
      " |      Ceiling of an Integral returns itself.\n",
      " |  \n",
      " |  __divmod__(self, value, /)\n",
      " |      Return divmod(self, value).\n",
      " |  \n",
      " |  __eq__(self, value, /)\n",
      " |      Return self==value.\n",
      " |  \n",
      " |  __float__(self, /)\n",
      " |      float(self)\n",
      " |  \n",
      " |  __floor__(...)\n",
      " |      Flooring an Integral returns itself.\n",
      " |  \n",
      " |  __floordiv__(self, value, /)\n",
      " |      Return self//value.\n",
      " |  \n",
      " |  __format__(self, format_spec, /)\n",
      " |      Default object formatter.\n",
      " |  \n",
      " |  __ge__(self, value, /)\n",
      " |      Return self>=value.\n",
      " |  \n",
      " |  __getattribute__(self, name, /)\n",
      " |      Return getattr(self, name).\n",
      " |  \n",
      " |  __getnewargs__(self, /)\n",
      " |  \n",
      " |  __gt__(self, value, /)\n",
      " |      Return self>value.\n",
      " |  \n",
      " |  __hash__(self, /)\n",
      " |      Return hash(self).\n",
      " |  \n",
      " |  __index__(self, /)\n",
      " |      Return self converted to an integer, if self is suitable for use as an index into a list.\n",
      " |  \n",
      " |  __int__(self, /)\n",
      " |      int(self)\n",
      " |  \n",
      " |  __invert__(self, /)\n",
      " |      ~self\n",
      " |  \n",
      " |  __le__(self, value, /)\n",
      " |      Return self<=value.\n",
      " |  \n",
      " |  __lshift__(self, value, /)\n",
      " |      Return self<<value.\n",
      " |  \n",
      " |  __lt__(self, value, /)\n",
      " |      Return self<value.\n",
      " |  \n",
      " |  __mod__(self, value, /)\n",
      " |      Return self%value.\n",
      " |  \n",
      " |  __mul__(self, value, /)\n",
      " |      Return self*value.\n",
      " |  \n",
      " |  __ne__(self, value, /)\n",
      " |      Return self!=value.\n",
      " |  \n",
      " |  __neg__(self, /)\n",
      " |      -self\n",
      " |  \n",
      " |  __or__(self, value, /)\n",
      " |      Return self|value.\n",
      " |  \n",
      " |  __pos__(self, /)\n",
      " |      +self\n",
      " |  \n",
      " |  __pow__(self, value, mod=None, /)\n",
      " |      Return pow(self, value, mod).\n",
      " |  \n",
      " |  __radd__(self, value, /)\n",
      " |      Return value+self.\n",
      " |  \n",
      " |  __rand__(self, value, /)\n",
      " |      Return value&self.\n",
      " |  \n",
      " |  __rdivmod__(self, value, /)\n",
      " |      Return divmod(value, self).\n",
      " |  \n",
      " |  __repr__(self, /)\n",
      " |      Return repr(self).\n",
      " |  \n",
      " |  __rfloordiv__(self, value, /)\n",
      " |      Return value//self.\n",
      " |  \n",
      " |  __rlshift__(self, value, /)\n",
      " |      Return value<<self.\n",
      " |  \n",
      " |  __rmod__(self, value, /)\n",
      " |      Return value%self.\n",
      " |  \n",
      " |  __rmul__(self, value, /)\n",
      " |      Return value*self.\n",
      " |  \n",
      " |  __ror__(self, value, /)\n",
      " |      Return value|self.\n",
      " |  \n",
      " |  __round__(...)\n",
      " |      Rounding an Integral returns itself.\n",
      " |      Rounding with an ndigits argument also returns an integer.\n",
      " |  \n",
      " |  __rpow__(self, value, mod=None, /)\n",
      " |      Return pow(value, self, mod).\n",
      " |  \n",
      " |  __rrshift__(self, value, /)\n",
      " |      Return value>>self.\n",
      " |  \n",
      " |  __rshift__(self, value, /)\n",
      " |      Return self>>value.\n",
      " |  \n",
      " |  __rsub__(self, value, /)\n",
      " |      Return value-self.\n",
      " |  \n",
      " |  __rtruediv__(self, value, /)\n",
      " |      Return value/self.\n",
      " |  \n",
      " |  __rxor__(self, value, /)\n",
      " |      Return value^self.\n",
      " |  \n",
      " |  __sizeof__(self, /)\n",
      " |      Returns size in memory, in bytes.\n",
      " |  \n",
      " |  __str__(self, /)\n",
      " |      Return str(self).\n",
      " |  \n",
      " |  __sub__(self, value, /)\n",
      " |      Return self-value.\n",
      " |  \n",
      " |  __truediv__(self, value, /)\n",
      " |      Return self/value.\n",
      " |  \n",
      " |  __trunc__(...)\n",
      " |      Truncating an Integral returns itself.\n",
      " |  \n",
      " |  __xor__(self, value, /)\n",
      " |      Return self^value.\n",
      " |  \n",
      " |  bit_length(self, /)\n",
      " |      Number of bits necessary to represent self in binary.\n",
      " |      \n",
      " |      >>> bin(37)\n",
      " |      '0b100101'\n",
      " |      >>> (37).bit_length()\n",
      " |      6\n",
      " |  \n",
      " |  conjugate(...)\n",
      " |      Returns self, the complex conjugate of any int.\n",
      " |  \n",
      " |  to_bytes(self, /, length, byteorder, *, signed=False)\n",
      " |      Return an array of bytes representing an integer.\n",
      " |      \n",
      " |      length\n",
      " |        Length of bytes object to use.  An OverflowError is raised if the\n",
      " |        integer is not representable with the given number of bytes.\n",
      " |      byteorder\n",
      " |        The byte order used to represent the integer.  If byteorder is 'big',\n",
      " |        the most significant byte is at the beginning of the byte array.  If\n",
      " |        byteorder is 'little', the most significant byte is at the end of the\n",
      " |        byte array.  To request the native byte order of the host system, use\n",
      " |        `sys.byteorder' as the byte order value.\n",
      " |      signed\n",
      " |        Determines whether two's complement is used to represent the integer.\n",
      " |        If signed is False and a negative integer is given, an OverflowError\n",
      " |        is raised.\n",
      " |  \n",
      " |  ----------------------------------------------------------------------\n",
      " |  Class methods defined here:\n",
      " |  \n",
      " |  from_bytes(bytes, byteorder, *, signed=False) from builtins.type\n",
      " |      Return the integer represented by the given array of bytes.\n",
      " |      \n",
      " |      bytes\n",
      " |        Holds the array of bytes to convert.  The argument must either\n",
      " |        support the buffer protocol or be an iterable object producing bytes.\n",
      " |        Bytes and bytearray are examples of built-in objects that support the\n",
      " |        buffer protocol.\n",
      " |      byteorder\n",
      " |        The byte order used to represent the integer.  If byteorder is 'big',\n",
      " |        the most significant byte is at the beginning of the byte array.  If\n",
      " |        byteorder is 'little', the most significant byte is at the end of the\n",
      " |        byte array.  To request the native byte order of the host system, use\n",
      " |        `sys.byteorder' as the byte order value.\n",
      " |      signed\n",
      " |        Indicates whether two's complement is used to represent the integer.\n",
      " |  \n",
      " |  ----------------------------------------------------------------------\n",
      " |  Static methods defined here:\n",
      " |  \n",
      " |  __new__(*args, **kwargs) from builtins.type\n",
      " |      Create and return a new object.  See help(type) for accurate signature.\n",
      " |  \n",
      " |  ----------------------------------------------------------------------\n",
      " |  Data descriptors defined here:\n",
      " |  \n",
      " |  denominator\n",
      " |      the denominator of a rational number in lowest terms\n",
      " |  \n",
      " |  imag\n",
      " |      the imaginary part of a complex number\n",
      " |  \n",
      " |  numerator\n",
      " |      the numerator of a rational number in lowest terms\n",
      " |  \n",
      " |  real\n",
      " |      the real part of a complex number\n",
      "\n"
     ]
    }
   ],
   "source": [
    "help(round(-2.01))"
   ]
  },
  {
   "cell_type": "markdown",
   "id": "433e25c5",
   "metadata": {
    "papermill": {
     "duration": 0.022457,
     "end_time": "2021-11-11T14:28:32.683700",
     "exception": false,
     "start_time": "2021-11-11T14:28:32.661243",
     "status": "completed"
    },
    "tags": []
   },
   "source": [
    "### 2.2 Weird `help()` output\n",
    "\n",
    "Python evaluates an expression like this from the inside out. First it calculates the value of `round(-2.01)`, then it provides help on the output of that expression.\n",
    "\n",
    "<small>(And it turns out to have a lot to say about integers! After we talk later about objects, methods, and attributes in Python, the help output above will make more sense.)</small>\n",
    "\n",
    "`round` is a very simple function with a short docstring. `help` shines even more when dealing with more complex, configurable functions like `print`. Don't worry if the following output looks inscrutable... for now, just see if you can pick anything new out from this help.\n",
    "\n",
    "<br>"
   ]
  },
  {
   "cell_type": "code",
   "execution_count": 3,
   "id": "3d6f98bc",
   "metadata": {
    "collapsed": true,
    "execution": {
     "iopub.execute_input": "2021-11-11T14:28:32.731728Z",
     "iopub.status.busy": "2021-11-11T14:28:32.730745Z",
     "iopub.status.idle": "2021-11-11T14:28:32.735708Z",
     "shell.execute_reply": "2021-11-11T14:28:32.736342Z"
    },
    "jupyter": {
     "outputs_hidden": true
    },
    "papermill": {
     "duration": 0.030748,
     "end_time": "2021-11-11T14:28:32.736516",
     "exception": false,
     "start_time": "2021-11-11T14:28:32.705768",
     "status": "completed"
    },
    "tags": []
   },
   "outputs": [
    {
     "name": "stdout",
     "output_type": "stream",
     "text": [
      "Help on built-in function print in module builtins:\n",
      "\n",
      "print(...)\n",
      "    print(value, ..., sep=' ', end='\\n', file=sys.stdout, flush=False)\n",
      "    \n",
      "    Prints the values to a stream, or to sys.stdout by default.\n",
      "    Optional keyword arguments:\n",
      "    file:  a file-like object (stream); defaults to the current sys.stdout.\n",
      "    sep:   string inserted between values, default a space.\n",
      "    end:   string appended after the last value, default a newline.\n",
      "    flush: whether to forcibly flush the stream.\n",
      "\n"
     ]
    }
   ],
   "source": [
    "help(print)"
   ]
  },
  {
   "cell_type": "markdown",
   "id": "ffe3d638",
   "metadata": {
    "papermill": {
     "duration": 0.022168,
     "end_time": "2021-11-11T14:28:32.781354",
     "exception": false,
     "start_time": "2021-11-11T14:28:32.759186",
     "status": "completed"
    },
    "tags": []
   },
   "source": [
    "<br>\n",
    "\n",
    "If you were looking for it, you might learn that print can take an argument called `sep`, and that this describes what we put between all the other arguments when we print them.  Using `help()` to understand function inputs and arguments inside functions is a great way to learn.\n",
    "\n",
    "<br>"
   ]
  },
  {
   "cell_type": "markdown",
   "id": "d813e824",
   "metadata": {
    "papermill": {
     "duration": 0.022993,
     "end_time": "2021-11-11T14:28:32.827171",
     "exception": false,
     "start_time": "2021-11-11T14:28:32.804178",
     "status": "completed"
    },
    "tags": []
   },
   "source": [
    "## 3 Defining functions\n",
    "\n",
    "Built-in functions are great, but we can only get so far with them before we need to start defining our own functions. Below is a simple example.\n",
    "\n",
    "<br>"
   ]
  },
  {
   "cell_type": "code",
   "execution_count": 6,
   "id": "b37d14e5",
   "metadata": {
    "papermill": {
     "duration": 0.030951,
     "end_time": "2021-11-11T14:28:32.880706",
     "exception": false,
     "start_time": "2021-11-11T14:28:32.849755",
     "status": "completed"
    },
    "tags": []
   },
   "outputs": [],
   "source": [
    "# Define (def) a custom function called least_differnce()\n",
    "def least_difference(a, b, c):\n",
    "    diff1 = abs(a - b)\n",
    "    diff2 = abs(b - c)\n",
    "    diff3 = abs(a - c)\n",
    "    return min(diff1, diff2, diff3)"
   ]
  },
  {
   "cell_type": "markdown",
   "id": "28e0325c",
   "metadata": {
    "papermill": {
     "duration": 0.022345,
     "end_time": "2021-11-11T14:28:32.925606",
     "exception": false,
     "start_time": "2021-11-11T14:28:32.903261",
     "status": "completed"
    },
    "tags": []
   },
   "source": [
    "<br>\n",
    "\n",
    "This creates a function called `least_difference`, which takes three arguments, `a`, `b`, and `c`.\n",
    "\n",
    "Functions start with a header introduced by the `def` keyword. The indented block of code following the `:` is run when the function is called.\n",
    "\n",
    "`return` is another keyword uniquely associated with functions. When Python encounters a `return` statement, it exits the function immediately, and passes the value on the right hand side to the calling context.\n",
    "\n",
    "Is it clear what `least_difference()` does from the source code? \n",
    "\n",
    "If we're not sure, we can always try it out on a few examples:"
   ]
  },
  {
   "cell_type": "code",
   "execution_count": 8,
   "id": "79e89467",
   "metadata": {
    "papermill": {
     "duration": 0.032945,
     "end_time": "2021-11-11T14:28:32.982920",
     "exception": false,
     "start_time": "2021-11-11T14:28:32.949975",
     "status": "completed"
    },
    "tags": []
   },
   "outputs": [
    {
     "name": "stdout",
     "output_type": "stream",
     "text": [
      "9 0 1\n"
     ]
    }
   ],
   "source": [
    "# testing our function\n",
    "print(\n",
    "    least_difference(1, 10, 100),\n",
    "    least_difference(1, 10, 10),\n",
    "    least_difference(5, 6, 7), # Python allows trailing commas in argument lists. How nice is that?\n",
    ")"
   ]
  },
  {
   "cell_type": "markdown",
   "id": "ae012806",
   "metadata": {
    "papermill": {
     "duration": 0.02293,
     "end_time": "2021-11-11T14:28:33.030149",
     "exception": false,
     "start_time": "2021-11-11T14:28:33.007219",
     "status": "completed"
    },
    "tags": []
   },
   "source": [
    "<br>\n",
    "\n",
    "Can the `help()` function can tell us something about our new function?"
   ]
  },
  {
   "cell_type": "code",
   "execution_count": 6,
   "id": "1fa362e6",
   "metadata": {
    "collapsed": true,
    "execution": {
     "iopub.execute_input": "2021-11-11T14:28:33.083423Z",
     "iopub.status.busy": "2021-11-11T14:28:33.082291Z",
     "iopub.status.idle": "2021-11-11T14:28:33.085719Z",
     "shell.execute_reply": "2021-11-11T14:28:33.086267Z"
    },
    "jupyter": {
     "outputs_hidden": true
    },
    "papermill": {
     "duration": 0.033079,
     "end_time": "2021-11-11T14:28:33.086461",
     "exception": false,
     "start_time": "2021-11-11T14:28:33.053382",
     "status": "completed"
    },
    "tags": []
   },
   "outputs": [
    {
     "name": "stdout",
     "output_type": "stream",
     "text": [
      "Help on function least_difference in module __main__:\n",
      "\n",
      "least_difference(a, b, c)\n",
      "\n"
     ]
    }
   ],
   "source": [
    "help(least_difference)"
   ]
  },
  {
   "cell_type": "markdown",
   "id": "8b998b0e",
   "metadata": {
    "papermill": {
     "duration": 0.023385,
     "end_time": "2021-11-11T14:28:33.134483",
     "exception": false,
     "start_time": "2021-11-11T14:28:33.111098",
     "status": "completed"
    },
    "tags": []
   },
   "source": [
    "Python isn't smart enough to read YOUR code and turn it into a nice English description. However, when you write a function, you can provide a description in what's called the **docstring**.\n",
    "\n",
    "<br>\n",
    "\n",
    "## 4 Docstrings"
   ]
  },
  {
   "cell_type": "code",
   "execution_count": 9,
   "id": "5322ead9",
   "metadata": {
    "papermill": {
     "duration": 0.036994,
     "end_time": "2021-11-11T14:28:33.198321",
     "exception": false,
     "start_time": "2021-11-11T14:28:33.161327",
     "status": "completed"
    },
    "tags": []
   },
   "outputs": [],
   "source": [
    "# Inserting docstring into c custom function\n",
    "\n",
    "def least_difference(a, b, c):\n",
    "    \"\"\"Return the smallest difference between any two numbers\n",
    "    among a, b and c.\n",
    "    \n",
    "    >>> least_difference(1, 5, -5)\n",
    "    4\n",
    "    \"\"\"\n",
    "    diff1 = abs(a - b)\n",
    "    diff2 = abs(b - c)\n",
    "    diff3 = abs(a - c)\n",
    "    return min(diff1, diff2, diff3)"
   ]
  },
  {
   "cell_type": "markdown",
   "id": "9fe9e2c0",
   "metadata": {
    "papermill": {
     "duration": 0.031045,
     "end_time": "2021-11-11T14:28:33.262753",
     "exception": false,
     "start_time": "2021-11-11T14:28:33.231708",
     "status": "completed"
    },
    "tags": []
   },
   "source": [
    "<br>\n",
    "\n",
    "The docstring is a triple-quoted string (which may span multiple lines) that comes immediately after the header of a function. When we call `help()` on a function, it shows the docstring."
   ]
  },
  {
   "cell_type": "code",
   "execution_count": 12,
   "id": "1211760d",
   "metadata": {
    "papermill": {
     "duration": 0.0331,
     "end_time": "2021-11-11T14:28:33.320137",
     "exception": false,
     "start_time": "2021-11-11T14:28:33.287037",
     "status": "completed"
    },
    "tags": []
   },
   "outputs": [
    {
     "name": "stdout",
     "output_type": "stream",
     "text": [
      "Help on function least_difference in module __main__:\n",
      "\n",
      "least_difference(a, b, c)\n",
      "    Return the smallest difference between any two numbers\n",
      "    among a, b and c.\n",
      "    \n",
      "    >>> least_difference(1, 5, -5)\n",
      "    4\n",
      "\n"
     ]
    }
   ],
   "source": [
    "# Test new docstRing\n",
    "help(least_difference)"
   ]
  },
  {
   "cell_type": "markdown",
   "id": "e0f8b296",
   "metadata": {
    "papermill": {
     "duration": 0.025594,
     "end_time": "2021-11-11T14:28:33.370046",
     "exception": false,
     "start_time": "2021-11-11T14:28:33.344452",
     "status": "completed"
    },
    "tags": []
   },
   "source": [
    "> **Aside:**\n",
    "> The last two lines of the docstring are an example function call and result. (The `>>>` is a reference to the command prompt used in Python interactive shells.) Python doesn't run the example call - it's just there for the benefit of the reader. The convention of including 1 or more example calls in a function's docstring is far from universally observed, but it can be very effective at helping someone understand your function. For a real-world example, see [this docstring for the numpy function `np.eye`](https://github.com/numpy/numpy/blob/v1.14.2/numpy/lib/twodim_base.py#L140-L194)."
   ]
  },
  {
   "cell_type": "markdown",
   "id": "04a4e065",
   "metadata": {
    "papermill": {
     "duration": 0.025855,
     "end_time": "2021-11-11T14:28:33.421627",
     "exception": false,
     "start_time": "2021-11-11T14:28:33.395772",
     "status": "completed"
    },
    "tags": []
   },
   "source": [
    "Good programmers use docstrings unless they expect to throw away the code soon after it's used (which is rare).  So, you should start writing docstrings, too!"
   ]
  },
  {
   "cell_type": "markdown",
   "id": "e4de2675",
   "metadata": {
    "papermill": {
     "duration": 0.026259,
     "end_time": "2021-11-11T14:28:33.472921",
     "exception": false,
     "start_time": "2021-11-11T14:28:33.446662",
     "status": "completed"
    },
    "tags": []
   },
   "source": [
    "## 5 Functions that don't return\n",
    "\n",
    "What would happen if we didn't include the `return` keyword in our function?"
   ]
  },
  {
   "cell_type": "code",
   "execution_count": 14,
   "id": "a545428f",
   "metadata": {
    "papermill": {
     "duration": 0.036155,
     "end_time": "2021-11-11T14:28:33.534464",
     "exception": false,
     "start_time": "2021-11-11T14:28:33.498309",
     "status": "completed"
    },
    "tags": []
   },
   "outputs": [
    {
     "name": "stdout",
     "output_type": "stream",
     "text": [
      "None None None\n"
     ]
    }
   ],
   "source": [
    "# Our function with no return statement\n",
    "def least_difference(a, b, c):\n",
    "    \"\"\"Return the smallest difference between any two numbers\n",
    "    among a, b and c.\n",
    "    \"\"\"\n",
    "    diff1 = abs(a - b)\n",
    "    diff2 = abs(b - c)\n",
    "    diff3 = abs(a - c)\n",
    "    min(diff1, diff2, diff3)\n",
    "    \n",
    "print(\n",
    "    least_difference(1, 10, 100),\n",
    "    least_difference(1, 10, 10),\n",
    "    least_difference(5, 6, 7),\n",
    ")"
   ]
  },
  {
   "cell_type": "markdown",
   "id": "8000c18d",
   "metadata": {
    "papermill": {
     "duration": 0.025061,
     "end_time": "2021-11-11T14:28:33.584467",
     "exception": false,
     "start_time": "2021-11-11T14:28:33.559406",
     "status": "completed"
    },
    "tags": []
   },
   "source": [
    "<BR>\n",
    "    \n",
    "Python allows us to define such functions. The result of calling them is the special value `None`. (This is similar to the concept of \"null\" in other languages.)\n",
    "\n",
    "Without a `return` statement, `least_difference` is completely pointless, but a function with side effects may do something useful without returning anything. We've already seen two examples of this: `print()` and `help()` don't return anything. We only call them for their side effects (putting some text on the screen). Other examples of useful side effects include writing to a file, or modifying an input."
   ]
  },
  {
   "cell_type": "code",
   "execution_count": 15,
   "id": "28ffe0c5",
   "metadata": {
    "papermill": {
     "duration": 0.035312,
     "end_time": "2021-11-11T14:28:33.646172",
     "exception": false,
     "start_time": "2021-11-11T14:28:33.610860",
     "status": "completed"
    },
    "tags": []
   },
   "outputs": [
    {
     "name": "stdout",
     "output_type": "stream",
     "text": [
      "\n",
      "None\n"
     ]
    }
   ],
   "source": [
    "# None example\n",
    "mystery = print()\n",
    "print(mystery)"
   ]
  },
  {
   "cell_type": "markdown",
   "id": "bd858d40",
   "metadata": {
    "papermill": {
     "duration": 0.024708,
     "end_time": "2021-11-11T14:28:33.696133",
     "exception": false,
     "start_time": "2021-11-11T14:28:33.671425",
     "status": "completed"
    },
    "tags": []
   },
   "source": [
    "## 6 Default arguments\n",
    "\n",
    "When we called `help(print)`, we saw that the `print` function has several optional arguments. For example, we can specify a value for `sep` to put some special string in between our printed arguments:"
   ]
  },
  {
   "cell_type": "code",
   "execution_count": 17,
   "id": "379d3f28",
   "metadata": {
    "papermill": {
     "duration": 0.034917,
     "end_time": "2021-11-11T14:28:33.756569",
     "exception": false,
     "start_time": "2021-11-11T14:28:33.721652",
     "status": "completed"
    },
    "tags": []
   },
   "outputs": [
    {
     "name": "stdout",
     "output_type": "stream",
     "text": [
      "1 < 2 < 3\n"
     ]
    }
   ],
   "source": [
    "# print with a seperator\n",
    "print(1, 2, 3, sep=' < ')"
   ]
  },
  {
   "cell_type": "markdown",
   "id": "dac16f2a",
   "metadata": {
    "papermill": {
     "duration": 0.025378,
     "end_time": "2021-11-11T14:28:33.808558",
     "exception": false,
     "start_time": "2021-11-11T14:28:33.783180",
     "status": "completed"
    },
    "tags": []
   },
   "source": [
    "<br>\n",
    "\n",
    "But if we don't specify a value, `sep` is treated as having a default value of `' '` (a single space)."
   ]
  },
  {
   "cell_type": "code",
   "execution_count": 19,
   "id": "500f32a4",
   "metadata": {
    "papermill": {
     "duration": 0.034136,
     "end_time": "2021-11-11T14:28:33.868587",
     "exception": false,
     "start_time": "2021-11-11T14:28:33.834451",
     "status": "completed"
    },
    "tags": []
   },
   "outputs": [
    {
     "name": "stdout",
     "output_type": "stream",
     "text": [
      "1 2 3\n"
     ]
    }
   ],
   "source": [
    "# Default no seperator\n",
    "print(1, 2, 3)"
   ]
  },
  {
   "cell_type": "markdown",
   "id": "8b7e0ea2",
   "metadata": {
    "papermill": {
     "duration": 0.025781,
     "end_time": "2021-11-11T14:28:33.920631",
     "exception": false,
     "start_time": "2021-11-11T14:28:33.894850",
     "status": "completed"
    },
    "tags": []
   },
   "source": [
    "<br>\n",
    "\n",
    "Adding optional arguments with default values to the functions we define turns out to be pretty easy:"
   ]
  },
  {
   "cell_type": "code",
   "execution_count": 13,
   "id": "0e144ede",
   "metadata": {
    "collapsed": true,
    "execution": {
     "iopub.execute_input": "2021-11-11T14:28:33.979396Z",
     "iopub.status.busy": "2021-11-11T14:28:33.978445Z",
     "iopub.status.idle": "2021-11-11T14:28:33.982201Z",
     "shell.execute_reply": "2021-11-11T14:28:33.982641Z"
    },
    "jupyter": {
     "outputs_hidden": true
    },
    "papermill": {
     "duration": 0.03569,
     "end_time": "2021-11-11T14:28:33.982812",
     "exception": false,
     "start_time": "2021-11-11T14:28:33.947122",
     "status": "completed"
    },
    "tags": []
   },
   "outputs": [
    {
     "name": "stdout",
     "output_type": "stream",
     "text": [
      "Hello, Colin\n",
      "Hello, Kaggle\n",
      "Hello, world\n"
     ]
    }
   ],
   "source": [
    "def greet(who=\"Colin\"):\n",
    "    print(\"Hello,\", who)\n",
    "    \n",
    "greet()\n",
    "greet(who=\"Kaggle\")\n",
    "# (In this case, we don't need to specify the name of the argument, because it's unambiguous.)\n",
    "greet(\"world\")"
   ]
  },
  {
   "cell_type": "markdown",
   "id": "c9b2955c",
   "metadata": {
    "papermill": {
     "duration": 0.027173,
     "end_time": "2021-11-11T14:28:34.036591",
     "exception": false,
     "start_time": "2021-11-11T14:28:34.009418",
     "status": "completed"
    },
    "tags": []
   },
   "source": [
    "## 7 Functions Applied to Functions (very meta)\n",
    "\n",
    "Here's something that's powerful, though it can feel very abstract at first.  You can supply functions as arguments to other functions.  Some examples to illustrate:"
   ]
  },
  {
   "cell_type": "code",
   "execution_count": 21,
   "id": "0e7b210c",
   "metadata": {
    "papermill": {
     "duration": 0.037047,
     "end_time": "2021-11-11T14:28:34.100271",
     "exception": false,
     "start_time": "2021-11-11T14:28:34.063224",
     "status": "completed"
    },
    "tags": []
   },
   "outputs": [
    {
     "name": "stdout",
     "output_type": "stream",
     "text": [
      "5\n",
      "25\n"
     ]
    }
   ],
   "source": [
    "# Building nested functions that call other functions\n",
    "def mult_by_five(x):\n",
    "    return 5 * x\n",
    "\n",
    "def call(fn, arg):\n",
    "    \"\"\"Call fn on arg\"\"\"\n",
    "    return fn(arg)\n",
    "\n",
    "def squared_call(fn, arg):\n",
    "    \"\"\"Call fn on the result of calling fn on arg\"\"\"\n",
    "    return fn(fn(arg))\n",
    "\n",
    "print(\n",
    "    call(fn = mult_by_five, arg = 1),\n",
    "    squared_call(fn = mult_by_five, arg = 1), \n",
    "    sep='\\n', # '\\n' is the newline character - it starts a new line\n",
    ")"
   ]
  },
  {
   "cell_type": "markdown",
   "id": "5a7d8aba",
   "metadata": {
    "papermill": {
     "duration": 0.026724,
     "end_time": "2021-11-11T14:28:34.153984",
     "exception": false,
     "start_time": "2021-11-11T14:28:34.127260",
     "status": "completed"
    },
    "tags": []
   },
   "source": [
    "<br>\n",
    "\n",
    "Functions that operate on other functions are called \"higher-order functions.\" You probably won't write your own for a little while. But there are higher-order functions built into Python that you might find useful to call. \n",
    "\n",
    "Here's an interesting example using the `max` function.\n",
    "\n",
    "By default, `max` returns the largest of its arguments. But if we pass in a function using the optional `key` argument, it returns the argument `x` that maximizes `key(x)` (aka the 'argmax')."
   ]
  },
  {
   "cell_type": "code",
   "execution_count": 22,
   "id": "3fe84c0d",
   "metadata": {
    "papermill": {
     "duration": 0.036781,
     "end_time": "2021-11-11T14:28:34.217889",
     "exception": false,
     "start_time": "2021-11-11T14:28:34.181108",
     "status": "completed"
    },
    "tags": []
   },
   "outputs": [
    {
     "name": "stdout",
     "output_type": "stream",
     "text": [
      "Which number is biggest?\n",
      "100\n",
      "Which number is the biggest modulo 5?\n",
      "14\n"
     ]
    }
   ],
   "source": [
    "# Higher order function example\n",
    "def mod_5(x):\n",
    "    \"\"\"Return the remainder of x after dividing by 5\"\"\"\n",
    "    return x % 5\n",
    "\n",
    "print(\n",
    "    'Which number is biggest?',\n",
    "    max(100, 51, 14),\n",
    "    'Which input results in the biggest modulo 5?',\n",
    "    max(100, 51, 14, key=mod_5),\n",
    "    sep='\\n',\n",
    ")"
   ]
  },
  {
   "cell_type": "markdown",
   "id": "bcedca83-a33f-467c-be65-08a56a1f464b",
   "metadata": {},
   "source": [
    "## 8 Exercises"
   ]
  },
  {
   "cell_type": "markdown",
   "id": "c27bfb0c-1a83-4849-8704-07d819136b06",
   "metadata": {},
   "source": [
    "### 8.1\n",
    "\n",
    "Complete the body of the following function according to its docstring.\n",
    "\n",
    "HINT: Python has a built-in function `round`."
   ]
  },
  {
   "cell_type": "code",
   "execution_count": 27,
   "id": "f2045b1b-4757-45cf-a976-e57e6ae53563",
   "metadata": {},
   "outputs": [],
   "source": [
    "def round_to_two_places(num):\n",
    "    \"\"\"Return the given number rounded to two decimal places. \n",
    "    \n",
    "    >>> round_to_two_places(3.14159)\n",
    "    3.14\n",
    "    \"\"\"\n",
    "    # Replace this body with your own code.\n",
    "    # (\"pass\" is a keyword that does literally nothing. We used it as a placeholder\n",
    "    # because after we begin a code block, Python requires at least one line of code)\n",
    "    pass\n"
   ]
  },
  {
   "cell_type": "markdown",
   "id": "6000bfd8-797b-49ef-900d-36bb43fa1fb9",
   "metadata": {},
   "source": [
    "### 8.2\n",
    "The help for `round` says that `ndigits` (the second argument) may be negative.\n",
    "What do you think will happen when it is? Try some examples in the following cell?\n",
    "\n",
    "Can you think of a case where this would be useful?"
   ]
  },
  {
   "cell_type": "code",
   "execution_count": 29,
   "id": "14a7eccc-5e1e-44ba-90a8-a25f96c56ef3",
   "metadata": {},
   "outputs": [],
   "source": [
    "# Put your test code here\n",
    "\n"
   ]
  },
  {
   "cell_type": "markdown",
   "id": "b287eb00-97ea-4748-9521-62c2d32f9309",
   "metadata": {},
   "source": [
    "### 8.3\n",
    "\n",
    "(You may have previously encountered) The candy-sharing friends Alice, Bob and Carol tried to split their candies evenly. For the sake of their friendship, any candies left over would be smashed. For example, if they collectively bring home 91 candies, they'll take 30 each and smash 1.\n",
    "\n",
    "Below is a simple function that will calculate the number of candies to smash for *any* number of total candies.\n",
    "\n",
    "Modify it so that it optionally takes a second argument representing the number of friends the candies are being split between. If no second argument is provided, it should assume 3 friends, as before.\n",
    "\n",
    "Update the docstring to reflect this new behaviour."
   ]
  },
  {
   "cell_type": "code",
   "execution_count": 30,
   "id": "cbfb328d-63bf-46ca-875e-d74e02e37280",
   "metadata": {},
   "outputs": [],
   "source": [
    "def to_smash(total_candies):\n",
    "    \"\"\"Return the number of leftover candies that must be smashed after distributing\n",
    "    the given number of candies evenly between 3 friends.\n",
    "    \n",
    "    >>> to_smash(91)\n",
    "    1\n",
    "    \"\"\"\n",
    "    return total_candies % 3\n",
    "\n"
   ]
  },
  {
   "cell_type": "markdown",
   "id": "9d087acd-57c3-4f9c-9de6-fba09e8eddea",
   "metadata": {},
   "source": [
    "### 8.4\n",
    "\n",
    "It may not be fun, but reading and understanding error messages will be an important part of your Python career.\n",
    "\n",
    "Each code cell below contains some commented-out buggy code. For each cell...\n",
    "\n",
    "1. Read the code and predict what you think will happen when it's run.\n",
    "\n",
    "2. Then uncomment the code and run it to see what happens. (**Tip**: In the kernel editor, you can highlight several lines and press `ctrl`+`/` to toggle commenting.)\n",
    "\n",
    "3. Fix the code (so that it accomplishes its intended purpose without an error or warning)\n",
    "\n"
   ]
  },
  {
   "cell_type": "code",
   "execution_count": 31,
   "id": "d06c67f9-c59f-4913-be47-c4f380156427",
   "metadata": {},
   "outputs": [],
   "source": [
    "# round_to_two_places(9.9999)"
   ]
  },
  {
   "cell_type": "code",
   "execution_count": 32,
   "id": "5dcf4bfb-6add-4773-bc78-c2d3490827c4",
   "metadata": {},
   "outputs": [],
   "source": [
    "# x = -10\n",
    "# y = 5\n",
    "# # Which of the two variables above has the smallest absolute value?\n",
    "# smallest_abs = min(abs(x), abs(y))"
   ]
  },
  {
   "cell_type": "code",
   "execution_count": 34,
   "id": "c27ef74a-2f74-43ad-a0cf-21bfdf5399f0",
   "metadata": {},
   "outputs": [],
   "source": [
    "# def f(x):\n",
    "#     y = abs(x)\n",
    "#     return y\n",
    "\n",
    "# print(f(5))"
   ]
  }
 ],
 "metadata": {
  "kernelspec": {
   "display_name": "Python 3 (ipykernel)",
   "language": "python",
   "name": "python3"
  },
  "language_info": {
   "codemirror_mode": {
    "name": "ipython",
    "version": 3
   },
   "file_extension": ".py",
   "mimetype": "text/x-python",
   "name": "python",
   "nbconvert_exporter": "python",
   "pygments_lexer": "ipython3",
   "version": "3.7.13"
  },
  "learntools_metadata": {
   "lesson_index": 1,
   "type": "tutorial"
  },
  "papermill": {
   "default_parameters": {},
   "duration": 12.218911,
   "end_time": "2021-11-11T14:28:34.964867",
   "environment_variables": {},
   "exception": null,
   "input_path": "__notebook__.ipynb",
   "output_path": "__notebook__.ipynb",
   "parameters": {},
   "start_time": "2021-11-11T14:28:22.745956",
   "version": "2.3.3"
  }
 },
 "nbformat": 4,
 "nbformat_minor": 5
}
