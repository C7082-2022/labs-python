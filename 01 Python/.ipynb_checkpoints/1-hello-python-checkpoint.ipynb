{
 "cells": [
  {
   "cell_type": "markdown",
   "id": "79261b14-6144-44c9-a4a7-04d1162fc69c",
   "metadata": {
    "tags": []
   },
   "source": [
    "# Lab 01 Python Hello, World\n",
    "\n",
    "<br>\n",
    "\n",
    "<center>\n",
    "    \n",
    "<img src=\"img/craiyon-spam.jpg\" alt=\"Spam\" width=\"300\"/> \n",
    "    \n",
    "    Craiyon.com \"Still life with Spam\"\n",
    "    \n",
    "</center>    \n",
    "\n",
    "<br>\n"
   ]
  },
  {
   "cell_type": "markdown",
   "id": "2ef5d46c-ee97-45ef-acd6-70fa1e4f1391",
   "metadata": {},
   "source": [
    "\n",
    "## 1 Objectives\n",
    "\n",
    "These labs briefly review key Python skills you’ll need so you can start using Python for data science. The material is ideal for someone with some previous coding experience who wants to learn Python. \n",
    "\n",
    "We'll start with a brief overview of:\n",
    "\n",
    "- Python syntax\n",
    "\n",
    "- variable assignment\n",
    "\n",
    "- arithmetic operators\n",
    "\n",
    "<br>"
   ]
  },
  {
   "cell_type": "markdown",
   "id": "e09dd7de-59f6-4f2b-81ae-aceb18b50282",
   "metadata": {},
   "source": [
    "## 2 Python syntax\n",
    "\n",
    "Python was named for the British comedy troupe [Monty Python](https://en.wikipedia.org/wiki/Monty_Python), so we'll make our first Python code a homage to their skit about [Spam](https://bit.ly/3MwwjSs).\n",
    "\n",
    "Just for fun, try reading over the code below and predicting what it's going to do when run. (If you have no idea, that's fine!)\n",
    "\n",
    "Then click the \"output\" button to see the results of our program.\n",
    "\n",
    "<br>"
   ]
  },
  {
   "cell_type": "code",
   "execution_count": 1,
   "id": "dde448ec",
   "metadata": {
    "_kg_hide-output": true,
    "papermill": {
     "duration": 0.023544,
     "end_time": "2022-06-09T20:57:03.375248",
     "exception": false,
     "start_time": "2022-06-09T20:57:03.351704",
     "status": "completed"
    },
    "tags": []
   },
   "outputs": [
    {
     "name": "stdout",
     "output_type": "stream",
     "text": [
      "0\n",
      "But I don't want ANY spam!\n",
      "Spam Spam Spam Spam \n"
     ]
    }
   ],
   "source": [
    "spam_amount = 0\n",
    "print(spam_amount)\n",
    "\n",
    "# Ordering Spam, egg, Spam, Spam, bacon and Spam (4 more servings of Spam)\n",
    "spam_amount = spam_amount + 4\n",
    "\n",
    "if spam_amount > 0:\n",
    "    print(\"But I don't want ANY spam!\")\n",
    "\n",
    "viking_song = \"Spam \" * spam_amount\n",
    "print(viking_song)"
   ]
  },
  {
   "cell_type": "markdown",
   "id": "9ddf9072",
   "metadata": {
    "papermill": {
     "duration": 0.010567,
     "end_time": "2022-06-09T20:57:03.397039",
     "exception": false,
     "start_time": "2022-06-09T20:57:03.386472",
     "status": "completed"
    },
    "tags": []
   },
   "source": [
    "<br>\n",
    "\n",
    "### 2.1 Unpacking the output\n",
    "\n",
    "There's a lot to unpack here! This silly program demonstrates many important aspects of what Python code looks like and how it works. Let's review the code from top to bottom.\n",
    "\n",
    "<br>"
   ]
  },
  {
   "cell_type": "code",
   "execution_count": 2,
   "id": "b322a176",
   "metadata": {
    "papermill": {
     "duration": 0.017083,
     "end_time": "2022-06-09T20:57:03.425273",
     "exception": false,
     "start_time": "2022-06-09T20:57:03.408190",
     "status": "completed"
    },
    "tags": []
   },
   "outputs": [],
   "source": [
    "# Variable assignment\n",
    "spam_amount = 0"
   ]
  },
  {
   "cell_type": "markdown",
   "id": "dbea3079",
   "metadata": {
    "papermill": {
     "duration": 0.010771,
     "end_time": "2022-06-09T20:57:03.447259",
     "exception": false,
     "start_time": "2022-06-09T20:57:03.436488",
     "status": "completed"
    },
    "tags": []
   },
   "source": [
    "Here we create a variable called `spam_amount` and assign it the value of 0 using `=`, which is called the assignment operator.\n",
    "\n",
    "<br>\n",
    "\n",
    "> **Note**: If you've programmed in certain other languages (like Java or C++), you might be noticing some things Python *doesn't* require us to do here:  \n",
    "- we don't need to \"declare\" `spam_amount` before assigning to it\n",
    "- we don't need to tell Python what type of value `spam_amount` is going to refer to. In fact, we can even go on to reassign `spam_amount` to refer to a different sort of thing like a string or a boolean.\n",
    "\n",
    "<br>\n"
   ]
  },
  {
   "cell_type": "code",
   "execution_count": 3,
   "id": "6fd50196",
   "metadata": {
    "_kg_hide-output": false,
    "papermill": {
     "duration": 0.017677,
     "end_time": "2022-06-09T20:57:03.475939",
     "exception": false,
     "start_time": "2022-06-09T20:57:03.458262",
     "status": "completed"
    },
    "tags": []
   },
   "outputs": [
    {
     "name": "stdout",
     "output_type": "stream",
     "text": [
      "0\n"
     ]
    }
   ],
   "source": [
    "# Using functions\n",
    "print(spam_amount)"
   ]
  },
  {
   "cell_type": "markdown",
   "id": "0f835ab4",
   "metadata": {
    "papermill": {
     "duration": 0.011235,
     "end_time": "2022-06-09T20:57:03.498950",
     "exception": false,
     "start_time": "2022-06-09T20:57:03.487715",
     "status": "completed"
    },
    "tags": []
   },
   "source": [
    "`print()` is a Python function that displays the value passed to it on the screen. We call functions by putting parentheses after their name, and putting the inputs (or *arguments*) to the function in those parentheses.\n",
    "\n",
    "<br>"
   ]
  },
  {
   "cell_type": "code",
   "execution_count": 5,
   "id": "3dcb3971",
   "metadata": {
    "_kg_hide-output": false,
    "papermill": {
     "duration": 0.017425,
     "end_time": "2022-06-09T20:57:03.527565",
     "exception": false,
     "start_time": "2022-06-09T20:57:03.510140",
     "status": "completed"
    },
    "tags": []
   },
   "outputs": [],
   "source": [
    "# Ordering Spam, egg, Spam, Spam, bacon and Spam (4 more servings of Spam)\n",
    "spam_amount = spam_amount + 4"
   ]
  },
  {
   "cell_type": "markdown",
   "id": "b1f768fd",
   "metadata": {
    "papermill": {
     "duration": 0.011603,
     "end_time": "2022-06-09T20:57:03.550648",
     "exception": false,
     "start_time": "2022-06-09T20:57:03.539045",
     "status": "completed"
    },
    "tags": []
   },
   "source": [
    "The first line above is a **comment**. In Python, comments begin with the `#` symbol.\n",
    "\n",
    "Next we see an example of reassignment. Reassigning the value of an existing variable looks just the same as creating a variable - it still uses the `=` assignment operator.\n",
    "\n",
    "In this case, the value we're assigning to `spam_amount` involves some simple arithmetic on its previous value. When it encounters this line, Python evaluates the expression on the right-hand-side of the `=` (0 + 4 = 4), and then assigns that value to the variable on the left-hand-side.\n",
    "\n",
    "<br>"
   ]
  },
  {
   "cell_type": "code",
   "execution_count": 6,
   "id": "835f48a6",
   "metadata": {
    "_kg_hide-output": false,
    "papermill": {
     "duration": 0.018591,
     "end_time": "2022-06-09T20:57:03.580860",
     "exception": false,
     "start_time": "2022-06-09T20:57:03.562269",
     "status": "completed"
    },
    "tags": []
   },
   "outputs": [
    {
     "name": "stdout",
     "output_type": "stream",
     "text": [
      "But I don't want ANY spam!\n",
      "Spam Spam Spam\n"
     ]
    }
   ],
   "source": [
    "# Conditional statements\n",
    "if spam_amount > 0:\n",
    "    print(\"But I don't want ANY spam!\")\n",
    "\n",
    "viking_song = \"Spam Spam Spam\"\n",
    "print(viking_song)"
   ]
  },
  {
   "cell_type": "markdown",
   "id": "e51e21cf",
   "metadata": {
    "papermill": {
     "duration": 0.011095,
     "end_time": "2022-06-09T20:57:03.603518",
     "exception": false,
     "start_time": "2022-06-09T20:57:03.592423",
     "status": "completed"
    },
    "tags": []
   },
   "source": [
    "You may not have encountered \"conditionals\" before in programming, but, even if you've never coded before, you can possibly guess what this does. Python is prized for its readability and the simplicity. \n",
    "\n",
    "Note how we indicated which code belongs to the `if`. `\"But I don't want ANY spam!\"` is only supposed to be printed if `spam_amount` is positive. But the later code (like `print(viking_song)`) should be executed no matter what. How do we (and Python) know that?\n",
    "\n",
    "The colon (`:`) at the end of the `if` line indicates that a new **code block** is starting. Subsequent lines which are indented are part of that code block. \n",
    "\n",
    "> **Note**: If you've coded before, you might know that some other languages use `{`curly braces`}` to mark the beginning and end of code blocks. Python's use of meaningful whitespace can be surprising to programmers who are accustomed to other languages, but in practice it can lead to more consistent and readable code than other languages** that do not enforce indentation of code blocks. \n",
    "\n",
    "**Other language such as `R`\n",
    "\n",
    "<br>\n",
    "\n",
    "The later lines dealing with `viking_song` are not indented with an extra 4 spaces, so they're not a part of the `if`'s code block. We'll see more examples of indented code blocks later when we define functions and using loops.\n",
    "\n",
    "This code snippet is also our first sighting of a **string** data type in Python:\n",
    "\n",
    "```python\n",
    "\"But I don't want ANY spam!\"\n",
    "```\n",
    "\n",
    "Strings can be marked either by double or single quotation marks. (But because this particular string *contains* a single-quote character, we might confuse Python by trying to surround it with single-quotes, unless we're careful.)\n",
    "\n",
    "<br>"
   ]
  },
  {
   "cell_type": "code",
   "execution_count": 7,
   "id": "129926a9",
   "metadata": {
    "_kg_hide-output": false,
    "papermill": {
     "duration": 0.01938,
     "end_time": "2022-06-09T20:57:03.635037",
     "exception": false,
     "start_time": "2022-06-09T20:57:03.615657",
     "status": "completed"
    },
    "tags": []
   },
   "outputs": [
    {
     "name": "stdout",
     "output_type": "stream",
     "text": [
      "Spam Spam Spam Spam \n"
     ]
    }
   ],
   "source": [
    "viking_song = \"Spam \" * spam_amount\n",
    "print(viking_song)"
   ]
  },
  {
   "cell_type": "markdown",
   "id": "7fb8e92e",
   "metadata": {
    "papermill": {
     "duration": 0.011767,
     "end_time": "2022-06-09T20:57:03.659129",
     "exception": false,
     "start_time": "2022-06-09T20:57:03.647362",
     "status": "completed"
    },
    "tags": []
   },
   "source": [
    "The `*` operator can be used to multiply two numbers (e.g., `3 * 3` evaluates to 9), but we can also multiply a string by a number, to get a version that's been repeated that many times. Python offers a number of cheeky little time-saving tricks like this where operators like `*` and `+` have a different meaning depending on what kind of thing they're applied to. (The technical term for this is [operator overloading](https://en.wikipedia.org/wiki/Operator_overloading).)\n",
    "\n",
    "<br>"
   ]
  },
  {
   "cell_type": "markdown",
   "id": "1be2c1d2",
   "metadata": {
    "papermill": {
     "duration": 0.011489,
     "end_time": "2022-06-09T20:57:03.682383",
     "exception": false,
     "start_time": "2022-06-09T20:57:03.670894",
     "status": "completed"
    },
    "tags": []
   },
   "source": [
    "## 3 Numbers and arithmetic in Python\n",
    "\n",
    "We've already seen an example of a variable containing a number above:"
   ]
  },
  {
   "cell_type": "code",
   "execution_count": 10,
   "id": "8b44e0a2",
   "metadata": {
    "papermill": {
     "duration": 0.019243,
     "end_time": "2022-06-09T20:57:03.713150",
     "exception": false,
     "start_time": "2022-06-09T20:57:03.693907",
     "status": "completed"
    },
    "tags": []
   },
   "outputs": [],
   "source": [
    "# Variable types: integer\n",
    "spam_amount = 0"
   ]
  },
  {
   "cell_type": "markdown",
   "id": "14068212",
   "metadata": {
    "papermill": {
     "duration": 0.011372,
     "end_time": "2022-06-09T20:57:03.736494",
     "exception": false,
     "start_time": "2022-06-09T20:57:03.725122",
     "status": "completed"
    },
    "tags": []
   },
   "source": [
    "<br>\n",
    "\n",
    "\"Number\" is an informal name for a variable containing and integer value, but if we wanted to be more technical, we could ask Python how it would describe the type of thing that `spam_amount` is:"
   ]
  },
  {
   "cell_type": "code",
   "execution_count": 9,
   "id": "2b0b4a88",
   "metadata": {
    "papermill": {
     "duration": 0.021033,
     "end_time": "2022-06-09T20:57:03.768960",
     "exception": false,
     "start_time": "2022-06-09T20:57:03.747927",
     "status": "completed"
    },
    "tags": []
   },
   "outputs": [
    {
     "data": {
      "text/plain": [
       "int"
      ]
     },
     "execution_count": 9,
     "metadata": {},
     "output_type": "execute_result"
    }
   ],
   "source": [
    "type(spam_amount)"
   ]
  },
  {
   "cell_type": "markdown",
   "id": "22c4ebdd",
   "metadata": {
    "papermill": {
     "duration": 0.011589,
     "end_time": "2022-06-09T20:57:03.792245",
     "exception": false,
     "start_time": "2022-06-09T20:57:03.780656",
     "status": "completed"
    },
    "tags": []
   },
   "source": [
    "It's an `int`, short for integer. \n",
    "\n",
    "<br>\n",
    "\n",
    "There's another sort of number we commonly encounter in Python:"
   ]
  },
  {
   "cell_type": "code",
   "execution_count": 11,
   "id": "697f6d36",
   "metadata": {
    "papermill": {
     "duration": 0.019851,
     "end_time": "2022-06-09T20:57:03.823821",
     "exception": false,
     "start_time": "2022-06-09T20:57:03.803970",
     "status": "completed"
    },
    "tags": []
   },
   "outputs": [
    {
     "data": {
      "text/plain": [
       "float"
      ]
     },
     "execution_count": 11,
     "metadata": {},
     "output_type": "execute_result"
    }
   ],
   "source": [
    "# type: float\n",
    "type(19.95)"
   ]
  },
  {
   "cell_type": "markdown",
   "id": "e9f0c2f9",
   "metadata": {
    "papermill": {
     "duration": 0.011849,
     "end_time": "2022-06-09T20:57:03.847592",
     "exception": false,
     "start_time": "2022-06-09T20:57:03.835743",
     "status": "completed"
    },
    "tags": []
   },
   "source": [
    "A `float` is a number with a decimal place - very useful for representing things like weights or proportions with infinite precision.\n",
    "\n",
    "`type()` is the second built-in function we've seen (after `print()`), and it's another good one to remember. It's very useful to be able to ask Python \"what kind of thing is this?\". "
   ]
  },
  {
   "cell_type": "markdown",
   "id": "2e89e48a",
   "metadata": {
    "papermill": {
     "duration": 0.011782,
     "end_time": "2022-06-09T20:57:03.871340",
     "exception": false,
     "start_time": "2022-06-09T20:57:03.859558",
     "status": "completed"
    },
    "tags": []
   },
   "source": [
    "### 3.1 Numeric operators\n",
    "\n",
    "A natural thing to want to do with numbers is perform arithmetic. We've seen the `+` operator for addition, and the `*` operator for multiplication. Python also has us covered for the rest of the basic buttons on your calculator:\n",
    "\n",
    "| Operator     | Name           | Description                                            |\n",
    "|--------------|----------------|--------------------------------------------------------|\n",
    "| ``a + b``    | Addition       | Sum of ``a`` and ``b``                                 |\n",
    "| ``a - b``    | Subtraction    | Difference of ``a`` and ``b``                          |\n",
    "| ``a * b``    | Multiplication | Product of ``a`` and ``b``                             |\n",
    "| ``a / b``    | True division  | Quotient of ``a`` and ``b``                            |\n",
    "| ``a // b``   | Floor division | Quotient of ``a`` and ``b``, removing fractional parts |\n",
    "| ``a % b``    | Modulus        | Integer remainder after division of ``a`` by ``b``     |\n",
    "| ``a ** b``   | Exponentiation | ``a`` raised to the power of ``b``                     |\n",
    "| ``-a``       | Negation       | The negative of ``a``                                  |\n",
    "\n",
    "<span style=\"display:none\"></span>\n",
    "\n",
    "<br>"
   ]
  },
  {
   "cell_type": "markdown",
   "id": "08d4504f-570b-4ee0-b883-8ff9b84363d4",
   "metadata": {},
   "source": [
    "One interesting observation here is that, whereas your calculator probably just has one button for division, Python can do two kinds. \"True division\" is basically what a calculator does:"
   ]
  },
  {
   "cell_type": "code",
   "execution_count": 15,
   "id": "6859b80a",
   "metadata": {
    "papermill": {
     "duration": 0.020682,
     "end_time": "2022-06-09T20:57:03.904044",
     "exception": false,
     "start_time": "2022-06-09T20:57:03.883362",
     "status": "completed"
    },
    "tags": []
   },
   "outputs": [
    {
     "name": "stdout",
     "output_type": "stream",
     "text": [
      "2.5\n",
      "3.0\n",
      "<class 'float'>\n"
     ]
    }
   ],
   "source": [
    "# Division operator\n",
    "print(5 / 2)\n",
    "print(6 / 2)\n",
    "print(type(6 / 2))"
   ]
  },
  {
   "cell_type": "markdown",
   "id": "395c8748",
   "metadata": {
    "papermill": {
     "duration": 0.007359,
     "end_time": "2022-06-09T20:57:03.920271",
     "exception": false,
     "start_time": "2022-06-09T20:57:03.912912",
     "status": "completed"
    },
    "tags": []
   },
   "source": [
    "It always gives us a `float` type. \n",
    "\n",
    "<br>\n",
    "\n",
    "The `//` operator gives us a result that's rounded down to the next integer:"
   ]
  },
  {
   "cell_type": "code",
   "execution_count": null,
   "id": "ce8f2e31",
   "metadata": {
    "papermill": {
     "duration": 0.016319,
     "end_time": "2022-06-09T20:57:03.944047",
     "exception": false,
     "start_time": "2022-06-09T20:57:03.927728",
     "status": "completed"
    },
    "tags": []
   },
   "outputs": [],
   "source": [
    "# Rounding\n",
    "print(5 // 2)\n",
    "print(6 // 2)"
   ]
  },
  {
   "cell_type": "markdown",
   "id": "23bdec76",
   "metadata": {
    "papermill": {
     "duration": 0.012287,
     "end_time": "2022-06-09T20:57:03.969273",
     "exception": false,
     "start_time": "2022-06-09T20:57:03.956986",
     "status": "completed"
    },
    "tags": []
   },
   "source": [
    "Can you think of where this would be useful? \n",
    "\n",
    "<br>"
   ]
  },
  {
   "cell_type": "markdown",
   "id": "4744ea4f",
   "metadata": {
    "papermill": {
     "duration": 0.012405,
     "end_time": "2022-06-09T20:57:03.994781",
     "exception": false,
     "start_time": "2022-06-09T20:57:03.982376",
     "status": "completed"
    },
    "tags": []
   },
   "source": [
    "### 3.2 Order of operations\n",
    "\n",
    "The arithmetic we learned in primary school has conventions about the order in which operations are evaluated. Some remember these by a mnemonic such as **PEMDAS** - **P**arentheses, **E**xponents, **M**ultiplication/**D**ivision, **A**ddition/**S**ubtraction.\n",
    "\n",
    "Python follows similar rules about which calculations to perform first. They're mostly pretty intuitive."
   ]
  },
  {
   "cell_type": "code",
   "execution_count": 16,
   "id": "1d1e1d66",
   "metadata": {
    "papermill": {
     "duration": 0.021377,
     "end_time": "2022-06-09T20:57:04.028571",
     "exception": false,
     "start_time": "2022-06-09T20:57:04.007194",
     "status": "completed"
    },
    "tags": []
   },
   "outputs": [
    {
     "data": {
      "text/plain": [
       "7"
      ]
     },
     "execution_count": 16,
     "metadata": {},
     "output_type": "execute_result"
    }
   ],
   "source": [
    "8 - 3 + 2"
   ]
  },
  {
   "cell_type": "code",
   "execution_count": 17,
   "id": "e14b3d0e",
   "metadata": {
    "papermill": {
     "duration": 0.021528,
     "end_time": "2022-06-09T20:57:04.062903",
     "exception": false,
     "start_time": "2022-06-09T20:57:04.041375",
     "status": "completed"
    },
    "tags": []
   },
   "outputs": [
    {
     "data": {
      "text/plain": [
       "5"
      ]
     },
     "execution_count": 17,
     "metadata": {},
     "output_type": "execute_result"
    }
   ],
   "source": [
    "-3 + 4 * 2"
   ]
  },
  {
   "cell_type": "markdown",
   "id": "34aa8244",
   "metadata": {
    "papermill": {
     "duration": 0.012711,
     "end_time": "2022-06-09T20:57:04.089037",
     "exception": false,
     "start_time": "2022-06-09T20:57:04.076326",
     "status": "completed"
    },
    "tags": []
   },
   "source": [
    "<br>\n",
    "\n",
    "Sometimes the default order of operations isn't what we want:"
   ]
  },
  {
   "cell_type": "code",
   "execution_count": 18,
   "id": "f9f0cff3",
   "metadata": {
    "papermill": {
     "duration": 0.020526,
     "end_time": "2022-06-09T20:57:04.122403",
     "exception": false,
     "start_time": "2022-06-09T20:57:04.101877",
     "status": "completed"
    },
    "tags": []
   },
   "outputs": [
    {
     "name": "stdout",
     "output_type": "stream",
     "text": [
      "Height in meters = 26.9 ?\n"
     ]
    }
   ],
   "source": [
    "hat_height_cm = 25\n",
    "my_height_cm = 190\n",
    "\n",
    "# How tall am I, in meters, when wearing my hat?\n",
    "total_height_meters = hat_height_cm + my_height_cm / 100\n",
    "print(\"Height in meters =\", total_height_meters, \"?\")"
   ]
  },
  {
   "cell_type": "markdown",
   "id": "3fcc3d14",
   "metadata": {
    "papermill": {
     "duration": 0.012789,
     "end_time": "2022-06-09T20:57:04.148195",
     "exception": false,
     "start_time": "2022-06-09T20:57:04.135406",
     "status": "completed"
    },
    "tags": []
   },
   "source": [
    "<br>\n",
    "\n",
    "Parentheses are needed here. You can add them to force Python to evaluate sub-expressions in whatever order you want."
   ]
  },
  {
   "cell_type": "code",
   "execution_count": 19,
   "id": "03b2f523",
   "metadata": {
    "papermill": {
     "duration": 0.022397,
     "end_time": "2022-06-09T20:57:04.183520",
     "exception": false,
     "start_time": "2022-06-09T20:57:04.161123",
     "status": "completed"
    },
    "tags": []
   },
   "outputs": [
    {
     "name": "stdout",
     "output_type": "stream",
     "text": [
      "Height in meters = 2.15\n"
     ]
    }
   ],
   "source": [
    "total_height_meters = (hat_height_cm + my_height_cm) / 100\n",
    "print(\"Height in meters =\", total_height_meters)"
   ]
  },
  {
   "cell_type": "markdown",
   "id": "e7905bfc",
   "metadata": {
    "papermill": {
     "duration": 0.008017,
     "end_time": "2022-06-09T20:57:04.200466",
     "exception": false,
     "start_time": "2022-06-09T20:57:04.192449",
     "status": "completed"
    },
    "tags": []
   },
   "source": [
    "<br>\n",
    "\n",
    "## 4 Built-in functions for working with numbers\n",
    "\n",
    "`min` and `max` return the minimum and maximum of their arguments, respectively..."
   ]
  },
  {
   "cell_type": "code",
   "execution_count": null,
   "id": "aca3de1c",
   "metadata": {
    "papermill": {
     "duration": 0.016702,
     "end_time": "2022-06-09T20:57:04.225344",
     "exception": false,
     "start_time": "2022-06-09T20:57:04.208642",
     "status": "completed"
    },
    "tags": []
   },
   "outputs": [],
   "source": [
    "print(min(1, 2, 3))\n",
    "print(max(1, 2, 3))"
   ]
  },
  {
   "cell_type": "markdown",
   "id": "ebf2af67",
   "metadata": {
    "papermill": {
     "duration": 0.013815,
     "end_time": "2022-06-09T20:57:04.252926",
     "exception": false,
     "start_time": "2022-06-09T20:57:04.239111",
     "status": "completed"
    },
    "tags": []
   },
   "source": [
    "<br>\n",
    "\n",
    "`abs` returns the absolute value of an argument:"
   ]
  },
  {
   "cell_type": "code",
   "execution_count": null,
   "id": "a7dfbd1a",
   "metadata": {
    "papermill": {
     "duration": 0.022051,
     "end_time": "2022-06-09T20:57:04.289161",
     "exception": false,
     "start_time": "2022-06-09T20:57:04.267110",
     "status": "completed"
    },
    "tags": []
   },
   "outputs": [],
   "source": [
    "print(abs(32))\n",
    "print(abs(-32))"
   ]
  },
  {
   "cell_type": "markdown",
   "id": "2a584ebf",
   "metadata": {
    "papermill": {
     "duration": 0.013494,
     "end_time": "2022-06-09T20:57:04.316246",
     "exception": false,
     "start_time": "2022-06-09T20:57:04.302752",
     "status": "completed"
    },
    "tags": []
   },
   "source": [
    "<br>\n",
    "\n",
    "In addition to being the names of Python's two main numerical types, `int` and `float` can also be called as functions which convert their arguments to the corresponding type:"
   ]
  },
  {
   "cell_type": "code",
   "execution_count": 21,
   "id": "5218656c",
   "metadata": {
    "papermill": {
     "duration": 0.022793,
     "end_time": "2022-06-09T20:57:04.352768",
     "exception": false,
     "start_time": "2022-06-09T20:57:04.329975",
     "status": "completed"
    },
    "tags": []
   },
   "outputs": [
    {
     "name": "stdout",
     "output_type": "stream",
     "text": [
      "10.0\n",
      "3\n",
      "808\n"
     ]
    }
   ],
   "source": [
    "print(float(10))\n",
    "print(int(3.33))\n",
    "\n",
    "# They can even be called on strings!\n",
    "print(int('807') + 1)"
   ]
  },
  {
   "cell_type": "markdown",
   "id": "f89bca97-3609-46cd-8172-76658f2d385e",
   "metadata": {},
   "source": [
    "<br>\n",
    "\n",
    "## 5 Exercises"
   ]
  },
  {
   "cell_type": "markdown",
   "id": "2028ea7e-93cc-4a1c-851b-dd2c4948d41f",
   "metadata": {},
   "source": [
    "<br>\n",
    "\n",
    "To get started, try running the code cell below (by pressing the \"►\" button (assuming you are using Jupyter Lab or similar), or clicking on the cell and pressing ctrl+enter on your keyboard)."
   ]
  },
  {
   "cell_type": "code",
   "execution_count": 25,
   "id": "1cc92b16-43ff-4477-a4c7-cf671ea81460",
   "metadata": {},
   "outputs": [
    {
     "name": "stdout",
     "output_type": "stream",
     "text": [
      "You've successfully run some Python code\n",
      "Congratulations!\n",
      "Tell me much, much more!\n"
     ]
    },
    {
     "data": {
      "text/plain": [
       "9"
      ]
     },
     "execution_count": 25,
     "metadata": {},
     "output_type": "execute_result"
    }
   ],
   "source": [
    "# Evaluating a code block\n",
    "print(\"You've successfully run some Python code\")\n",
    "print(\"Congratulations!\")\n",
    "print(\"Tell me much, much more!\")\n",
    "4+5"
   ]
  },
  {
   "cell_type": "code",
   "execution_count": 26,
   "id": "cbbb5caf-72ee-413b-9063-05e24d199cdc",
   "metadata": {},
   "outputs": [
    {
     "name": "stdout",
     "output_type": "stream",
     "text": [
      "What is the value of test? 3\n",
      "Oh yeahhh\n"
     ]
    }
   ],
   "source": [
    "# Another silly block of code\n",
    "test = 3\n",
    "print(\"What is the value of test?\", test)\n",
    "print(\"Oh yeahhh\")"
   ]
  },
  {
   "cell_type": "code",
   "execution_count": 27,
   "id": "92b39be9-6f60-4e74-aa62-9122af1d8067",
   "metadata": {},
   "outputs": [],
   "source": [
    "# Here is a code block with no code but this comment\n",
    "\n"
   ]
  },
  {
   "cell_type": "markdown",
   "id": "d3134237-e1c8-41d0-8ea4-859e88d4e3c3",
   "metadata": {},
   "source": [
    "Try adding some code of your own in the cell above and running it. \n",
    "\n",
    "<br>\n",
    "\n",
    "Now let's get a little fancier:  Add a new code cell by clicking on an existing code cell, hitting the escape key, and then hitting the `a` or `b` key.  The `a` key will add a cell above the current cell, and `b` adds a cell below.\n",
    "\n",
    "Great! Now you know how to use iPython Notebooks.\n",
    "\n",
    "<br>\n",
    "\n"
   ]
  },
  {
   "cell_type": "markdown",
   "id": "a842384d-21bc-4860-aa32-1373f6bd24a6",
   "metadata": {
    "tags": []
   },
   "source": [
    "\n",
    "### 5.1\n",
    "\n",
    "Complete the code below. In case it's helpful, here is the table of available arithmetic operations:\n",
    "\n",
    "\n",
    "\n",
    "| Operator     | Name           | Description                                            |\n",
    "|--------------|----------------|--------------------------------------------------------|\n",
    "| ``a + b``    | Addition       | Sum of ``a`` and ``b``                                 |\n",
    "| ``a - b``    | Subtraction    | Difference of ``a`` and ``b``                          |\n",
    "| ``a * b``    | Multiplication | Product of ``a`` and ``b``                             |\n",
    "| ``a / b``    | True division  | Quotient of ``a`` and ``b``                            |\n",
    "| ``a // b``   | Floor division | Quotient of ``a`` and ``b``, removing fractional parts |\n",
    "| ``a % b``    | Modulus        | Integer remainder after division of ``a`` by ``b``     |\n",
    "| ``a ** b``   | Exponentiation | ``a`` raised to the power of ``b``                     |\n",
    "| ``-a``       | Negation       | The negative of ``a``                                  |\n",
    "\n",
    "<span style=\"display:none\"></span>\n"
   ]
  },
  {
   "cell_type": "code",
   "execution_count": 29,
   "id": "f16efbb5-e270-4488-adaf-f33e1b3d5a14",
   "metadata": {
    "tags": []
   },
   "outputs": [],
   "source": [
    "pi = 3.14159 # approximation of pi\n",
    "diameter = 3\n",
    "\n",
    "# Create a variable called 'radius' equal to half the diameter:\n",
    "\n",
    "\n",
    "# Create a variable called 'area', using the formula for the area of a circle: pi times the radius squared:\n",
    "\n",
    "\n"
   ]
  },
  {
   "cell_type": "markdown",
   "id": "d3dda399-d5a5-4de1-80c3-e37b46b72f2a",
   "metadata": {},
   "source": [
    "<br>\n",
    "\n",
    "### 5.2\n",
    "\n",
    "Add code to the following cell to swap variables `a` and `b` (so that `a` refers to the object previously referred to by `b` and vice versa)."
   ]
  },
  {
   "cell_type": "code",
   "execution_count": 32,
   "id": "fae9fc8a-b6b8-41d7-a4c0-e49fc8c6cf1c",
   "metadata": {},
   "outputs": [],
   "source": [
    "########### Setup code - don't touch this part ######################\n",
    "# If you're curious, these are examples of lists. We'll talk about \n",
    "# them in depth a few lessons from now. For now, just know that they're\n",
    "# yet another type of Python object, like int or float.\n",
    "a = [1, 2, 3]\n",
    "b = [3, 2, 1]\n",
    "\n",
    "# Swap the values to which a and b refer.\n",
    "# Hint: you are just reassigning variables to \"recycle\" variable names here:\n",
    "\n",
    "\n"
   ]
  },
  {
   "cell_type": "markdown",
   "id": "859227db-4511-418b-a338-d36d5c288af1",
   "metadata": {},
   "source": [
    "<br>\n",
    "\n",
    "### 5.3\n",
    "\n",
    "a) Add parentheses to the following expression so that it evaluates to 1."
   ]
  },
  {
   "cell_type": "code",
   "execution_count": null,
   "id": "c2c57164-362c-40e5-b945-aae15ea58a6b",
   "metadata": {},
   "outputs": [],
   "source": [
    "# add parentheses!\n",
    "5 - 3 // 2"
   ]
  },
  {
   "cell_type": "markdown",
   "id": "7f58e24d-8b35-40ac-8911-fd6603bc4e3a",
   "metadata": {},
   "source": [
    "<br>\n",
    "\n",
    "<small>Questions, like this one, marked a spicy pepper are a bit harder.</small>\n",
    "\n",
    "b) <span title=\"A bit spicy\" style=\"color: darkgreen \">🌶️</span> Add parentheses to the following expression so that it evaluates to 0\n"
   ]
  },
  {
   "cell_type": "code",
   "execution_count": null,
   "id": "4ae5f44d-82a6-4842-a08b-434f10c0a1dd",
   "metadata": {},
   "outputs": [],
   "source": [
    "8 - 3 * 2 - 1 + 1"
   ]
  },
  {
   "cell_type": "markdown",
   "id": "7d16e6af-f0c3-4517-ad55-908e07027bcc",
   "metadata": {},
   "source": [
    "<br>\n",
    "\n",
    "### 5.4\n",
    "\n",
    "Alice, Bob and Carol have agreed to pool their Halloween candy and split it evenly among themselves.\n",
    "For the sake of their friendship, any candies left over will be smashed. For example, if they collectively\n",
    "bring home 91 candies, they'll take 30 each and smash 1.\n",
    "\n",
    "Write an arithmetic expression below to calculate how many candies they must smash for a given haul.\n",
    "\n",
    "<br>"
   ]
  },
  {
   "cell_type": "code",
   "execution_count": 34,
   "id": "ef02ecd9-881b-4190-9c1b-029f93205780",
   "metadata": {},
   "outputs": [],
   "source": [
    "# Variables representing the number of candies collected by alice, bob, and carol\n",
    "alice_candies = 121\n",
    "bob_candies = 77\n",
    "carol_candies = 109\n",
    "\n",
    "# Your code goes here! Replace the right-hand side of this assignment with an expression\n",
    "# involving alice_candies, bob_candies, and carol_candies\n",
    "to_smash = -1\n",
    "\n",
    "# Hint: you are looking for the integer remainder"
   ]
  },
  {
   "cell_type": "markdown",
   "id": "e478efef",
   "metadata": {
    "papermill": {
     "duration": 0.013462,
     "end_time": "2022-06-09T20:57:04.406770",
     "exception": false,
     "start_time": "2022-06-09T20:57:04.393308",
     "status": "completed"
    },
    "tags": []
   },
   "source": [
    "---\n",
    "\n",
    "\n",
    "\n",
    "\n",
    "*Have questions or comments? Visit the [course discussion forum](https://www.kaggle.com/learn/python/discussion) to chat with other learners.*"
   ]
  }
 ],
 "metadata": {
  "kernelspec": {
   "display_name": "Python 3 (ipykernel)",
   "language": "python",
   "name": "python3"
  },
  "language_info": {
   "codemirror_mode": {
    "name": "ipython",
    "version": 3
   },
   "file_extension": ".py",
   "mimetype": "text/x-python",
   "name": "python",
   "nbconvert_exporter": "python",
   "pygments_lexer": "ipython3",
   "version": "3.7.13"
  },
  "papermill": {
   "default_parameters": {},
   "duration": 12.547572,
   "end_time": "2022-06-09T20:57:05.342294",
   "environment_variables": {},
   "exception": null,
   "input_path": "__notebook__.ipynb",
   "output_path": "__notebook__.ipynb",
   "parameters": {},
   "start_time": "2022-06-09T20:56:52.794722",
   "version": "2.3.4"
  }
 },
 "nbformat": 4,
 "nbformat_minor": 5
}
